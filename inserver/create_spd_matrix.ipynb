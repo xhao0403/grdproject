{
 "cells": [
  {
   "cell_type": "code",
   "execution_count": 1,
   "id": "partial-enzyme",
   "metadata": {},
   "outputs": [],
   "source": [
    "import numpy as np"
   ]
  },
  {
   "cell_type": "code",
   "execution_count": 2,
   "id": "selective-wright",
   "metadata": {},
   "outputs": [],
   "source": [
    "def create_spd_matrix(X,Y, nums4group):\n",
    "    nums, nfeatures = X.shape\n",
    "    step = nums4group // 1\n",
    "    n = nums - (nums-(nums4group)) % step\n",
    "    nmatrix = int((n - (nums4group - step)) / step)\n",
    "    X_matrix = np.zeros(shape = (nums4group, nfeatures, nmatrix))\n",
    "    Y_ = np.zeros(shape=(nmatrix, 1))\n",
    "    for i in range(0,int(n - (nums4group - step)), step):\n",
    "        X_matrix[:,:, i // step] = X[i:i+nums4group,:]\n",
    "        \n",
    "    X_spd_matrix = np.zeros(shape = (nmatrix, nfeatures, nfeatures))\n",
    "    for i in range(nmatrix):\n",
    "        cov_matrix = np.cov(X_matrix[:,:,i].T)\n",
    "        X_spd_matrix[i,:,:] = cov_matrix + 0.01 * (np.trace(cov_matrix) + 1e-8) * np.eye(nfeatures, nfeatures)\n",
    "    train_spd_X = X_spd_matrix\n",
    "    for i in range(0,int(n - (nums4group - step)), step):\n",
    "        Y_[i // step] = np.argmax(np.bincount(Y[i:i+nums4group]))\n",
    "    train_spd_Y = Y_\n",
    "    return train_spd_X, train_spd_Y"
   ]
  },
  {
   "cell_type": "code",
   "execution_count": 3,
   "id": "intelligent-emission",
   "metadata": {},
   "outputs": [],
   "source": [
    "train_X_path = '/home/ubuntu/xuhao/data/train_npy_set/train_X.npy'\n",
    "train_Y_path = '/home/ubuntu/xuhao/data/train_npy_set/train_Y.npy'\n",
    "test_X_path = '/home/ubuntu/xuhao/data/test_npy_set/test_X.npy'\n",
    "test_Y_path = '/home/ubuntu/xuhao/data/test_npy_set/test_Y.npy'"
   ]
  },
  {
   "cell_type": "code",
   "execution_count": 4,
   "id": "improving-formula",
   "metadata": {},
   "outputs": [],
   "source": [
    "train_spd_X_path = '/home/ubuntu/xuhao/data/spd_train_npy_set/train_spd_X.npy'\n",
    "train_spd_Y_path = '/home/ubuntu/xuhao/data/spd_train_npy_set/train_spd_Y.npy'\n",
    "test_spd_X_path = '/home/ubuntu/xuhao/data/spd_test_npy_set/test_spd_X.npy'\n",
    "test_spd_Y_path = '/home/ubuntu/xuhao/data/spd_test_npy_set/test_spd_Y.npy'"
   ]
  },
  {
   "cell_type": "code",
   "execution_count": 5,
   "id": "known-cover",
   "metadata": {},
   "outputs": [],
   "source": [
    "train_X = np.load(train_X_path)\n",
    "train_Y = np.load(train_Y_path)\n",
    "test_X = np.load(test_X_path)\n",
    "test_Y = np.load(test_Y_path)"
   ]
  },
  {
   "cell_type": "code",
   "execution_count": 6,
   "id": "related-sustainability",
   "metadata": {},
   "outputs": [],
   "source": [
    "train_spd_X, train_spd_Y = create_spd_matrix(train_X, train_Y, nums4group=200)\n",
    "test_spd_X, test_spd_Y = create_spd_matrix(test_X, test_Y, nums4group=200)"
   ]
  },
  {
   "cell_type": "code",
   "execution_count": 7,
   "id": "amateur-station",
   "metadata": {},
   "outputs": [],
   "source": [
    "np.save(train_spd_X_path, train_spd_X)\n",
    "np.save(train_spd_Y_path, train_spd_Y)\n",
    "np.save(test_spd_X_path, test_spd_X)\n",
    "np.save(test_spd_Y_path, test_spd_Y)"
   ]
  },
  {
   "cell_type": "code",
   "execution_count": null,
   "id": "virgin-formula",
   "metadata": {},
   "outputs": [],
   "source": []
  }
 ],
 "metadata": {
  "kernelspec": {
   "display_name": "Python [conda env:grdenv] *",
   "language": "python",
   "name": "conda-env-grdenv-py"
  },
  "language_info": {
   "codemirror_mode": {
    "name": "ipython",
    "version": 3
   },
   "file_extension": ".py",
   "mimetype": "text/x-python",
   "name": "python",
   "nbconvert_exporter": "python",
   "pygments_lexer": "ipython3",
   "version": "3.7.10"
  }
 },
 "nbformat": 4,
 "nbformat_minor": 5
}
