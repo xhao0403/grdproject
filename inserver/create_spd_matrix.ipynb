{
 "cells": [
  {
   "cell_type": "code",
   "execution_count": 1,
   "id": "partial-enzyme",
   "metadata": {},
   "outputs": [],
   "source": [
    "import numpy as np"
   ]
  },
  {
   "cell_type": "code",
   "execution_count": null,
   "id": "selective-wright",
   "metadata": {},
   "outputs": [],
   "source": []
  },
  {
   "cell_type": "code",
   "execution_count": 2,
   "id": "intelligent-emission",
   "metadata": {},
   "outputs": [],
   "source": [
    "train_X_path = '/home/ubuntu/xuhao/data/train_npy_set/train_X.npy'\n",
    "train_Y_path = '/home/ubuntu/xuhao/data/train_npy_set/train_Y.npy'\n",
    "test_X_path = '/home/ubuntu/xuhao/data/test_npy_set/test_X.npy'\n",
    "test_Y_path = '/home/ubuntu/xuhao/data/test_npy_set/test_Y.npy'"
   ]
  },
  {
   "cell_type": "code",
   "execution_count": 3,
   "id": "improving-formula",
   "metadata": {},
   "outputs": [],
   "source": [
    "train_spd_X_path = '/home/ubuntu/xuhao/data/spd_train_npy_set/train_spd_X.npy'\n",
    "train_spd_Y_path = '/home/ubuntu/xuhao/data/spd_train_npy_set/train_spd_Y.npy'\n",
    "test_spd_X_path = '/home/ubuntu/xuhao/data/spd_test_npy_set/test_spd_X.npy'\n",
    "test_spd_Y_path = '/home/ubuntu/xuhao/data/spd_test_npy_set/test_spd_Y.npy'"
   ]
  },
  {
   "cell_type": "code",
   "execution_count": 4,
   "id": "known-cover",
   "metadata": {},
   "outputs": [],
   "source": [
    "train_X = np.load(train_X_path)\n",
    "train_Y = np.load(train_Y_path)\n",
    "test_X = np.load(test_X_path)\n",
    "test_Y = np.load(test_Y_path)"
   ]
  },
  {
   "cell_type": "code",
   "execution_count": 5,
   "id": "related-sustainability",
   "metadata": {},
   "outputs": [
    {
     "ename": "NameError",
     "evalue": "name 'create_spd_matrix' is not defined",
     "output_type": "error",
     "traceback": [
      "\u001b[0;31m---------------------------------------------------------------------------\u001b[0m",
      "\u001b[0;31mNameError\u001b[0m                                 Traceback (most recent call last)",
      "\u001b[0;32m<ipython-input-5-e68a938b9aa8>\u001b[0m in \u001b[0;36m<module>\u001b[0;34m\u001b[0m\n\u001b[0;32m----> 1\u001b[0;31m \u001b[0mtrain_spd_X\u001b[0m\u001b[0;34m,\u001b[0m \u001b[0mtrain_spd_Y\u001b[0m \u001b[0;34m=\u001b[0m \u001b[0mcreate_spd_matrix\u001b[0m\u001b[0;34m(\u001b[0m\u001b[0mtrain_X\u001b[0m\u001b[0;34m,\u001b[0m \u001b[0mtrain_Y\u001b[0m\u001b[0;34m,\u001b[0m \u001b[0mnums4group\u001b[0m\u001b[0;34m=\u001b[0m\u001b[0;36m200\u001b[0m\u001b[0;34m)\u001b[0m\u001b[0;34m\u001b[0m\u001b[0;34m\u001b[0m\u001b[0m\n\u001b[0m\u001b[1;32m      2\u001b[0m \u001b[0mtest_spd_X\u001b[0m\u001b[0;34m,\u001b[0m \u001b[0mtest_spd_Y\u001b[0m \u001b[0;34m=\u001b[0m \u001b[0mcreate_spd_matrix\u001b[0m\u001b[0;34m(\u001b[0m\u001b[0mtest_X\u001b[0m\u001b[0;34m,\u001b[0m \u001b[0mtest_Y\u001b[0m\u001b[0;34m,\u001b[0m \u001b[0mnums4group\u001b[0m\u001b[0;34m=\u001b[0m\u001b[0;36m200\u001b[0m\u001b[0;34m)\u001b[0m\u001b[0;34m\u001b[0m\u001b[0;34m\u001b[0m\u001b[0m\n",
      "\u001b[0;31mNameError\u001b[0m: name 'create_spd_matrix' is not defined"
     ]
    }
   ],
   "source": [
    "train_spd_X, train_spd_Y = create_spd_matrix(train_X, train_Y, nums4group=200)\n",
    "test_spd_X, test_spd_Y = create_spd_matrix(test_X, test_Y, nums4group=200)"
   ]
  },
  {
   "cell_type": "code",
   "execution_count": null,
   "id": "amateur-station",
   "metadata": {},
   "outputs": [],
   "source": [
    "np.save(train_spd_X_path, train_spd_X)\n",
    "np.save(train_spd_Y_path, train_spd_Y)\n",
    "np.save(test_spd_X_path, test_spd_X)\n",
    "np.save(test_spd_Y_path, test_spd_Y)"
   ]
  },
  {
   "cell_type": "code",
   "execution_count": null,
   "id": "virgin-formula",
   "metadata": {},
   "outputs": [],
   "source": []
  }
 ],
 "metadata": {
  "kernelspec": {
   "display_name": "Python [conda env:grdenv] *",
   "language": "python",
   "name": "conda-env-grdenv-py"
  },
  "language_info": {
   "codemirror_mode": {
    "name": "ipython",
    "version": 3
   },
   "file_extension": ".py",
   "mimetype": "text/x-python",
   "name": "python",
   "nbconvert_exporter": "python",
   "pygments_lexer": "ipython3",
   "version": "3.7.10"
  }
 },
 "nbformat": 4,
 "nbformat_minor": 5
}
