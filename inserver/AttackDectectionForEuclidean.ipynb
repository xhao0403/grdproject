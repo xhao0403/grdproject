{
 "cells": [
  {
   "cell_type": "markdown",
   "metadata": {},
   "source": [
    "## Attack Dectection For Euclidean"
   ]
  },
  {
   "cell_type": "code",
   "execution_count": 1,
   "metadata": {},
   "outputs": [],
   "source": [
    "# import libs\n",
    "import numpy as np\n",
    "import pandas as pd\n",
    "import os\n",
    "import scipy.io as io\n",
    "from sklearn import preprocessing\n",
    "from scipy.stats import pearsonr\n",
    "from sklearn.feature_selection import SelectKBest\n",
    "from sklearn.feature_selection import chi2\n",
    "from numpy import array\n",
    "from sklearn.feature_selection import RFE\n",
    "from sklearn.linear_model import LogisticRegression\n",
    "from sklearn.svm import SVC\n",
    "from sklearn.ensemble import RandomForestClassifier\n",
    "from sklearn.feature_selection import SelectFromModel\n",
    "from sklearn.ensemble import GradientBoostingClassifier\n",
    "from sklearn.ensemble import ExtraTreesClassifier\n",
    "import math\n",
    "from scipy.linalg import expm,logm\n",
    "from sklearn.metrics import accuracy_score, precision_score, recall_score, f1_score, confusion_matrix, classification_report"
   ]
  },
  {
   "cell_type": "code",
   "execution_count": 2,
   "metadata": {},
   "outputs": [],
   "source": [
    "train_X_path = '/home/ubuntu/xuhao/data/train_npy_set/train_X.npy'\n",
    "train_Y_path = '/home/ubuntu/xuhao/data/train_npy_set/train_Y.npy'\n",
    "test_X_path = '/home/ubuntu/xuhao/data/test_npy_set/test_X.npy'\n",
    "test_Y_path = '/home/ubuntu/xuhao/data/test_npy_set/test_Y.npy'"
   ]
  },
  {
   "cell_type": "code",
   "execution_count": 3,
   "metadata": {},
   "outputs": [],
   "source": [
    "train_X = np.load(train_X_path)\n",
    "train_Y = np.load(train_Y_path)\n",
    "test_X = np.load(test_X_path)\n",
    "test_Y = np.load(test_Y_path)"
   ]
  },
  {
   "cell_type": "code",
   "execution_count": 4,
   "metadata": {},
   "outputs": [
    {
     "name": "stdout",
     "output_type": "stream",
     "text": [
      "0.5444806503628057\n",
      "0.5444806503628057\n",
      "0.5444806503628057\n",
      "0.5444806503628057\n",
      "              precision    recall  f1-score   support\n",
      "\n",
      "           0       0.28      0.80      0.41     48595\n",
      "           1       0.43      0.72      0.54     49063\n",
      "           2       0.27      0.08      0.12     49340\n",
      "           3       0.93      0.01      0.02     48395\n",
      "           4       0.98      1.00      0.99     43546\n",
      "           5       1.00      0.99      0.99    111271\n",
      "           6       0.40      0.42      0.41     49221\n",
      "           7       0.53      0.00      0.00     48560\n",
      "           8       0.98      0.61      0.75     49083\n",
      "           9       0.62      0.77      0.69     49897\n",
      "          10       0.05      0.06      0.06     48389\n",
      "\n",
      "    accuracy                           0.54    595360\n",
      "   macro avg       0.59      0.50      0.45    595360\n",
      "weighted avg       0.63      0.54      0.51    595360\n",
      "\n"
     ]
    }
   ],
   "source": [
    "## 极限树\n",
    "Extra_model = ExtraTreesClassifier(random_state = 1).fit(train_X,train_Y)\n",
    "\n",
    "test_Y_hat = Extra_model.predict(test_X)\n",
    "\n",
    "print(accuracy_score(test_Y, test_Y_hat))\n",
    "print(precision_score(test_Y, test_Y_hat,average='micro'))\n",
    "print(recall_score(test_Y, test_Y_hat,average='micro'))\n",
    "print(f1_score(test_Y, test_Y_hat,average='micro'))\n",
    "print(classification_report(test_Y, test_Y_hat))"
   ]
  },
  {
   "cell_type": "code",
   "execution_count": 5,
   "metadata": {
    "scrolled": true
   },
   "outputs": [
    {
     "name": "stdout",
     "output_type": "stream",
     "text": [
      "0.4709436307444235\n",
      "0.4709436307444235\n",
      "0.4709436307444235\n",
      "0.4709436307444235\n",
      "              precision    recall  f1-score   support\n",
      "\n",
      "           0       0.28      0.81      0.41     48595\n",
      "           1       0.37      0.92      0.53     49063\n",
      "           2       0.16      0.13      0.14     49340\n",
      "           3       0.81      0.01      0.01     48395\n",
      "           4       0.96      1.00      0.98     43546\n",
      "           5       1.00      0.98      0.99    111271\n",
      "           6       0.35      0.37      0.36     49221\n",
      "           7       0.02      0.00      0.00     48560\n",
      "           8       0.70      0.03      0.05     49083\n",
      "           9       0.71      0.23      0.35     49897\n",
      "          10       0.08      0.11      0.09     48389\n",
      "\n",
      "    accuracy                           0.47    595360\n",
      "   macro avg       0.49      0.42      0.36    595360\n",
      "weighted avg       0.54      0.47      0.42    595360\n",
      "\n"
     ]
    }
   ],
   "source": [
    "## 随机森林\n",
    "RandomForest_model = RandomForestClassifier().fit(train_X,train_Y)\n",
    "\n",
    "test_Y_hat = RandomForest_model.predict(test_X)\n",
    "\n",
    "print(accuracy_score(test_Y, test_Y_hat))\n",
    "print(precision_score(test_Y, test_Y_hat,average='micro'))\n",
    "print(recall_score(test_Y, test_Y_hat,average='micro'))\n",
    "print(f1_score(test_Y, test_Y_hat,average='micro'))\n",
    "print(classification_report(test_Y, test_Y_hat))"
   ]
  },
  {
   "cell_type": "code",
   "execution_count": 6,
   "metadata": {},
   "outputs": [
    {
     "name": "stdout",
     "output_type": "stream",
     "text": [
      "0.5645525396398817\n",
      "0.5645525396398817\n",
      "0.5645525396398817\n",
      "0.5645525396398817\n",
      "              precision    recall  f1-score   support\n",
      "\n",
      "           0       0.30      0.91      0.46     48595\n",
      "           1       0.41      0.70      0.52     49063\n",
      "           2       0.38      0.16      0.22     49340\n",
      "           3       0.92      0.10      0.19     48395\n",
      "           4       0.95      1.00      0.98     43546\n",
      "           5       1.00      0.98      0.99    111271\n",
      "           6       0.44      0.34      0.38     49221\n",
      "           7       0.00      0.00      0.00     48560\n",
      "           8       0.99      0.72      0.84     49083\n",
      "           9       0.62      0.74      0.67     49897\n",
      "          10       0.05      0.05      0.05     48389\n",
      "\n",
      "    accuracy                           0.56    595360\n",
      "   macro avg       0.55      0.52      0.48    595360\n",
      "weighted avg       0.60      0.56      0.53    595360\n",
      "\n"
     ]
    }
   ],
   "source": [
    "## GBDT\n",
    "from sklearn.ensemble import GradientBoostingClassifier\n",
    "\n",
    "GBDT_model = GradientBoostingClassifier().fit(train_X, train_Y)\n",
    "test_Y_hat = GBDT_model.predict(test_X)\n",
    "\n",
    "print(accuracy_score(test_Y, test_Y_hat))\n",
    "print(precision_score(test_Y, test_Y_hat,average='micro'))\n",
    "print(recall_score(test_Y, test_Y_hat,average='micro'))\n",
    "print(f1_score(test_Y, test_Y_hat,average='micro'))\n",
    "print(classification_report(test_Y, test_Y_hat))"
   ]
  },
  {
   "cell_type": "code",
   "execution_count": 7,
   "metadata": {},
   "outputs": [],
   "source": [
    "# ## SVM\n",
    "# from sklearn.svm import SVC\n",
    "# svm_model = SVC(kernel='linear', C = 1.0, random_state=1).fit(train_X, train_Y)\n",
    "\n",
    "# test_Y_hat = svm_model.predict(test_X)\n",
    "\n",
    "# print(accuracy_score(test_Y, test_Y_hat))\n",
    "# print(precision_score(test_Y, test_Y_hat,average='micro'))\n",
    "# print(recall_score(test_Y, test_Y_hat,average='micro'))\n",
    "# print(f1_score(test_Y, test_Y_hat,average='micro'))\n",
    "# print(classification_report(test_Y, test_Y_hat))"
   ]
  },
  {
   "cell_type": "code",
   "execution_count": 8,
   "metadata": {},
   "outputs": [
    {
     "name": "stdout",
     "output_type": "stream",
     "text": [
      "0.5709285138403655\n",
      "0.5709285138403655\n",
      "0.5709285138403655\n",
      "0.5709285138403655\n",
      "              precision    recall  f1-score   support\n",
      "\n",
      "           0       0.31      0.94      0.47     48595\n",
      "           1       0.59      0.00      0.00     49063\n",
      "           2       0.04      0.00      0.00     49340\n",
      "           3       0.92      0.99      0.95     48395\n",
      "           4       0.84      0.89      0.86     43546\n",
      "           5       0.99      0.84      0.91    111271\n",
      "           6       0.49      0.45      0.47     49221\n",
      "           7       0.12      0.02      0.04     48560\n",
      "           8       0.86      0.87      0.86     49083\n",
      "           9       0.33      0.95      0.49     49897\n",
      "          10       0.15      0.01      0.02     48389\n",
      "\n",
      "    accuracy                           0.57    595360\n",
      "   macro avg       0.51      0.54      0.46    595360\n",
      "weighted avg       0.56      0.57      0.50    595360\n",
      "\n"
     ]
    }
   ],
   "source": [
    "## AdaBoost\n",
    "from sklearn.ensemble import AdaBoostClassifier\n",
    "\n",
    "AdaBoost_model = AdaBoostClassifier().fit(train_X, train_Y)\n",
    "test_Y_hat = AdaBoost_model.predict(test_X)\n",
    "\n",
    "print(accuracy_score(test_Y, test_Y_hat))\n",
    "print(precision_score(test_Y, test_Y_hat,average='micro'))\n",
    "print(recall_score(test_Y, test_Y_hat,average='micro'))\n",
    "print(f1_score(test_Y, test_Y_hat,average='micro'))\n",
    "print(classification_report(test_Y, test_Y_hat))"
   ]
  },
  {
   "cell_type": "code",
   "execution_count": 9,
   "metadata": {},
   "outputs": [
    {
     "name": "stdout",
     "output_type": "stream",
     "text": [
      "0.4951004434291857\n",
      "0.4951004434291857\n",
      "0.4951004434291857\n",
      "0.4951004434291857\n",
      "              precision    recall  f1-score   support\n",
      "\n",
      "           0       0.41      0.77      0.53     48595\n",
      "           1       0.42      0.71      0.53     49063\n",
      "           2       0.39      0.65      0.49     49340\n",
      "           3       0.11      0.01      0.02     48395\n",
      "           4       0.96      0.98      0.97     43546\n",
      "           5       0.99      0.98      0.98    111271\n",
      "           6       0.03      0.02      0.02     49221\n",
      "           7       0.00      0.00      0.00     48560\n",
      "           8       0.00      0.00      0.00     49083\n",
      "           9       0.61      0.68      0.65     49897\n",
      "          10       0.04      0.07      0.05     48389\n",
      "\n",
      "    accuracy                           0.50    595360\n",
      "   macro avg       0.36      0.44      0.39    595360\n",
      "weighted avg       0.42      0.50      0.45    595360\n",
      "\n"
     ]
    }
   ],
   "source": [
    "## 决策树\n",
    "\n",
    "from sklearn.tree import DecisionTreeClassifier\n",
    "\n",
    "DecisionTree_model = DecisionTreeClassifier(random_state=3).fit(train_X, train_Y)\n",
    "test_Y_hat = DecisionTree_model.predict(test_X)\n",
    "\n",
    "print(accuracy_score(test_Y, test_Y_hat))\n",
    "print(precision_score(test_Y, test_Y_hat,average='micro'))\n",
    "print(recall_score(test_Y, test_Y_hat,average='micro'))\n",
    "print(f1_score(test_Y, test_Y_hat,average='micro'))\n",
    "print(classification_report(test_Y, test_Y_hat))"
   ]
  },
  {
   "cell_type": "code",
   "execution_count": 10,
   "metadata": {},
   "outputs": [
    {
     "name": "stderr",
     "output_type": "stream",
     "text": [
      "/home/ubuntu/miniconda3/envs/grdenv/lib/python3.7/site-packages/sklearn/linear_model/_logistic.py:765: ConvergenceWarning: lbfgs failed to converge (status=1):\n",
      "STOP: TOTAL NO. of ITERATIONS REACHED LIMIT.\n",
      "\n",
      "Increase the number of iterations (max_iter) or scale the data as shown in:\n",
      "    https://scikit-learn.org/stable/modules/preprocessing.html\n",
      "Please also refer to the documentation for alternative solver options:\n",
      "    https://scikit-learn.org/stable/modules/linear_model.html#logistic-regression\n",
      "  extra_warning_msg=_LOGISTIC_SOLVER_CONVERGENCE_MSG)\n"
     ]
    },
    {
     "name": "stdout",
     "output_type": "stream",
     "text": [
      "0.643652579951626\n",
      "0.643652579951626\n",
      "0.643652579951626\n",
      "0.643652579951626\n",
      "              precision    recall  f1-score   support\n",
      "\n",
      "           0       0.39      0.88      0.54     48595\n",
      "           1       0.45      0.63      0.53     49063\n",
      "           2       0.09      0.00      0.00     49340\n",
      "           3       0.80      0.99      0.88     48395\n",
      "           4       0.78      0.76      0.77     43546\n",
      "           5       0.90      0.84      0.87    111271\n",
      "           6       0.47      0.52      0.49     49221\n",
      "           7       1.00      0.54      0.70     48560\n",
      "           8       0.93      0.93      0.93     49083\n",
      "           9       0.53      0.73      0.61     49897\n",
      "          10       0.09      0.02      0.03     48389\n",
      "\n",
      "    accuracy                           0.64    595360\n",
      "   macro avg       0.58      0.62      0.58    595360\n",
      "weighted avg       0.61      0.64      0.61    595360\n",
      "\n"
     ]
    }
   ],
   "source": [
    "## 逻辑回归\n",
    "\n",
    "from sklearn.linear_model import LogisticRegression\n",
    "lr_model = LogisticRegression(penalty='l2').fit(train_X, train_Y)\n",
    "test_Y_hat = lr_model.predict(test_X)\n",
    "print(accuracy_score(test_Y, test_Y_hat))\n",
    "print(precision_score(test_Y, test_Y_hat,average='micro'))\n",
    "print(recall_score(test_Y, test_Y_hat,average='micro'))\n",
    "print(f1_score(test_Y, test_Y_hat,average='micro'))\n",
    "print(classification_report(test_Y, test_Y_hat))"
   ]
  },
  {
   "cell_type": "code",
   "execution_count": 11,
   "metadata": {},
   "outputs": [
    {
     "name": "stdout",
     "output_type": "stream",
     "text": [
      "0.6062416017199678\n",
      "0.6062416017199678\n",
      "0.6062416017199678\n",
      "0.6062416017199678\n",
      "              precision    recall  f1-score   support\n",
      "\n",
      "           0       0.37      0.76      0.49     48595\n",
      "           1       0.44      0.61      0.51     49063\n",
      "           2       0.49      0.32      0.39     49340\n",
      "           3       0.90      0.08      0.15     48395\n",
      "           4       0.97      1.00      0.98     43546\n",
      "           5       1.00      0.99      0.99    111271\n",
      "           6       0.38      0.17      0.24     49221\n",
      "           7       0.99      0.54      0.70     48560\n",
      "           8       0.76      0.88      0.81     49083\n",
      "           9       0.62      0.71      0.66     49897\n",
      "          10       0.11      0.17      0.14     48389\n",
      "\n",
      "    accuracy                           0.61    595360\n",
      "   macro avg       0.64      0.57      0.55    595360\n",
      "weighted avg       0.67      0.61      0.59    595360\n",
      "\n"
     ]
    }
   ],
   "source": [
    "## KNN\n",
    "\n",
    "from sklearn.neighbors import KNeighborsClassifier\n",
    "from sklearn.model_selection import cross_val_score\n",
    "knn_model = KNeighborsClassifier(n_neighbors=7).fit(train_X, train_Y)\n",
    "test_Y_hat = knn_model.predict(test_X)\n",
    "print(accuracy_score(test_Y, test_Y_hat))\n",
    "print(precision_score(test_Y, test_Y_hat,average='micro'))\n",
    "print(recall_score(test_Y, test_Y_hat,average='micro'))\n",
    "print(f1_score(test_Y, test_Y_hat,average='micro'))\n",
    "print(classification_report(test_Y, test_Y_hat))"
   ]
  },
  {
   "cell_type": "code",
   "execution_count": 13,
   "metadata": {},
   "outputs": [
    {
     "name": "stdout",
     "output_type": "stream",
     "text": [
      "0.6085242542327332\n",
      "0.6085242542327332\n",
      "0.6085242542327332\n",
      "0.6085242542327332\n",
      "              precision    recall  f1-score   support\n",
      "\n",
      "           0       0.38      0.85      0.53     48595\n",
      "           1       0.14      0.05      0.07     49063\n",
      "           2       0.50      0.48      0.49     49340\n",
      "           3       0.94      0.98      0.96     48395\n",
      "           4       0.72      1.00      0.84     43546\n",
      "           5       1.00      0.79      0.88    111271\n",
      "           6       0.23      0.11      0.15     49221\n",
      "           7       1.00      0.54      0.70     48560\n",
      "           8       0.93      0.85      0.89     49083\n",
      "           9       0.58      0.00      0.01     49897\n",
      "          10       0.33      0.88      0.48     48389\n",
      "\n",
      "    accuracy                           0.61    595360\n",
      "   macro avg       0.61      0.59      0.54    595360\n",
      "weighted avg       0.65      0.61      0.58    595360\n",
      "\n"
     ]
    }
   ],
   "source": [
    "## naive_bayes\n",
    "import sklearn.naive_bayes as nb\n",
    "\n",
    "# 1.加载数据\n",
    "# 2.构建高斯朴素贝叶斯模型\n",
    "nb_model = nb.GaussianNB().fit(train_X, train_Y)\n",
    "\n",
    "test_Y_hat = nb_model.predict(test_X)\n",
    "print(accuracy_score(test_Y, test_Y_hat))\n",
    "print(precision_score(test_Y, test_Y_hat,average='micro'))\n",
    "print(recall_score(test_Y, test_Y_hat,average='micro'))\n",
    "print(f1_score(test_Y, test_Y_hat,average='micro'))\n",
    "print(classification_report(test_Y, test_Y_hat))"
   ]
  },
  {
   "cell_type": "code",
   "execution_count": null,
   "metadata": {},
   "outputs": [],
   "source": []
  }
 ],
 "metadata": {
  "kernelspec": {
   "display_name": "Python [conda env:grdenv]",
   "language": "python",
   "name": "conda-env-grdenv-py"
  },
  "language_info": {
   "codemirror_mode": {
    "name": "ipython",
    "version": 3
   },
   "file_extension": ".py",
   "mimetype": "text/x-python",
   "name": "python",
   "nbconvert_exporter": "python",
   "pygments_lexer": "ipython3",
   "version": "3.7.10"
  }
 },
 "nbformat": 4,
 "nbformat_minor": 4
}
