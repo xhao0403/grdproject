{
 "cells": [
  {
   "cell_type": "code",
   "execution_count": 8,
   "id": "defensive-dance",
   "metadata": {},
   "outputs": [],
   "source": [
    "import numpy as np"
   ]
  },
  {
   "cell_type": "code",
   "execution_count": 9,
   "id": "changing-thirty",
   "metadata": {},
   "outputs": [],
   "source": [
    "train_spd_X_path = '/home/ubuntu/xuhao/data/spd_train_npy_set/train_spd_X.npy'\n",
    "train_spd_Y_path = '/home/ubuntu/xuhao/data/spd_train_npy_set/train_spd_Y.npy'\n",
    "test_spd_X_path = '/home/ubuntu/xuhao/data/spd_test_npy_set/test_spd_X.npy'\n",
    "test_spd_Y_path = '/home/ubuntu/xuhao/data/spd_test_npy_set/test_spd_Y.npy'"
   ]
  },
  {
   "cell_type": "code",
   "execution_count": 10,
   "id": "floppy-loading",
   "metadata": {},
   "outputs": [],
   "source": [
    "train_spd_X = np.load(train_spd_X_path)\n",
    "train_spd_Y = np.load(train_spd_Y_path)\n",
    "test_spd_X = np.load(test_spd_X_path)\n",
    "test_spd_Y = np.load(test_spd_Y_path)"
   ]
  },
  {
   "cell_type": "code",
   "execution_count": 12,
   "id": "musical-majority",
   "metadata": {},
   "outputs": [
    {
     "name": "stdout",
     "output_type": "stream",
     "text": [
      "np.unique(data)\n",
      " [ 0.  1.  2.  3.  4.  5.  6.  7.  8.  9. 10.]\n",
      "np.unique(data)\n",
      " [ 0.  1.  2.  3.  4.  5.  6.  7.  8.  9. 10.]\n",
      "972\n",
      "968\n",
      "998\n",
      "983\n",
      "984\n",
      "987\n",
      "969\n",
      "972\n",
      "999\n",
      "994\n",
      "872\n",
      "243\n",
      "242\n",
      "249\n",
      "246\n",
      "246\n",
      "247\n",
      "242\n",
      "243\n",
      "250\n",
      "248\n",
      "218\n"
     ]
    }
   ],
   "source": [
    "data1 = train_spd_Y\n",
    "data2 = test_spd_Y\n",
    "print('np.unique(data)\\n',np.unique(data1)) # unique返回的是已排序数组\n",
    "print('np.unique(data)\\n',np.unique(data2))\n",
    "for i in np.unique(data1):\n",
    "    print(np.sum(data1==i)) \n",
    "for i in np.unique(data2):\n",
    "    print(np.sum(data2==i)) "
   ]
  },
  {
   "cell_type": "code",
   "execution_count": 13,
   "id": "announced-document",
   "metadata": {},
   "outputs": [],
   "source": [
    "train_X_path = '/home/ubuntu/xuhao/data/train_npy_set/train_X.npy'\n",
    "train_Y_path = '/home/ubuntu/xuhao/data/train_npy_set/train_Y.npy'\n",
    "test_X_path = '/home/ubuntu/xuhao/data/test_npy_set/test_X.npy'\n",
    "test_Y_path = '/home/ubuntu/xuhao/data/test_npy_set/test_Y.npy'"
   ]
  },
  {
   "cell_type": "code",
   "execution_count": 14,
   "id": "virgin-ivory",
   "metadata": {},
   "outputs": [],
   "source": [
    "train_X = np.load(train_X_path)\n",
    "train_Y = np.load(train_Y_path)\n",
    "test_X = np.load(test_X_path)\n",
    "test_Y = np.load(test_Y_path)"
   ]
  },
  {
   "cell_type": "code",
   "execution_count": 16,
   "id": "settled-commons",
   "metadata": {},
   "outputs": [
    {
     "name": "stdout",
     "output_type": "stream",
     "text": [
      "np.unique(data)\n",
      " [ 0  1  2  3  4  5  6  7  8  9 10]\n",
      "np.unique(data)\n",
      " [ 0  1  2  3  4  5  6  7  8  9 10]\n",
      "194193\n",
      "193567\n",
      "199553\n",
      "196352\n",
      "196744\n",
      "197252\n",
      "193516\n",
      "194391\n",
      "203235\n",
      "196432\n",
      "174443\n",
      "48560\n",
      "48395\n",
      "49897\n",
      "49063\n",
      "49221\n",
      "49340\n",
      "48389\n",
      "48595\n",
      "50762\n",
      "49083\n",
      "43546\n"
     ]
    }
   ],
   "source": [
    "data1 = train_Y\n",
    "data2 = test_Y\n",
    "print('np.unique(data)\\n',np.unique(data1)) # unique返回的是已排序数组\n",
    "print('np.unique(data)\\n',np.unique(data2))\n",
    "for i in np.unique(data1):\n",
    "    print(np.sum(data1==i)) \n",
    "for i in np.unique(data2):\n",
    "    print(np.sum(data2==i)) "
   ]
  },
  {
   "cell_type": "code",
   "execution_count": null,
   "id": "awful-prescription",
   "metadata": {},
   "outputs": [],
   "source": []
  }
 ],
 "metadata": {
  "kernelspec": {
   "display_name": "Python [conda env:grdenv] *",
   "language": "python",
   "name": "conda-env-grdenv-py"
  },
  "language_info": {
   "codemirror_mode": {
    "name": "ipython",
    "version": 3
   },
   "file_extension": ".py",
   "mimetype": "text/x-python",
   "name": "python",
   "nbconvert_exporter": "python",
   "pygments_lexer": "ipython3",
   "version": "3.7.10"
  }
 },
 "nbformat": 4,
 "nbformat_minor": 5
}
