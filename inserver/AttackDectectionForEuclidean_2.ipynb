{
 "cells": [
  {
   "cell_type": "markdown",
   "metadata": {},
   "source": [
    "## Attack Dectection For Euclidean"
   ]
  },
  {
   "cell_type": "code",
   "execution_count": 1,
   "metadata": {},
   "outputs": [],
   "source": [
    "# import libs\n",
    "import numpy as np\n",
    "import pandas as pd\n",
    "import os\n",
    "import scipy.io as io\n",
    "from sklearn import preprocessing\n",
    "from scipy.stats import pearsonr\n",
    "from sklearn.feature_selection import SelectKBest\n",
    "from sklearn.feature_selection import chi2\n",
    "from numpy import array\n",
    "from sklearn.feature_selection import RFE\n",
    "from sklearn.linear_model import LogisticRegression\n",
    "from sklearn.svm import SVC\n",
    "from sklearn.ensemble import RandomForestClassifier\n",
    "from sklearn.feature_selection import SelectFromModel\n",
    "from sklearn.ensemble import GradientBoostingClassifier\n",
    "from sklearn.ensemble import ExtraTreesClassifier\n",
    "import math\n",
    "from scipy.linalg import expm,logm\n",
    "from sklearn.metrics import accuracy_score, precision_score, recall_score, f1_score, confusion_matrix, classification_report"
   ]
  },
  {
   "cell_type": "code",
   "execution_count": 2,
   "metadata": {},
   "outputs": [],
   "source": [
    "train_X_path = '/home/ubuntu/xuhao/data/train_npy_set/train_X.npy'\n",
    "train_Y_path = '/home/ubuntu/xuhao/data/train_npy_set/train_Y.npy'\n",
    "test_X_path = '/home/ubuntu/xuhao/data/test_npy_set/test_X.npy'\n",
    "test_Y_path = '/home/ubuntu/xuhao/data/test_npy_set/test_Y.npy'"
   ]
  },
  {
   "cell_type": "code",
   "execution_count": 3,
   "metadata": {},
   "outputs": [],
   "source": [
    "train_X = np.load(train_X_path)\n",
    "train_Y = np.load(train_Y_path)\n",
    "test_X = np.load(test_X_path)\n",
    "test_Y = np.load(test_Y_path)"
   ]
  },
  {
   "cell_type": "code",
   "execution_count": 4,
   "metadata": {},
   "outputs": [
    {
     "name": "stdout",
     "output_type": "stream",
     "text": [
      "0.7878680230568887\n",
      "0.7878680230568887\n",
      "0.7878680230568887\n",
      "0.7878680230568887\n",
      "              precision    recall  f1-score   support\n",
      "\n",
      "           0       1.00      0.99      1.00     48560\n",
      "           1       0.95      0.99      0.97     48395\n",
      "           2       0.62      0.87      0.72     49897\n",
      "           3       0.50      0.63      0.56     49063\n",
      "           4       0.51      0.33      0.40     49221\n",
      "           5       0.51      0.68      0.58     49340\n",
      "           6       0.82      0.26      0.39     48389\n",
      "           7       0.93      0.95      0.94     48595\n",
      "           8       1.00      1.00      1.00     50762\n",
      "           9       0.99      1.00      1.00     49083\n",
      "          10       0.99      1.00      0.99     43546\n",
      "\n",
      "    accuracy                           0.79    534851\n",
      "   macro avg       0.80      0.79      0.78    534851\n",
      "weighted avg       0.80      0.79      0.78    534851\n",
      "\n"
     ]
    }
   ],
   "source": [
    "## 极限树\n",
    "Extra_model = ExtraTreesClassifier(random_state = 1).fit(train_X,train_Y)\n",
    "\n",
    "test_Y_hat = Extra_model.predict(test_X)\n",
    "\n",
    "print(accuracy_score(test_Y, test_Y_hat))\n",
    "print(precision_score(test_Y, test_Y_hat,average='micro'))\n",
    "print(recall_score(test_Y, test_Y_hat,average='micro'))\n",
    "print(f1_score(test_Y, test_Y_hat,average='micro'))\n",
    "print(classification_report(test_Y, test_Y_hat))"
   ]
  },
  {
   "cell_type": "code",
   "execution_count": 5,
   "metadata": {
    "scrolled": true
   },
   "outputs": [
    {
     "name": "stdout",
     "output_type": "stream",
     "text": [
      "0.7923739508760383\n",
      "0.7923739508760383\n",
      "0.7923739508760383\n",
      "0.7923739508760385\n",
      "              precision    recall  f1-score   support\n",
      "\n",
      "           0       1.00      0.99      1.00     48560\n",
      "           1       0.95      0.99      0.97     48395\n",
      "           2       0.66      0.86      0.75     49897\n",
      "           3       0.51      0.65      0.57     49063\n",
      "           4       0.52      0.17      0.26     49221\n",
      "           5       0.51      0.83      0.63     49340\n",
      "           6       0.74      0.30      0.42     48389\n",
      "           7       0.93      0.96      0.94     48595\n",
      "           8       1.00      1.00      1.00     50762\n",
      "           9       0.99      1.00      1.00     49083\n",
      "          10       0.99      1.00      0.99     43546\n",
      "\n",
      "    accuracy                           0.79    534851\n",
      "   macro avg       0.80      0.79      0.78    534851\n",
      "weighted avg       0.80      0.79      0.77    534851\n",
      "\n"
     ]
    }
   ],
   "source": [
    "## 随机森林\n",
    "RandomForest_model = RandomForestClassifier().fit(train_X,train_Y)\n",
    "\n",
    "test_Y_hat = RandomForest_model.predict(test_X)\n",
    "\n",
    "print(accuracy_score(test_Y, test_Y_hat))\n",
    "print(precision_score(test_Y, test_Y_hat,average='micro'))\n",
    "print(recall_score(test_Y, test_Y_hat,average='micro'))\n",
    "print(f1_score(test_Y, test_Y_hat,average='micro'))\n",
    "print(classification_report(test_Y, test_Y_hat))"
   ]
  },
  {
   "cell_type": "code",
   "execution_count": 6,
   "metadata": {},
   "outputs": [
    {
     "name": "stdout",
     "output_type": "stream",
     "text": [
      "0.7895656921273402\n",
      "0.7895656921273402\n",
      "0.7895656921273402\n",
      "0.7895656921273402\n",
      "              precision    recall  f1-score   support\n",
      "\n",
      "           0       1.00      0.99      1.00     48560\n",
      "           1       0.95      0.99      0.97     48395\n",
      "           2       0.67      0.85      0.75     49897\n",
      "           3       0.50      0.68      0.58     49063\n",
      "           4       0.53      0.13      0.20     49221\n",
      "           5       0.51      0.87      0.64     49340\n",
      "           6       0.78      0.25      0.38     48389\n",
      "           7       0.91      0.95      0.93     48595\n",
      "           8       0.99      1.00      0.99     50762\n",
      "           9       0.99      1.00      0.99     49083\n",
      "          10       0.99      1.00      0.99     43546\n",
      "\n",
      "    accuracy                           0.79    534851\n",
      "   macro avg       0.80      0.79      0.77    534851\n",
      "weighted avg       0.80      0.79      0.76    534851\n",
      "\n"
     ]
    }
   ],
   "source": [
    "## GBDT\n",
    "from sklearn.ensemble import GradientBoostingClassifier\n",
    "\n",
    "GBDT_model = GradientBoostingClassifier().fit(train_X, train_Y)\n",
    "test_Y_hat = GBDT_model.predict(test_X)\n",
    "\n",
    "print(accuracy_score(test_Y, test_Y_hat))\n",
    "print(precision_score(test_Y, test_Y_hat,average='micro'))\n",
    "print(recall_score(test_Y, test_Y_hat,average='micro'))\n",
    "print(f1_score(test_Y, test_Y_hat,average='micro'))\n",
    "print(classification_report(test_Y, test_Y_hat))"
   ]
  },
  {
   "cell_type": "code",
   "execution_count": 7,
   "metadata": {},
   "outputs": [
    {
     "name": "stdout",
     "output_type": "stream",
     "text": [
      "0.6328584970393624\n",
      "0.6328584970393624\n",
      "0.6328584970393624\n",
      "0.6328584970393624\n",
      "              precision    recall  f1-score   support\n",
      "\n",
      "           0       0.83      0.53      0.65     48560\n",
      "           1       0.91      0.99      0.95     48395\n",
      "           2       0.32      0.92      0.48     49897\n",
      "           3       0.65      0.00      0.00     49063\n",
      "           4       0.49      0.86      0.62     49221\n",
      "           5       0.47      0.08      0.13     49340\n",
      "           6       0.13      0.01      0.02     48389\n",
      "           7       0.60      0.95      0.73     48595\n",
      "           8       0.98      0.87      0.92     50762\n",
      "           9       0.95      0.88      0.91     49083\n",
      "          10       0.90      0.89      0.90     43546\n",
      "\n",
      "    accuracy                           0.63    534851\n",
      "   macro avg       0.66      0.63      0.57    534851\n",
      "weighted avg       0.66      0.63      0.57    534851\n",
      "\n"
     ]
    }
   ],
   "source": [
    "## AdaBoost\n",
    "from sklearn.ensemble import AdaBoostClassifier\n",
    "\n",
    "AdaBoost_model = AdaBoostClassifier().fit(train_X, train_Y)\n",
    "test_Y_hat = AdaBoost_model.predict(test_X)\n",
    "\n",
    "print(accuracy_score(test_Y, test_Y_hat))\n",
    "print(precision_score(test_Y, test_Y_hat,average='micro'))\n",
    "print(recall_score(test_Y, test_Y_hat,average='micro'))\n",
    "print(f1_score(test_Y, test_Y_hat,average='micro'))\n",
    "print(classification_report(test_Y, test_Y_hat))"
   ]
  },
  {
   "cell_type": "code",
   "execution_count": 8,
   "metadata": {},
   "outputs": [
    {
     "name": "stdout",
     "output_type": "stream",
     "text": [
      "0.7294797990468374\n",
      "0.7294797990468374\n",
      "0.7294797990468374\n",
      "0.7294797990468372\n",
      "              precision    recall  f1-score   support\n",
      "\n",
      "           0       1.00      0.54      0.70     48560\n",
      "           1       0.94      0.86      0.90     48395\n",
      "           2       0.66      0.84      0.74     49897\n",
      "           3       0.50      0.67      0.57     49063\n",
      "           4       0.49      0.23      0.32     49221\n",
      "           5       0.50      0.75      0.60     49340\n",
      "           6       0.51      0.26      0.35     48389\n",
      "           7       0.65      0.93      0.76     48595\n",
      "           8       0.96      1.00      0.98     50762\n",
      "           9       0.99      1.00      0.99     49083\n",
      "          10       0.99      0.96      0.97     43546\n",
      "\n",
      "    accuracy                           0.73    534851\n",
      "   macro avg       0.75      0.73      0.72    534851\n",
      "weighted avg       0.74      0.73      0.72    534851\n",
      "\n"
     ]
    }
   ],
   "source": [
    "## 决策树\n",
    "\n",
    "from sklearn.tree import DecisionTreeClassifier\n",
    "\n",
    "DecisionTree_model = DecisionTreeClassifier(random_state=3).fit(train_X, train_Y)\n",
    "test_Y_hat = DecisionTree_model.predict(test_X)\n",
    "\n",
    "print(accuracy_score(test_Y, test_Y_hat))\n",
    "print(precision_score(test_Y, test_Y_hat,average='micro'))\n",
    "print(recall_score(test_Y, test_Y_hat,average='micro'))\n",
    "print(f1_score(test_Y, test_Y_hat,average='micro'))\n",
    "print(classification_report(test_Y, test_Y_hat))"
   ]
  },
  {
   "cell_type": "code",
   "execution_count": 9,
   "metadata": {},
   "outputs": [
    {
     "name": "stderr",
     "output_type": "stream",
     "text": [
      "/home/ubuntu/miniconda3/envs/grdenv/lib/python3.7/site-packages/sklearn/linear_model/_logistic.py:765: ConvergenceWarning: lbfgs failed to converge (status=1):\n",
      "STOP: TOTAL NO. of ITERATIONS REACHED LIMIT.\n",
      "\n",
      "Increase the number of iterations (max_iter) or scale the data as shown in:\n",
      "    https://scikit-learn.org/stable/modules/preprocessing.html\n",
      "Please also refer to the documentation for alternative solver options:\n",
      "    https://scikit-learn.org/stable/modules/linear_model.html#logistic-regression\n",
      "  extra_warning_msg=_LOGISTIC_SOLVER_CONVERGENCE_MSG)\n"
     ]
    },
    {
     "name": "stdout",
     "output_type": "stream",
     "text": [
      "0.6416946027959188\n",
      "0.6416946027959188\n",
      "0.6416946027959188\n",
      "0.6416946027959188\n",
      "              precision    recall  f1-score   support\n",
      "\n",
      "           0       1.00      0.54      0.70     48560\n",
      "           1       0.88      0.99      0.93     48395\n",
      "           2       0.53      0.73      0.61     49897\n",
      "           3       0.46      0.61      0.52     49063\n",
      "           4       0.36      0.11      0.17     49221\n",
      "           5       0.51      0.47      0.49     49340\n",
      "           6       0.14      0.03      0.05     48389\n",
      "           7       0.40      0.88      0.55     48595\n",
      "           8       0.99      0.82      0.90     50762\n",
      "           9       0.94      0.91      0.92     49083\n",
      "          10       0.85      1.00      0.92     43546\n",
      "\n",
      "    accuracy                           0.64    534851\n",
      "   macro avg       0.64      0.64      0.62    534851\n",
      "weighted avg       0.64      0.64      0.61    534851\n",
      "\n"
     ]
    }
   ],
   "source": [
    "## 逻辑回归\n",
    "\n",
    "from sklearn.linear_model import LogisticRegression\n",
    "lr_model = LogisticRegression(penalty='l2').fit(train_X, train_Y)\n",
    "test_Y_hat = lr_model.predict(test_X)\n",
    "print(accuracy_score(test_Y, test_Y_hat))\n",
    "print(precision_score(test_Y, test_Y_hat,average='micro'))\n",
    "print(recall_score(test_Y, test_Y_hat,average='micro'))\n",
    "print(f1_score(test_Y, test_Y_hat,average='micro'))\n",
    "print(classification_report(test_Y, test_Y_hat))"
   ]
  },
  {
   "cell_type": "code",
   "execution_count": 10,
   "metadata": {},
   "outputs": [
    {
     "name": "stdout",
     "output_type": "stream",
     "text": [
      "0.7368164217698013\n",
      "0.7368164217698013\n",
      "0.7368164217698013\n",
      "0.7368164217698013\n",
      "              precision    recall  f1-score   support\n",
      "\n",
      "           0       1.00      0.99      0.99     48560\n",
      "           1       0.95      0.99      0.97     48395\n",
      "           2       0.82      0.35      0.49     49897\n",
      "           3       0.52      0.13      0.20     49063\n",
      "           4       0.49      0.68      0.57     49221\n",
      "           5       0.51      0.30      0.38     49340\n",
      "           6       0.51      0.76      0.61     48389\n",
      "           7       0.52      0.96      0.67     48595\n",
      "           8       1.00      1.00      1.00     50762\n",
      "           9       0.99      1.00      1.00     49083\n",
      "          10       0.99      1.00      0.99     43546\n",
      "\n",
      "    accuracy                           0.74    534851\n",
      "   macro avg       0.75      0.74      0.72    534851\n",
      "weighted avg       0.75      0.74      0.71    534851\n",
      "\n"
     ]
    }
   ],
   "source": [
    "## KNN\n",
    "\n",
    "from sklearn.neighbors import KNeighborsClassifier\n",
    "from sklearn.model_selection import cross_val_score\n",
    "knn_model = KNeighborsClassifier(n_neighbors=7).fit(train_X, train_Y)\n",
    "test_Y_hat = knn_model.predict(test_X)\n",
    "print(accuracy_score(test_Y, test_Y_hat))\n",
    "print(precision_score(test_Y, test_Y_hat,average='micro'))\n",
    "print(recall_score(test_Y, test_Y_hat,average='micro'))\n",
    "print(f1_score(test_Y, test_Y_hat,average='micro'))\n",
    "print(classification_report(test_Y, test_Y_hat))"
   ]
  },
  {
   "cell_type": "code",
   "execution_count": 11,
   "metadata": {},
   "outputs": [
    {
     "name": "stdout",
     "output_type": "stream",
     "text": [
      "0.6107850597643082\n",
      "0.6107850597643082\n",
      "0.6107850597643082\n",
      "0.6107850597643082\n",
      "              precision    recall  f1-score   support\n",
      "\n",
      "           0       1.00      0.54      0.70     48560\n",
      "           1       0.94      0.99      0.96     48395\n",
      "           2       0.84      0.01      0.01     49897\n",
      "           3       0.35      0.99      0.51     49063\n",
      "           4       0.09      0.02      0.04     49221\n",
      "           5       0.50      0.71      0.58     49340\n",
      "           6       0.09      0.01      0.02     48389\n",
      "           7       0.45      0.83      0.58     48595\n",
      "           8       0.99      0.81      0.90     50762\n",
      "           9       0.95      0.86      0.90     49083\n",
      "          10       0.84      1.00      0.91     43546\n",
      "\n",
      "    accuracy                           0.61    534851\n",
      "   macro avg       0.64      0.62      0.56    534851\n",
      "weighted avg       0.64      0.61      0.55    534851\n",
      "\n"
     ]
    }
   ],
   "source": [
    "## naive_bayes\n",
    "import sklearn.naive_bayes as nb\n",
    "\n",
    "# 1.加载数据\n",
    "# 2.构建高斯朴素贝叶斯模型\n",
    "nb_model = nb.GaussianNB().fit(train_X, train_Y)\n",
    "\n",
    "test_Y_hat = nb_model.predict(test_X)\n",
    "print(accuracy_score(test_Y, test_Y_hat))\n",
    "print(precision_score(test_Y, test_Y_hat,average='micro'))\n",
    "print(recall_score(test_Y, test_Y_hat,average='micro'))\n",
    "print(f1_score(test_Y, test_Y_hat,average='micro'))\n",
    "print(classification_report(test_Y, test_Y_hat))"
   ]
  },
  {
   "cell_type": "code",
   "execution_count": null,
   "metadata": {},
   "outputs": [],
   "source": [
    "## SVM\n",
    "from sklearn.svm import SVC\n",
    "svm_model = SVC(kernel='linear', C = 1.0, random_state=1).fit(train_X, train_Y)\n",
    "\n",
    "test_Y_hat = svm_model.predict(test_X)\n",
    "\n",
    "print(accuracy_score(test_Y, test_Y_hat))\n",
    "print(precision_score(test_Y, test_Y_hat,average='micro'))\n",
    "print(recall_score(test_Y, test_Y_hat,average='micro'))\n",
    "print(f1_score(test_Y, test_Y_hat,average='micro'))\n",
    "print(classification_report(test_Y, test_Y_hat))"
   ]
  }
 ],
 "metadata": {
  "kernelspec": {
   "display_name": "Python [conda env:grdenv] *",
   "language": "python",
   "name": "conda-env-grdenv-py"
  },
  "language_info": {
   "codemirror_mode": {
    "name": "ipython",
    "version": 3
   },
   "file_extension": ".py",
   "mimetype": "text/x-python",
   "name": "python",
   "nbconvert_exporter": "python",
   "pygments_lexer": "ipython3",
   "version": "3.7.10"
  }
 },
 "nbformat": 4,
 "nbformat_minor": 4
}
