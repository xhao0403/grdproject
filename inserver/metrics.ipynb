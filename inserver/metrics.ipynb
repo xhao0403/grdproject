{
 "cells": [
  {
   "cell_type": "code",
   "execution_count": 1,
   "metadata": {},
   "outputs": [],
   "source": [
    "import scipy.io as io\n",
    "\n",
    "# import libs\n",
    "import numpy as np\n",
    "import pandas as pd\n",
    "import os\n",
    "import scipy.io as io\n",
    "from sklearn import preprocessing\n",
    "from scipy.stats import pearsonr\n",
    "from sklearn.feature_selection import SelectKBest\n",
    "from sklearn.feature_selection import chi2\n",
    "from numpy import array\n",
    "from sklearn.feature_selection import RFE\n",
    "from sklearn.linear_model import LogisticRegression\n",
    "from sklearn.svm import SVC\n",
    "from sklearn.ensemble import RandomForestClassifier\n",
    "from sklearn.feature_selection import SelectFromModel\n",
    "from sklearn.ensemble import GradientBoostingClassifier\n",
    "from sklearn.ensemble import ExtraTreesClassifier\n",
    "\n",
    "from sklearn.metrics import accuracy_score, precision_score, recall_score, f1_score, confusion_matrix, classification_report"
   ]
  },
  {
   "cell_type": "code",
   "execution_count": 2,
   "metadata": {},
   "outputs": [],
   "source": [
    "real_mat_path = '/mnt/hgfs/linuxfile/mat/test_Y.mat'\n",
    "pred_mat_path = '/mnt/hgfs/linuxfile/mat/test_Y_hat.mat'"
   ]
  },
  {
   "cell_type": "code",
   "execution_count": 3,
   "metadata": {},
   "outputs": [],
   "source": [
    "test_Y_hat = io.loadmat(pred_mat_path)\n",
    "test_Y = io.loadmat(real_mat_path)"
   ]
  },
  {
   "cell_type": "code",
   "execution_count": 4,
   "metadata": {},
   "outputs": [],
   "source": [
    "test_Y_hat = test_Y_hat['label']"
   ]
  },
  {
   "cell_type": "code",
   "execution_count": 5,
   "metadata": {},
   "outputs": [],
   "source": [
    "test_Y = test_Y['test_Y'].T"
   ]
  },
  {
   "cell_type": "code",
   "execution_count": 6,
   "metadata": {},
   "outputs": [
    {
     "name": "stdout",
     "output_type": "stream",
     "text": [
      "0.4318297889520272\n",
      "0.4318297889520272\n",
      "0.4318297889520272\n",
      "0.4318297889520272\n",
      "              precision    recall  f1-score   support\n",
      "\n",
      "           0       0.93      0.26      0.41     48395\n",
      "           1       0.49      0.49      0.49     49221\n",
      "           2       0.18      0.98      0.31     48389\n",
      "           3       0.99      0.29      0.45     43546\n",
      "           4       1.00      0.58      0.73     48560\n",
      "           5       0.89      0.18      0.30     49897\n",
      "           6       0.27      0.99      0.42     11296\n",
      "           7       0.77      0.24      0.37     48595\n",
      "           8       0.50      0.18      0.27     49340\n",
      "           9       1.00      0.96      0.98     49083\n",
      "          10       0.39      0.00      0.01     49063\n",
      "\n",
      "    accuracy                           0.43    495385\n",
      "   macro avg       0.67      0.47      0.43    495385\n",
      "weighted avg       0.70      0.43      0.43    495385\n",
      "\n"
     ]
    }
   ],
   "source": [
    "print(accuracy_score(test_Y, test_Y_hat))\n",
    "print(precision_score(test_Y, test_Y_hat,average='micro'))\n",
    "print(recall_score(test_Y, test_Y_hat,average='micro'))\n",
    "print(f1_score(test_Y, test_Y_hat,average='micro'))\n",
    "print(classification_report(test_Y, test_Y_hat))"
   ]
  },
  {
   "cell_type": "markdown",
   "metadata": {},
   "source": [
    "0.4318297889520272\n",
    "\n",
    "0.4318297889520272\n",
    "\n",
    "0.4318297889520272\n",
    "\n",
    "0.4318297889520272\n",
    "\n",
    "            precision    recall  f1-score   support\n",
    "\n",
    "           0       0.93      0.26      0.41     48395\n",
    "           1       0.49      0.49      0.49     49221\n",
    "           2       0.18      0.98      0.31     48389\n",
    "           3       0.99      0.29      0.45     43546\n",
    "           4       1.00      0.58      0.73     48560\n",
    "           5       0.89      0.18      0.30     49897\n",
    "           6       0.27      0.99      0.42     11296\n",
    "           7       0.77      0.24      0.37     48595\n",
    "           8       0.50      0.18      0.27     49340\n",
    "           9       1.00      0.96      0.98     49083\n",
    "          10       0.39      0.00      0.01     49063\n",
    "\n",
    "    accuracy                           0.43    495385\n",
    "   macro avg       0.67      0.47      0.43    495385\n",
    "weighted avg       0.70      0.43      0.43    495385\n",
    "\n"
   ]
  },
  {
   "cell_type": "code",
   "execution_count": null,
   "metadata": {},
   "outputs": [],
   "source": []
  }
 ],
 "metadata": {
  "kernelspec": {
   "display_name": "Python [conda env:grdenv]",
   "language": "python",
   "name": "conda-env-grdenv-py"
  },
  "language_info": {
   "codemirror_mode": {
    "name": "ipython",
    "version": 3
   },
   "file_extension": ".py",
   "mimetype": "text/x-python",
   "name": "python",
   "nbconvert_exporter": "python",
   "pygments_lexer": "ipython3",
   "version": "3.7.10"
  }
 },
 "nbformat": 4,
 "nbformat_minor": 4
}
