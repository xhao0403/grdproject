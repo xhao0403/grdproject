{
 "cells": [
  {
   "cell_type": "code",
   "execution_count": 1,
   "metadata": {},
   "outputs": [],
   "source": [
    "import numpy as np\n",
    "import math\n",
    "from scipy.linalg import expm,logm"
   ]
  },
  {
   "cell_type": "code",
   "execution_count": 2,
   "metadata": {},
   "outputs": [],
   "source": [
    "## 计算黎曼距离\n",
    "def riemann_distance(X,Y,gtype):\n",
    "    if gtype == 'A':\n",
    "        tmpEig = geneig(X,Y)\n",
    "        tmp_dis = sum(mylog(tmpEig) ** 2)\n",
    "    elif gtype == 'S':\n",
    "        t = mylog(np.linalg.det(0.5 * (X + Y))) - 0.5 * (mylog(np.linalg.det(X))) + mylog(np.linalg.det(Y))\n",
    "        if t == np.inf or np.isnan(t):\n",
    "            eigX = np.linalg.eig(X)\n",
    "            eigX = np.maximum(eigX,eps)\n",
    "            eigY = np.linalg.eig(Y);\n",
    "            eigY = np.maximum(eigY,eps)\n",
    "\n",
    "            t = np.real(sum(mylog(np.linalg.eig(0.5*(X+Y))))) - 0.5 * (np.real(sum(mylog(eigX)))) + np.real(sum(mylog(eigY)))\n",
    "\n",
    "        tmp_dis = t;\n",
    "    elif gtype == 'J':\n",
    "        tmp_dis = 0.5 * (np.dot(np.linalg.inv(Y),X)).trace() + 0.5 * (np.dot(np.linalg.inv(X),Y)).trace() - X.shape[0]\n",
    "    elif gtype == 'L':\n",
    "        tmp_dis = np.linalg.norm((logm(X) - logm(Y)),ord='fro') ** 2\n",
    "    \n",
    "    if tmp_dis <= 1e-15:\n",
    "        dis = 0\n",
    "    else:\n",
    "        dis = np.sqrt(tmp_dis);\n",
    "    return dis\n",
    "\n",
    "## 计算广义特征值\n",
    "def geneig(X,Y):\n",
    "    w,v = np.linalg.eig(np.dot(np.linalg.inv(Y),X))\n",
    "    return w\n",
    "\n",
    "## 计算可能出现负数的对数函数\n",
    "def mylog(X):\n",
    "    CX = X + 0j\n",
    "    return np.log(CX)\n",
    "\n",
    "def spd_riemannian_mean(spd_matrices, gtype):\n",
    "    nums = len(spd_matrices)\n",
    "    M = mean(spd_matrices)\n",
    "    max_iter = 15\n",
    "    if gtype == 'A':\n",
    "        for i in range(max_iter):\n",
    "            A = M\n",
    "    return 0"
   ]
  },
  {
   "cell_type": "code",
   "execution_count": null,
   "metadata": {},
   "outputs": [],
   "source": []
  }
 ],
 "metadata": {
  "kernelspec": {
   "display_name": "Python [conda env:grdenv] *",
   "language": "python",
   "name": "conda-env-grdenv-py"
  },
  "language_info": {
   "codemirror_mode": {
    "name": "ipython",
    "version": 3
   },
   "file_extension": ".py",
   "mimetype": "text/x-python",
   "name": "python",
   "nbconvert_exporter": "python",
   "pygments_lexer": "ipython3",
   "version": "3.7.10"
  }
 },
 "nbformat": 4,
 "nbformat_minor": 4
}
