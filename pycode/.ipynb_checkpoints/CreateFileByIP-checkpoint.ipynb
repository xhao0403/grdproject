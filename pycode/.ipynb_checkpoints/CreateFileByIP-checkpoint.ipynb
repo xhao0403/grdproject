{
 "cells": [
  {
   "cell_type": "code",
   "execution_count": 1,
   "id": "advised-phase",
   "metadata": {},
   "outputs": [],
   "source": [
    "# import libs\n",
    "import numpy as np\n",
    "import pandas as pd\n",
    "import os\n",
    "import scipy.io as io"
   ]
  },
  {
   "cell_type": "code",
   "execution_count": 2,
   "id": "regulation-roman",
   "metadata": {},
   "outputs": [],
   "source": [
    "# def function\n",
    "\n",
    "# 获取csv文件的列名\n",
    "def getcols(filename):\n",
    "    data = pd.read_csv(filename, nrows = 2)\n",
    "    #print(data.columns)\n",
    "    return data.columns\n",
    "\n",
    "# 获取文件行数\n",
    "def getrows(filename):\n",
    "    cols = getcols(filename)\n",
    "    col = cols[0]\n",
    "    data = pd.read_csv(filename, usecols=[col])\n",
    "    return data.shape[0]\n",
    "\n",
    "# 数据预处理- step1: 删除无法用于计算的列与含空值、负值、inf值的行\n",
    "def preprocess2017(data):\n",
    "    labels = data[' Label']\n",
    "    # 删除非数值型数据，这些数据暂时不用于聚类处理，但不代表这些数据没用\n",
    "    dropset = ['Flow ID', ' Source IP', ' Source Port',\n",
    "       ' Destination IP', ' Destination Port', ' Protocol', ' Timestamp',\n",
    "           ' Fwd Header Length.1', ' Label']\n",
    "    # 删除含有大量负数的列\n",
    "    drop_nega = [' Fwd Header Length', 'Init_Win_bytes_forward',\n",
    "           ' Init_Win_bytes_backward', ' act_data_pkt_fwd',\n",
    "       ' min_seg_size_forward']\n",
    "    # 删除数据中可能出现的非数值型数据列\n",
    "    drop_ifexist = ['External IP','SimillarHTTP', ' Inbound','Unnamed: 0']\n",
    "    \n",
    "    # 如果有list中的columns则删除\n",
    "    data.drop(data.columns[data.columns.isin(dropset+drop_nega+drop_ifexist)], axis = 1, inplace=True)\n",
    "    \n",
    "    data.dropna(how='any', inplace=True)\n",
    "    print(len(data))\n",
    "    data.reset_index(inplace=True, drop=True)\n",
    "    # 将所有数据类型转成float型\n",
    "    data = data.astype('float')\n",
    "    \n",
    "    # 删除数据中inf的值 (需要连续执行两次，不知道原因，但连续执行后就可删除数据中的inf)\n",
    "    idx_tuple = np.where(data.max(axis=1).values == np.inf)\n",
    "    idx = list(idx_tuple[0])\n",
    "   # print(idx)\n",
    "    data.drop(axis=0, index = idx, inplace = True)\n",
    "    data.reset_index(inplace=True, drop=True)\n",
    "    labels.drop(axis=0, index = idx, inplace = True)\n",
    "    labels.reset_index(inplace=True, drop=True)\n",
    "   # print(len(data))\n",
    "    idx_tuple = np.where(data.max(axis=1).values == np.inf)\n",
    "    idx = list(idx_tuple[0])\n",
    "    data.drop(axis=0, index = idx, inplace = True)\n",
    "    data.reset_index(inplace=True, drop=True)\n",
    "    labels.drop(axis=0, index = idx, inplace = True)\n",
    "    labels.reset_index(inplace=True, drop=True)\n",
    "   # print(len(data))\n",
    "\n",
    "    # 删除数据中含负数的数据条数\n",
    "    idx_tuple = np.where(data.min(axis=1).values < 0)\n",
    "    idx = list(idx_tuple[0])\n",
    "    data.drop(axis=0, index = idx, inplace = True)\n",
    "    data.reset_index(inplace=True, drop=True)\n",
    "    labels.drop(axis=0, index = idx, inplace = True)\n",
    "    labels.reset_index(inplace=True, drop=True)\n",
    "   # print(len(data))\n",
    "    return data,labels\n",
    "\n",
    "def preprocess2019(data, cols, labelnum, label):\n",
    "    data.dropna(how='any', inplace=True)\n",
    "    \n",
    "    # print(data.columns)\n",
    "    data.drop(cols[0:2],axis = 1, inplace = True)\n",
    "    \n",
    "    # 删除非数值型数据，这些数据暂时不用于聚类处理，但不代表这些数据没用\n",
    "    dropset = ['Flow ID', ' Source IP', ' Source Port',\n",
    "       ' Destination IP', ' Destination Port', ' Protocol', ' Timestamp',\n",
    "           ' Fwd Header Length.1', 'SimillarHTTP', ' Inbound']\n",
    "    \n",
    "    # 删除含有大量负数的列\n",
    "    drop_nega = [' Fwd Header Length', 'Init_Win_bytes_forward',\n",
    "           ' Init_Win_bytes_backward', ' act_data_pkt_fwd',\n",
    "       ' min_seg_size_forward']\n",
    "    data.drop(dropset, axis=1,inplace=True)\n",
    "    data.drop(drop_nega, axis=1,inplace=True)\n",
    "    \n",
    "    # 将标签替换为数字\n",
    "    data.replace(to_replace=label, value=labelnum, inplace=True)\n",
    "    \n",
    "    # 将所有数据类型转成float型\n",
    "    data = data.astype('float')\n",
    "    \n",
    "    # 删除数据中inf的值\n",
    "    idx_tuple = np.where(data.max(axis=1).values == np.inf)\n",
    "    idx = list(idx_tuple[0])\n",
    "#    print(len(idx))\n",
    "    data.drop(axis=0, index = idx, inplace = True)\n",
    "    data.reset_index(inplace=True, drop=True)\n",
    "    \n",
    "    idx_tuple = np.where(data.max(axis=1).values == np.inf)\n",
    "    idx = list(idx_tuple[0])\n",
    "#    print(len(idx))\n",
    "    data.drop(axis=0, index = idx, inplace = True)\n",
    "    data.reset_index(inplace=True, drop=True)\n",
    "    \n",
    "    # 删除数据中含负数的数据条数\n",
    "    idx_tuple = np.where(data.min(axis=1).values < 0)\n",
    "    idx = list(idx_tuple[0])\n",
    "    data.drop(axis=0, index = idx, inplace = True)\n",
    "    data.reset_index(inplace=True, drop=True)\n",
    "    \n",
    "    return data"
   ]
  },
  {
   "cell_type": "code",
   "execution_count": 3,
   "id": "latest-bradley",
   "metadata": {},
   "outputs": [],
   "source": [
    "# 从文件夹'/mnt/hgfs/linuxfile/2017/'中读取数据文件\n",
    "filedir = '/mnt/hgfs/linuxfile/2017/'\n",
    "files = os.listdir(filedir)"
   ]
  },
  {
   "cell_type": "code",
   "execution_count": 4,
   "id": "indian-citizenship",
   "metadata": {},
   "outputs": [],
   "source": [
    "# 受害者IP\n",
    "DDos_victim_IP = ['192.168.10.50'] # 128834\n",
    "PortScan_victim_IP = ['192.168.10.50'] # 160716\n",
    "Botnet_victim_IP = ['192.168.10.15', '192.168.10.9', '192.168.10.14', '192.168.10.5', '192.168.10.8'] # 16029 \n",
    "WebAttack_victim_IP = ['192.168.10.50'] # 4230\n",
    "Infiltration_victim_IP = ['192.168.10.8', '192.168.10.25'] # 15943\n",
    "BruteForce_victim_IP = ['192.168.10.50'] # 4188\n",
    "DDos2_victim_IP = ['192.168.10.50','205.174.165.66','192.168.10.51'] # 23926\n",
    "ips = [DDos_victim_IP, PortScan_victim_IP, Botnet_victim_IP, WebAttack_victim_IP, Infiltration_victim_IP, BruteForce_victim_IP, DDos2_victim_IP]"
   ]
  },
  {
   "cell_type": "code",
   "execution_count": 5,
   "id": "jewish-biodiversity",
   "metadata": {},
   "outputs": [],
   "source": [
    "victims = ['DDos_victim', 'PortScan_victim', 'Botnet_victim', 'WebAttack_victim', 'Infiltration_victim', 'BruteForce_victim', 'DDos2_victim']"
   ]
  },
  {
   "cell_type": "code",
   "execution_count": 8,
   "id": "excited-simple",
   "metadata": {},
   "outputs": [
    {
     "name": "stderr",
     "output_type": "stream",
     "text": [
      "/home/xuhao/miniconda3/envs/grdenv/lib/python3.7/site-packages/IPython/core/interactiveshell.py:2714: DtypeWarning: Columns (85) have mixed types.Specify dtype option on import or set low_memory=False.\n",
      "  interactivity=interactivity, compiler=compiler, result=result)\n",
      "/home/xuhao/miniconda3/envs/grdenv/lib/python3.7/site-packages/IPython/core/interactiveshell.py:2714: DtypeWarning: Columns (0,1,3,6,84) have mixed types.Specify dtype option on import or set low_memory=False.\n",
      "  interactivity=interactivity, compiler=compiler, result=result)\n"
     ]
    }
   ],
   "source": [
    "# ips_len = len(ips)\n",
    "# for i in range(ips_len):\n",
    "#     data = pd.read_csv(filedir+files[i])\n",
    "#     data = data[data[' Destination IP'].isin(ips[i])]\n",
    "#     data.reset_index(inplace=True, drop=True)\n",
    "#     data.to_csv('/mnt/hgfs/linuxfile/victim2017/'+victims[i]+'_data.csv', mode='w+')"
   ]
  },
  {
   "cell_type": "code",
   "execution_count": 10,
   "id": "consistent-reset",
   "metadata": {},
   "outputs": [
    {
     "data": {
      "text/plain": [
       "['DrDoS_DNS.csv',\n",
       " 'DrDoS_LDAP.csv',\n",
       " 'DrDoS_MSSQL.csv',\n",
       " 'DrDoS_NetBIOS.csv',\n",
       " 'DrDoS_NTP.csv',\n",
       " 'DrDoS_SNMP.csv',\n",
       " 'DrDoS_SSDP.csv',\n",
       " 'DrDoS_UDP.csv',\n",
       " 'Syn.csv',\n",
       " 'TFTP.csv',\n",
       " 'UDPLag.csv']"
      ]
     },
     "execution_count": 10,
     "metadata": {},
     "output_type": "execute_result"
    }
   ],
   "source": [
    "# 从文件夹'/mnt/hgfs/linuxfile/2019/0112/'中读取数据文件\n",
    "filedir = '/mnt/hgfs/linuxfile/2019/0112/'\n",
    "files = os.listdir(filedir)\n",
    "victim2019_IP = ['192.168.50.1'] # 受害者ip"
   ]
  },
  {
   "cell_type": "code",
   "execution_count": null,
   "id": "eastern-spotlight",
   "metadata": {},
   "outputs": [],
   "source": [
    "files_num = len(files)\n",
    "\n",
    "victims = [''] * len(files)\n",
    "for i in range(len(victims)):\n",
    "    victims[i] = files[i][:-4] + '_victim'\n",
    "    \n",
    "    \n",
    "for i in range(files_num):\n",
    "    index = 0\n",
    "    loop = True\n",
    "    chunks = []\n",
    "    chunksize = 100000\n",
    "    data = pd.read_csv(filedir+files[i], iterator = True)\n",
    "    \n",
    "    \n",
    "    data = data[data[' Destination IP'].isin(victim2019_IP)]\n",
    "    data.reset_index(inplace=True, drop=True)\n",
    "    data.to_csv('/mnt/hgfs/linuxfile/victim2019/'+victims[i]+'_data.csv', mode='w+')\n",
    "    \n",
    "for i in range(files_num):\n",
    "    index = 0\n",
    "    loop = True\n",
    "    chunks = []\n",
    "    chunksize = 500000\n",
    "    data = pd.read_csv(filedir+files[i], iterator = True)\n",
    "    while loop:\n",
    "        try:\n",
    "            chunk = data.get_chunk(chunksize)\n",
    "                tdata = chunk[chunk[' Destination IP'].isin(victim2019_IP)]\n",
    "                if tdata.empty == False:\n",
    "                    if os.path.exists('/mnt/hgfs/linuxfile/victim2019/'+victims[i]+'_data.csv') == False:\n",
    "                        tdata.to_csv('/mnt/hgfs/linuxfile/victim2019/'+victims[i]+'_data.csv', mode='a+')\n",
    "                    else:\n",
    "                        tdata.to_csv('/mnt/hgfs/linuxfile/victim2019/'+victims[i]+'_data.csv', mode='a+', header = False)\n",
    "                print(\"add data to \"+newdir+str(label)+'_data.csv')\n",
    "            print(f+'\\' '+str(index)+\"th loop\")\n",
    "            index += 1\n",
    "        except StopIteration:\n",
    "            loop = False\n",
    "            print(\"Interation is stopped\")"
   ]
  },
  {
   "cell_type": "code",
   "execution_count": 15,
   "id": "bearing-coach",
   "metadata": {},
   "outputs": [
    {
     "data": {
      "text/plain": [
       "'DrDoS_DNS'"
      ]
     },
     "execution_count": 15,
     "metadata": {},
     "output_type": "execute_result"
    }
   ],
   "source": [
    "files[0][:-4]"
   ]
  },
  {
   "cell_type": "code",
   "execution_count": 11,
   "id": "critical-world",
   "metadata": {},
   "outputs": [],
   "source": []
  },
  {
   "cell_type": "code",
   "execution_count": 21,
   "id": "outside-candy",
   "metadata": {},
   "outputs": [
    {
     "data": {
      "text/plain": [
       "['DrDoS_DNS_victim',\n",
       " 'DrDoS_LDAP_victim',\n",
       " 'DrDoS_MSSQL_victim',\n",
       " 'DrDoS_NetBIOS_victim',\n",
       " 'DrDoS_NTP_victim',\n",
       " 'DrDoS_SNMP_victim',\n",
       " 'DrDoS_SSDP_victim',\n",
       " 'DrDoS_UDP_victim',\n",
       " 'Syn_victim',\n",
       " 'TFTP_victim',\n",
       " 'UDPLag_victim']"
      ]
     },
     "execution_count": 21,
     "metadata": {},
     "output_type": "execute_result"
    }
   ],
   "source": [
    "victims"
   ]
  },
  {
   "cell_type": "code",
   "execution_count": 20,
   "id": "adaptive-beast",
   "metadata": {},
   "outputs": [],
   "source": []
  },
  {
   "cell_type": "code",
   "execution_count": null,
   "id": "egyptian-colorado",
   "metadata": {},
   "outputs": [],
   "source": []
  }
 ],
 "metadata": {
  "kernelspec": {
   "display_name": "Python [conda env:grdenv]",
   "language": "python",
   "name": "conda-env-grdenv-py"
  },
  "language_info": {
   "codemirror_mode": {
    "name": "ipython",
    "version": 3
   },
   "file_extension": ".py",
   "mimetype": "text/x-python",
   "name": "python",
   "nbconvert_exporter": "python",
   "pygments_lexer": "ipython3",
   "version": "3.7.9"
  }
 },
 "nbformat": 4,
 "nbformat_minor": 5
}
