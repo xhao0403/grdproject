{
 "cells": [
  {
   "cell_type": "markdown",
   "metadata": {},
   "source": [
    "# 将数据预处理并转换成matlab可以处理的数据格式"
   ]
  },
  {
   "cell_type": "code",
   "execution_count": 1,
   "metadata": {},
   "outputs": [],
   "source": [
    "# import libs\n",
    "import numpy as np\n",
    "import pandas as pd\n",
    "import os"
   ]
  },
  {
   "cell_type": "code",
   "execution_count": 2,
   "metadata": {},
   "outputs": [],
   "source": [
    "# def function\n",
    "\n",
    "# 获取csv文件的列名\n",
    "def getcols(filename):\n",
    "    data = pd.read_csv(filename, nrows = 2)\n",
    "    #print(data.columns)\n",
    "    return data.columns\n",
    "\n",
    "# 获取文件行数\n",
    "def getrows(filename):\n",
    "    cols = getcols(filename)\n",
    "    col = cols[0]\n",
    "    data = pd.read_csv(filename, usecols=[col])\n",
    "    return data.shape[0]\n",
    "\n",
    "# 数据预处理- step1: 删除无法用于计算的列与含空值、负值、inf值的行\n",
    "def preprocess(data, cols, labelnum, label):\n",
    "    # print(data.columns)\n",
    "    \n",
    "        # 删除非数值型数据，这些数据暂时不用于聚类处理，但不代表这些数据没用\n",
    "    dropset = ['Flow ID', ' Source IP', ' Source Port',\n",
    "       ' Destination IP', ' Destination Port', ' Protocol', ' Timestamp',\n",
    "           ' Fwd Header Length.1']\n",
    "    # 删除含有大量负数的列\n",
    "    drop_nega = [' Fwd Header Length', 'Init_Win_bytes_forward',\n",
    "           ' Init_Win_bytes_backward', ' act_data_pkt_fwd',\n",
    "       ' min_seg_size_forward']\n",
    "    # 删除数据中可能出现的非数值型数据列\n",
    "    drop_ifexist = ['External IP','SimillarHTTP', ' Inbound','Unnamed: 0', 'Unnamed: 0.1']\n",
    "    \n",
    "    # 如果有list中的columns则删除\n",
    "    data.drop(data.columns[data.columns.isin(dropset+drop_nega+drop_ifexist)], axis = 1, inplace=True)\n",
    "    \n",
    "    # 将标签替换为数字\n",
    "    data.replace(to_replace=label, value=labelnum, inplace=True)\n",
    "    \n",
    "    # 将所有数据类型转成float型\n",
    "    data = data.astype('float')\n",
    "    \n",
    "    data.dropna(how='any', inplace=True)\n",
    "#    print(len(data))\n",
    "    data.reset_index(inplace=True, drop=True)\n",
    "    # 将所有数据类型转成float型\n",
    "    data = data.astype('float')\n",
    "    \n",
    "    # 删除数据中inf的值 (需要连续执行两次，不知道原因，但连续执行后就可删除数据中的inf)\n",
    "    idx_tuple = np.where(data.max(axis=1).values == np.inf)\n",
    "    idx = list(idx_tuple[0])\n",
    "   # print(idx)\n",
    "    data.drop(axis=0, index = idx, inplace = True)\n",
    "    data.reset_index(inplace=True, drop=True)\n",
    "\n",
    "   # print(len(data))\n",
    "    idx_tuple = np.where(data.max(axis=1).values == np.inf)\n",
    "    idx = list(idx_tuple[0])\n",
    "    data.drop(axis=0, index = idx, inplace = True)\n",
    "    data.reset_index(inplace=True, drop=True)\n",
    "\n",
    "   # print(len(data))\n",
    "\n",
    "    # 删除数据中含负数的数据条数\n",
    "    idx_tuple = np.where(data.min(axis=1).values < 0)\n",
    "    idx = list(idx_tuple[0])\n",
    "    data.drop(axis=0, index = idx, inplace = True)\n",
    "    data.reset_index(inplace=True, drop=True)\n",
    "    \n",
    "    return data\n",
    "    "
   ]
  },
  {
   "cell_type": "code",
   "execution_count": 3,
   "metadata": {},
   "outputs": [],
   "source": [
    "# 从文件夹'newdata/'中读取数据文件\n",
    "filedir = '/mnt/hgfs/linuxfile/newdata/'\n",
    "files = os.listdir(filedir)"
   ]
  },
  {
   "cell_type": "code",
   "execution_count": 4,
   "metadata": {
    "scrolled": false
   },
   "outputs": [
    {
     "name": "stdout",
     "output_type": "stream",
     "text": [
      "starting to deal with BENIGN_data.csv\n",
      "starting to deal with DrDoS_DNS_data.csv\n",
      "starting to deal with DrDoS_LDAP_data.csv\n",
      "starting to deal with DrDoS_MSSQL_data.csv\n",
      "starting to deal with DrDoS_NetBIOS_data.csv\n",
      "starting to deal with DrDoS_NTP_data.csv\n"
     ]
    },
    {
     "name": "stderr",
     "output_type": "stream",
     "text": [
      "/home/xuhao/miniconda3/envs/grdenv/lib/python3.7/site-packages/IPython/core/interactiveshell.py:3166: DtypeWarning: Columns (86) have mixed types.Specify dtype option on import or set low_memory=False.\n",
      "  interactivity=interactivity, compiler=compiler, result=result)\n"
     ]
    },
    {
     "name": "stdout",
     "output_type": "stream",
     "text": [
      "starting to deal with DrDoS_SNMP_data.csv\n",
      "starting to deal with DrDoS_SSDP_data.csv\n",
      "starting to deal with DrDoS_UDP_data.csv\n",
      "starting to deal with Syn_data.csv\n",
      "starting to deal with TFTP_data.csv\n"
     ]
    }
   ],
   "source": [
    "nrows = 10000 # 每个文件中读取nrows行数据\n",
    "rows4matrix = 10 # 每个矩阵所需要的数据的条数\n",
    "labelnum = -1\n",
    "meanofalldata = [0] * len(files)\n",
    "allX = pd.DataFrame()\n",
    "allY = pd.DataFrame()\n",
    "for f in files: # 循环读入数据\n",
    "    labelnum += 1\n",
    "    label = f[:-9]\n",
    "    print('starting to deal with ' + f)\n",
    "    allrows = getrows(filedir+f)\n",
    "    skiprow = allrows // (nrows + int(0.2 * nrows));\n",
    "    if skiprow < rows4matrix:\n",
    "        print('data is too small in ' + f)\n",
    "        continue\n",
    "    alldata = pd.DataFrame()\n",
    "    cols = getcols(filedir+f)\n",
    "    \n",
    "    tdata = pd.read_csv(filedir+f, names=cols, skiprows=lambda x: (x==0 or (x % skiprow) > 0), nrows = nrows + int(0.2 * nrows))\n",
    "    tdata = preprocess(tdata, cols, labelnum, label)\n",
    "\n",
    "    \n",
    "    X = tdata.drop([' Label'], axis=1)\n",
    "    Y = tdata[' Label']\n",
    "    X = X[0:10000]\n",
    "    Y = Y[0:10000]\n",
    "    meanofalldata[labelnum] = X.mean()\n",
    "    allX = allX.append(X, ignore_index=True)\n",
    "    allY = allY.append(Y, ignore_index=True)\n",
    "\n"
   ]
  },
  {
   "cell_type": "code",
   "execution_count": 5,
   "metadata": {
    "scrolled": true
   },
   "outputs": [],
   "source": [
    "# 计算总体mean，用于后续计算\n",
    "means = pd.DataFrame(meanofalldata).mean()\n",
    "# print(means)\n",
    "# 将平均值为0的数舍去，因为平均值为0说明所有值都是0\n",
    "cols = allX.columns\n",
    "loc = np.where(means == 0.0)[0]\n",
    "allX = allX.drop(cols[loc],axis=1)\n",
    "means = means.drop(cols[loc])\n",
    "# print(len(allX), len(means))\n",
    "# 均值归一化\n",
    "allX = allX / means\n",
    "# 记录此时的列名\n",
    "newcols = allX.columns"
   ]
  },
  {
   "cell_type": "code",
   "execution_count": 6,
   "metadata": {},
   "outputs": [],
   "source": [
    "X_ = allX.values\n",
    "Y_ = allY.values"
   ]
  },
  {
   "cell_type": "code",
   "execution_count": 7,
   "metadata": {},
   "outputs": [
    {
     "data": {
      "text/plain": [
       "(110000, 62)"
      ]
     },
     "execution_count": 7,
     "metadata": {},
     "output_type": "execute_result"
    }
   ],
   "source": [
    "X_.shape"
   ]
  },
  {
   "cell_type": "code",
   "execution_count": 8,
   "metadata": {},
   "outputs": [],
   "source": [
    "Y_ = Y_.reshape(1,110000)[0]"
   ]
  },
  {
   "cell_type": "code",
   "execution_count": 9,
   "metadata": {},
   "outputs": [
    {
     "data": {
      "text/plain": [
       "(110000,)"
      ]
     },
     "execution_count": 9,
     "metadata": {},
     "output_type": "execute_result"
    }
   ],
   "source": [
    "Y_.shape"
   ]
  },
  {
   "cell_type": "code",
   "execution_count": 10,
   "metadata": {},
   "outputs": [
    {
     "data": {
      "text/plain": [
       "array([ 0.,  0.,  0., ..., 10., 10., 10.])"
      ]
     },
     "execution_count": 10,
     "metadata": {},
     "output_type": "execute_result"
    }
   ],
   "source": [
    "Y_"
   ]
  },
  {
   "cell_type": "code",
   "execution_count": 19,
   "metadata": {
    "scrolled": true
   },
   "outputs": [],
   "source": [
    "from scipy.stats import pearsonr\n",
    "from sklearn.feature_selection import SelectKBest\n",
    "from sklearn.feature_selection import chi2\n",
    "from numpy import array\n",
    "from sklearn.feature_selection import RFE\n",
    "from sklearn.linear_model import LogisticRegression\n",
    "from sklearn.svm import SVC\n",
    "from sklearn.ensemble import RandomForestClassifier\n",
    "from sklearn.feature_selection import SelectFromModel\n",
    "from sklearn.ensemble import GradientBoostingClassifier\n",
    "from sklearn.ensemble import ExtraTreesClassifier\n",
    "n_features = 5\n",
    "# ## REF\n",
    "# # LogisticRegression\n",
    "# rfe = RFE(estimator=LogisticRegression(), n_features_to_select=n_features)\n",
    "\n",
    "# # SVC\n",
    "# svc = SVC(kernel=\"linear\", C=1)\n",
    "# rfe = RFE(estimator=svc, n_features_to_select=n_features)\n",
    "\n",
    "## RandomForest\n",
    "\n",
    "## SelectKBest\n",
    "\n",
    "# 卡方检验\n",
    "SKB = SelectKBest(chi2, k=n_features)\n",
    "X_new = SKB.fit_transform(X_, Y_)\n",
    "# ## SelectFromModel\n",
    "# # GBDT\n",
    "# X_new = SelectFromModel(GradientBoostingClassifier()).fit_transform(X_, Y_)\n",
    "\n",
    "## Extra_tree\n",
    "Extra_model = ExtraTreesClassifier(random_state = 1)\n",
    "rfe = RFE(estimator=Extra_model, n_features_to_select=n_features)\n",
    "# rfe.fit(X_, Y_)\n",
    "\n",
    "# print(rfe.ranking_)"
   ]
  },
  {
   "cell_type": "code",
   "execution_count": 20,
   "metadata": {},
   "outputs": [],
   "source": [
    "X_new = rfe.fit_transform(X_, Y_)"
   ]
  },
  {
   "cell_type": "code",
   "execution_count": 21,
   "metadata": {},
   "outputs": [
    {
     "data": {
      "text/plain": [
       "((110000, 5), (110000, 62))"
      ]
     },
     "execution_count": 21,
     "metadata": {},
     "output_type": "execute_result"
    }
   ],
   "source": [
    "X_new.shape, X_.shape"
   ]
  },
  {
   "cell_type": "code",
   "execution_count": 22,
   "metadata": {},
   "outputs": [],
   "source": [
    "import scipy.io as io\n",
    "xmatpath = '/mnt/hgfs/linuxfile/mat/X.mat'\n",
    "ymatpath = '/mnt/hgfs/linuxfile/mat/Y.mat'\n",
    "xmat = X_new\n",
    "\n",
    "ymat = Y_\n",
    "io.savemat(xmatpath,{'X':xmat})\n",
    "io.savemat(ymatpath,{'Y':ymat})"
   ]
  },
  {
   "cell_type": "code",
   "execution_count": 23,
   "metadata": {
    "scrolled": true
   },
   "outputs": [
    {
     "name": "stdout",
     "output_type": "stream",
     "text": [
      "[False False False False False False  True  True False False False False\n",
      " False False False False False False False False False False False False\n",
      " False False False False False False False False False  True False  True\n",
      " False False False False False False False False False False False False\n",
      "  True False False False False False False False False False False False\n",
      " False False]\n"
     ]
    }
   ],
   "source": [
    "print(rfe.ranking_ == 1)"
   ]
  },
  {
   "cell_type": "code",
   "execution_count": 24,
   "metadata": {},
   "outputs": [
    {
     "data": {
      "text/plain": [
       "Index([' Fwd Packet Length Min', ' Fwd Packet Length Mean',\n",
       "       ' Min Packet Length', ' Packet Length Mean', ' Avg Fwd Segment Size'],\n",
       "      dtype='object')"
      ]
     },
     "execution_count": 24,
     "metadata": {},
     "output_type": "execute_result"
    }
   ],
   "source": [
    "newcols[rfe.ranking_ == 1]"
   ]
  },
  {
   "cell_type": "markdown",
   "metadata": {},
   "source": [
    "### 1. LogisticRegression\n",
    "selcols = [' Fwd Packet Length Std', ' Packet Length Mean',\n",
    "       ' Packet Length Variance', ' Average Packet Size',\n",
    "       ' Avg Fwd Segment Size']\n",
    "       \n",
    "selcols = [' Fwd Packet Length Min', ' Fwd Packet Length Mean',\n",
    "       ' Fwd Packet Length Std', 'Flow Bytes/s', ' Fwd IAT Std',\n",
    "       ' Min Packet Length', ' Packet Length Mean', ' Packet Length Variance',\n",
    "       ' Average Packet Size', ' Avg Fwd Segment Size']\n",
    "### 2.  ExtraTreesClassifier\n",
    "selcols = [' Fwd Packet Length Min', ' Fwd Packet Length Mean',\n",
    "       ' Min Packet Length', ' Packet Length Mean', ' Avg Fwd Segment Size']\n",
    "       \n",
    "selcols = [' Fwd Packet Length Max', ' Fwd Packet Length Min',\n",
    "       ' Fwd Packet Length Mean', ' Flow IAT Mean', 'Fwd Packets/s',\n",
    "       ' Min Packet Length', ' Max Packet Length', ' Packet Length Mean',\n",
    "       ' Average Packet Size', ' Avg Fwd Segment Size']\n",
    "       \n",
    " selcols = [' Total Fwd Packets', 'Total Length of Fwd Packets',\n",
    "       ' Fwd Packet Length Max', ' Fwd Packet Length Min',\n",
    "       ' Fwd Packet Length Mean', 'Flow Bytes/s', ' Flow Packets/s',\n",
    "       ' Flow IAT Mean', ' Flow IAT Max', 'Fwd IAT Total', ' Fwd IAT Mean',\n",
    "       ' Fwd IAT Max', 'Fwd Packets/s', ' Min Packet Length',\n",
    "       ' Max Packet Length', ' Packet Length Mean', ' ACK Flag Count',\n",
    "       ' Average Packet Size', ' Avg Fwd Segment Size', ' Subflow Fwd Bytes']"
   ]
  },
  {
   "cell_type": "code",
   "execution_count": 18,
   "metadata": {},
   "outputs": [
    {
     "data": {
      "text/plain": [
       "array([8.34897963e-01, 0.00000000e+00, 4.07113557e-02, 6.97691842e+00,\n",
       "       2.92631680e-07, 0.00000000e+00, 4.36963220e+00, 9.00083077e-01,\n",
       "       6.33036455e-01, 4.07113557e-02])"
      ]
     },
     "execution_count": 18,
     "metadata": {},
     "output_type": "execute_result"
    }
   ],
   "source": [
    "X_new[8]"
   ]
  },
  {
   "cell_type": "code",
   "execution_count": null,
   "metadata": {},
   "outputs": [],
   "source": []
  }
 ],
 "metadata": {
  "kernelspec": {
   "display_name": "Python [conda env:grdenv]",
   "language": "python",
   "name": "conda-env-grdenv-py"
  },
  "language_info": {
   "codemirror_mode": {
    "name": "ipython",
    "version": 3
   },
   "file_extension": ".py",
   "mimetype": "text/x-python",
   "name": "python",
   "nbconvert_exporter": "python",
   "pygments_lexer": "ipython3",
   "version": "3.7.9"
  }
 },
 "nbformat": 4,
 "nbformat_minor": 4
}
