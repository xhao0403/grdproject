{
 "cells": [
  {
   "cell_type": "markdown",
   "id": "genuine-partnership",
   "metadata": {},
   "source": [
    "# 使用黎曼度量计算风险值大小\n",
    "## 1. 数据预处理\n",
    "### 1.1. 数据清洗\n",
    "* 删除列： 删除非数值型的列，删除含有大量负数、inf、NA值的列。\n",
    "* 删除行： 删除个别在其他列仍含有负数、inf、NA值的行。\n",
    "\n",
    "### 1.2. 数据均一化\n",
    "采用均值归一化的方法，计算每一列的均值，用于归一化处理。\n",
    "\n",
    "x = x / x.mean。\n",
    "\n",
    "ps, 在此过程中删除均值为0的列。（均值为0说明所有值均为0）\n",
    "### 1.3. 特征选择\n",
    "选择最能反应数据特点的n个特征，对数据进行降维。\n",
    "## 2. 构建基线。\n",
    "计算正常情况下数据的黎曼均值作为风险基线。并且该值可根据最新的安全状态的流量情况进行更新。\n",
    "## 3. 风险计算。\n",
    "计算测试数据与基线之间的黎曼距离，根据距离的大小反应风险的高低。"
   ]
  },
  {
   "cell_type": "code",
   "execution_count": 1,
   "id": "sweet-thousand",
   "metadata": {},
   "outputs": [],
   "source": [
    "# import libs\n",
    "import numpy as np\n",
    "import pandas as pd\n",
    "import os\n",
    "import scipy.io as io"
   ]
  },
  {
   "cell_type": "code",
   "execution_count": 2,
   "id": "tender-toolbox",
   "metadata": {},
   "outputs": [],
   "source": [
    "# def function\n",
    "\n",
    "# 获取csv文件的列名\n",
    "def getcols(filename):\n",
    "    data = pd.read_csv(filename, nrows = 2)\n",
    "    #print(data.columns)\n",
    "    return data.columns\n",
    "\n",
    "# 获取文件行数\n",
    "def getrows(filename):\n",
    "    cols = getcols(filename)\n",
    "    col = cols[0]\n",
    "    data = pd.read_csv(filename, usecols=[col])\n",
    "    return data.shape[0]\n",
    "\n",
    "# 数据预处理- step1: 删除无法用于计算的列与含空值、负值、inf值的行\n",
    "def preprocess2017(data):\n",
    "    labels = data[' Label']\n",
    "    # 删除非数值型数据，这些数据暂时不用于聚类处理，但不代表这些数据没用\n",
    "    dropset = ['Flow ID', ' Source IP', ' Source Port',\n",
    "       ' Destination IP', ' Destination Port', ' Protocol', ' Timestamp',\n",
    "           ' Fwd Header Length.1', ' Label']\n",
    "    # 删除含有大量负数的列\n",
    "    drop_nega = [' Fwd Header Length', 'Init_Win_bytes_forward',\n",
    "           ' Init_Win_bytes_backward', ' act_data_pkt_fwd',\n",
    "       ' min_seg_size_forward']\n",
    "    # 删除数据中可能出现的非数值型数据列\n",
    "    drop_ifexist = ['External IP','SimillarHTTP', ' Inbound','Unnamed: 0']\n",
    "    \n",
    "    # 如果有list中的columns则删除\n",
    "    data.drop(data.columns[data.columns.isin(dropset+drop_nega+drop_ifexist)], axis = 1, inplace=True)\n",
    "    \n",
    "    data.dropna(how='any', inplace=True)\n",
    "    print(len(data))\n",
    "    data.reset_index(inplace=True, drop=True)\n",
    "    # 将所有数据类型转成float型\n",
    "    data = data.astype('float')\n",
    "    \n",
    "    # 删除数据中inf的值 (需要连续执行两次，不知道原因，但连续执行后就可删除数据中的inf)\n",
    "    idx_tuple = np.where(data.max(axis=1).values == np.inf)\n",
    "    idx = list(idx_tuple[0])\n",
    "   # print(idx)\n",
    "    data.drop(axis=0, index = idx, inplace = True)\n",
    "    data.reset_index(inplace=True, drop=True)\n",
    "    labels.drop(axis=0, index = idx, inplace = True)\n",
    "    labels.reset_index(inplace=True, drop=True)\n",
    "   # print(len(data))\n",
    "    idx_tuple = np.where(data.max(axis=1).values == np.inf)\n",
    "    idx = list(idx_tuple[0])\n",
    "    data.drop(axis=0, index = idx, inplace = True)\n",
    "    data.reset_index(inplace=True, drop=True)\n",
    "    labels.drop(axis=0, index = idx, inplace = True)\n",
    "    labels.reset_index(inplace=True, drop=True)\n",
    "   # print(len(data))\n",
    "\n",
    "    # 删除数据中含负数的数据条数\n",
    "    idx_tuple = np.where(data.min(axis=1).values < 0)\n",
    "    idx = list(idx_tuple[0])\n",
    "    data.drop(axis=0, index = idx, inplace = True)\n",
    "    data.reset_index(inplace=True, drop=True)\n",
    "    labels.drop(axis=0, index = idx, inplace = True)\n",
    "    labels.reset_index(inplace=True, drop=True)\n",
    "   # print(len(data))\n",
    "    return data,labels\n",
    "\n",
    "def preprocess2019(data, cols, labelnum, label):\n",
    "    data.dropna(how='any', inplace=True)\n",
    "    \n",
    "    # print(data.columns)\n",
    "    data.drop(cols[0:2],axis = 1, inplace = True)\n",
    "    \n",
    "    # 删除非数值型数据，这些数据暂时不用于聚类处理，但不代表这些数据没用\n",
    "    dropset = ['Flow ID', ' Source IP', ' Source Port',\n",
    "       ' Destination IP', ' Destination Port', ' Protocol', ' Timestamp',\n",
    "           ' Fwd Header Length.1', 'SimillarHTTP', ' Inbound']\n",
    "    \n",
    "    # 删除含有大量负数的列\n",
    "    drop_nega = [' Fwd Header Length', 'Init_Win_bytes_forward',\n",
    "           ' Init_Win_bytes_backward', ' act_data_pkt_fwd',\n",
    "       ' min_seg_size_forward']\n",
    "    data.drop(dropset, axis=1,inplace=True)\n",
    "    data.drop(drop_nega, axis=1,inplace=True)\n",
    "    \n",
    "    # 将标签替换为数字\n",
    "    data.replace(to_replace=label, value=labelnum, inplace=True)\n",
    "    \n",
    "    # 将所有数据类型转成float型\n",
    "    data = data.astype('float')\n",
    "    \n",
    "    # 删除数据中inf的值\n",
    "    idx_tuple = np.where(data.max(axis=1).values == np.inf)\n",
    "    idx = list(idx_tuple[0])\n",
    "#    print(len(idx))\n",
    "    data.drop(axis=0, index = idx, inplace = True)\n",
    "    data.reset_index(inplace=True, drop=True)\n",
    "    \n",
    "    idx_tuple = np.where(data.max(axis=1).values == np.inf)\n",
    "    idx = list(idx_tuple[0])\n",
    "#    print(len(idx))\n",
    "    data.drop(axis=0, index = idx, inplace = True)\n",
    "    data.reset_index(inplace=True, drop=True)\n",
    "    \n",
    "    # 删除数据中含负数的数据条数\n",
    "    idx_tuple = np.where(data.min(axis=1).values < 0)\n",
    "    idx = list(idx_tuple[0])\n",
    "    data.drop(axis=0, index = idx, inplace = True)\n",
    "    data.reset_index(inplace=True, drop=True)\n",
    "    \n",
    "    return data\n",
    "    "
   ]
  },
  {
   "cell_type": "code",
   "execution_count": 3,
   "id": "contained-lightweight",
   "metadata": {},
   "outputs": [],
   "source": [
    "# 从文件夹'/mnt/hgfs/linuxfile/2017/'中读取数据文件\n",
    "filedir = '/mnt/hgfs/linuxfile/2017/'\n",
    "files = os.listdir(filedir)\n",
    "# 选择反应数据风险值的特征\n",
    "select_cols = [' Fwd Packet Length Min', ' Min Packet Length', ' Packet Length Mean', ' Average Packet Size', ' Subflow Fwd Bytes']"
   ]
  },
  {
   "cell_type": "markdown",
   "id": "affecting-review",
   "metadata": {},
   "source": [
    "# 计算基线"
   ]
  },
  {
   "cell_type": "code",
   "execution_count": 4,
   "id": "proud-keeping",
   "metadata": {},
   "outputs": [],
   "source": [
    "# 读取星期一的数据作为安全基线\n",
    "benign = pd.read_csv(filedir+files[4])\n"
   ]
  },
  {
   "cell_type": "code",
   "execution_count": 5,
   "id": "clean-personal",
   "metadata": {
    "scrolled": true
   },
   "outputs": [
    {
     "name": "stdout",
     "output_type": "stream",
     "text": [
      "288584\n"
     ]
    }
   ],
   "source": [
    "alldata, labels = preprocess2017(benign)\n",
    "mean = alldata.mean()\n",
    "cols = alldata.columns\n",
    "\n",
    "# 将平均值为0的数舍去，因为平均值为0说明所有值都是0\n",
    "loc = np.where(mean == 0.0)[0] # 定位\n",
    "mean = mean.drop(cols[loc])    # 删除\n",
    "alldata = alldata.drop(cols[loc],axis=1) # 删除\n",
    "alldata = alldata / mean"
   ]
  },
  {
   "cell_type": "code",
   "execution_count": 6,
   "id": "offensive-statistics",
   "metadata": {},
   "outputs": [],
   "source": [
    "newcols = alldata.columns"
   ]
  },
  {
   "cell_type": "code",
   "execution_count": 7,
   "id": "threatened-vacation",
   "metadata": {},
   "outputs": [],
   "source": [
    "# 选取经过特征选择后的列\n",
    "alldata = alldata[select_cols]"
   ]
  },
  {
   "cell_type": "code",
   "execution_count": 8,
   "id": "floating-lloyd",
   "metadata": {},
   "outputs": [],
   "source": [
    "bmatpath = '/mnt/hgfs/linuxfile/benign.mat'\n",
    "benign_data = alldata.values\n",
    "io.savemat(bmatpath,{'benign':benign_data})"
   ]
  },
  {
   "cell_type": "markdown",
   "id": "classical-hollywood",
   "metadata": {},
   "source": [
    "# 攻击数据处理"
   ]
  },
  {
   "cell_type": "code",
   "execution_count": 9,
   "id": "threaded-lodge",
   "metadata": {},
   "outputs": [
    {
     "data": {
      "text/plain": [
       "(['DrDoS_DNS.csv',\n",
       "  'DrDoS_LDAP.csv',\n",
       "  'DrDoS_MSSQL.csv',\n",
       "  'DrDoS_NetBIOS.csv',\n",
       "  'DrDoS_NTP.csv',\n",
       "  'DrDoS_SNMP.csv',\n",
       "  'DrDoS_SSDP.csv',\n",
       "  'DrDoS_UDP.csv',\n",
       "  'Syn.csv',\n",
       "  'TFTP.csv',\n",
       "  'UDPLag.csv'],\n",
       " ['Friday-WorkingHours-Afternoon-DDos.pcap_ISCX.csv',\n",
       "  'Friday-WorkingHours-Afternoon-PortScan.pcap_ISCX.csv',\n",
       "  'Friday-WorkingHours-Morning.pcap_ISCX.csv',\n",
       "  'Monday-WorkingHours.pcap_ISCX.csv',\n",
       "  'Thursday-WorkingHours-Afternoon-Infilteration.pcap_ISCX.csv',\n",
       "  'Thursday-WorkingHours-Morning-WebAttacks.pcap_ISCX.csv',\n",
       "  'Tuesday-WorkingHours.pcap_ISCX.csv',\n",
       "  'Wednesday-workingHours.pcap_ISCX.csv'])"
      ]
     },
     "execution_count": 9,
     "metadata": {},
     "output_type": "execute_result"
    }
   ],
   "source": [
    "# 读取攻击数据文件\n",
    "attackfilesdir2019 = '/mnt/hgfs/linuxfile/2019/'\n",
    "attackfilesdir2017 = '/mnt/hgfs/linuxfile/2017/'\n",
    "attackfiles2019 = os.listdir(attackfilesdir2019)\n",
    "attackfiles2017 = os.listdir(attackfilesdir2017)\n",
    "attackfiles2019, attackfiles2017"
   ]
  },
  {
   "cell_type": "code",
   "execution_count": 10,
   "id": "starting-enterprise",
   "metadata": {
    "scrolled": false
   },
   "outputs": [
    {
     "name": "stderr",
     "output_type": "stream",
     "text": [
      "/home/xuhao/miniconda3/envs/grdenv/lib/python3.7/site-packages/IPython/core/interactiveshell.py:2714: DtypeWarning: Columns (85) have mixed types.Specify dtype option on import or set low_memory=False.\n",
      "  interactivity=interactivity, compiler=compiler, result=result)\n"
     ]
    }
   ],
   "source": [
    "# 读取攻击数据\n",
    "#attack = pd.read_csv(attackfilesdir2017+attackfiles2017[0])\n",
    "#len(attack)\n",
    "attackfile2019 = attackfilesdir2019+attackfiles2019[5]\n",
    "attack = pd.read_csv(attackfile2019, nrows = 500000)"
   ]
  },
  {
   "cell_type": "code",
   "execution_count": 11,
   "id": "difficult-poker",
   "metadata": {},
   "outputs": [
    {
     "name": "stdout",
     "output_type": "stream",
     "text": [
      "499979\n"
     ]
    }
   ],
   "source": [
    "alldata, labels = preprocess2017(attack)\n",
    "mean = alldata.mean()\n",
    "cols = alldata.columns\n",
    "\n",
    "# 将平均值为0的数舍去，因为平均值为0说明所有值都是0\n",
    "loc = np.where(mean == 0.0)[0] # 定位\n",
    "mean = mean.drop(cols[loc])    # 删除\n",
    "alldata = alldata.drop(cols[loc],axis=1) # 删除\n",
    "alldata = alldata / mean\n",
    "alldata = alldata[select_cols]\n",
    "\n",
    "labels[labels != 'BENIGN'] = 1\n",
    "labels[labels == 'BENIGN'] = 0"
   ]
  },
  {
   "cell_type": "code",
   "execution_count": 12,
   "id": "cultural-supervision",
   "metadata": {},
   "outputs": [],
   "source": [
    "# 输出到attack.mat\n",
    "# 输出到labels.mat\n",
    "xmatpath = '/mnt/hgfs/linuxfile/'+'attack.mat'\n",
    "ymatpath = '/mnt/hgfs/linuxfile/'+'labels.mat'\n",
    "attack_data = alldata.values\n",
    "label_data = labels.values.astype(int)\n",
    "io.savemat(xmatpath,{'atk':attack_data})\n",
    "io.savemat(ymatpath,{'labels':label_data})"
   ]
  },
  {
   "cell_type": "code",
   "execution_count": null,
   "id": "institutional-hardware",
   "metadata": {},
   "outputs": [],
   "source": []
  },
  {
   "cell_type": "code",
   "execution_count": null,
   "id": "noted-question",
   "metadata": {},
   "outputs": [],
   "source": []
  }
 ],
 "metadata": {
  "kernelspec": {
   "display_name": "Python [conda env:grdenv]",
   "language": "python",
   "name": "conda-env-grdenv-py"
  },
  "language_info": {
   "codemirror_mode": {
    "name": "ipython",
    "version": 3
   },
   "file_extension": ".py",
   "mimetype": "text/x-python",
   "name": "python",
   "nbconvert_exporter": "python",
   "pygments_lexer": "ipython3",
   "version": "3.7.9"
  }
 },
 "nbformat": 4,
 "nbformat_minor": 5
}
