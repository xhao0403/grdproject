{
 "cells": [
  {
   "cell_type": "markdown",
   "metadata": {},
   "source": [
    "# 按照ip将数据文件中被攻击的IP流量包数据"
   ]
  },
  {
   "cell_type": "code",
   "execution_count": 1,
   "metadata": {},
   "outputs": [],
   "source": [
    "# import libs\n",
    "import numpy as np\n",
    "import pandas as pd\n",
    "import os"
   ]
  },
  {
   "cell_type": "code",
   "execution_count": 2,
   "metadata": {},
   "outputs": [],
   "source": [
    "# def function\n",
    "\n",
    "# 获取csv文件的列名\n",
    "def getcols(filename):\n",
    "    data = pd.read_csv(filename, nrows = 2)\n",
    "    #print(data.columns)\n",
    "    return data.columns\n",
    "\n",
    "# 获取文件行数\n",
    "def getrows(filename):\n",
    "    cols = getcols(filename)\n",
    "    col = cols[0]\n",
    "    data = pd.read_csv(filename, usecols=[col])\n",
    "    return data.shape[0]\n",
    "\n",
    "# 数据预处理- step1: 删除无法用于计算的列与含空值、负值、inf值的行\n",
    "def preprocess(data, cols, labelnum, label):\n",
    "    # print(data.columns)\n",
    "    \n",
    "        # 删除非数值型数据，这些数据暂时不用于聚类处理，但不代表这些数据没用\n",
    "    dropset = ['Flow ID', ' Source IP', ' Source Port',\n",
    "       ' Destination IP', ' Destination Port', ' Protocol', ' Timestamp',\n",
    "           ' Fwd Header Length.1']\n",
    "    # 删除含有大量负数的列\n",
    "    drop_nega = [' Fwd Header Length', 'Init_Win_bytes_forward',\n",
    "           ' Init_Win_bytes_backward', ' act_data_pkt_fwd',\n",
    "       ' min_seg_size_forward']\n",
    "    # 删除数据中可能出现的非数值型数据列\n",
    "    drop_ifexist = ['External IP','SimillarHTTP', ' Inbound','Unnamed: 0', 'Unnamed: 0.1']\n",
    "    \n",
    "    # 如果有list中的columns则删除\n",
    "    data.drop(data.columns[data.columns.isin(dropset+drop_nega+drop_ifexist)], axis = 1, inplace=True)\n",
    "    \n",
    "    # 将标签替换为数字\n",
    "    data.replace(to_replace=label, value=labelnum, inplace=True)\n",
    "    \n",
    "    # 将所有数据类型转成float型\n",
    "    data = data.astype('float')\n",
    "    \n",
    "    data.dropna(how='any', inplace=True)\n",
    "#    print(len(data))\n",
    "    data.reset_index(inplace=True, drop=True)\n",
    "    # 将所有数据类型转成float型\n",
    "    data = data.astype('float')\n",
    "    \n",
    "    # 删除数据中inf的值 (需要连续执行两次，不知道原因，但连续执行后就可删除数据中的inf)\n",
    "    idx_tuple = np.where(data.max(axis=1).values == np.inf)\n",
    "    idx = list(idx_tuple[0])\n",
    "   # print(idx)\n",
    "    data.drop(axis=0, index = idx, inplace = True)\n",
    "    data.reset_index(inplace=True, drop=True)\n",
    "\n",
    "   # print(len(data))\n",
    "    idx_tuple = np.where(data.max(axis=1).values == np.inf)\n",
    "    idx = list(idx_tuple[0])\n",
    "    data.drop(axis=0, index = idx, inplace = True)\n",
    "    data.reset_index(inplace=True, drop=True)\n",
    "\n",
    "   # print(len(data))\n",
    "\n",
    "    # 删除数据中含负数的数据条数\n",
    "    idx_tuple = np.where(data.min(axis=1).values < 0)\n",
    "    idx = list(idx_tuple[0])\n",
    "    data.drop(axis=0, index = idx, inplace = True)\n",
    "    data.reset_index(inplace=True, drop=True)\n",
    "    \n",
    "    return data"
   ]
  },
  {
   "cell_type": "code",
   "execution_count": 3,
   "metadata": {},
   "outputs": [],
   "source": [
    "# 从文件夹'newdata/'中读取数据文件\n",
    "filedir = '/mnt/hgfs/linuxfile/2017/'\n",
    "files = os.listdir(filedir)"
   ]
  },
  {
   "cell_type": "code",
   "execution_count": 4,
   "metadata": {},
   "outputs": [
    {
     "data": {
      "text/plain": [
       "['Friday-WorkingHours-Afternoon-DDos.pcap_ISCX.csv',\n",
       " 'Friday-WorkingHours-Afternoon-PortScan.pcap_ISCX.csv',\n",
       " 'Friday-WorkingHours-Morning.pcap_ISCX.csv',\n",
       " 'Monday-WorkingHours.pcap_ISCX.csv',\n",
       " 'Thursday-WorkingHours-Afternoon-Infilteration.pcap_ISCX.csv',\n",
       " 'Thursday-WorkingHours-Morning-WebAttacks.pcap_ISCX.csv',\n",
       " 'Tuesday-WorkingHours.pcap_ISCX.csv',\n",
       " 'Wednesday-workingHours.pcap_ISCX.csv']"
      ]
     },
     "execution_count": 4,
     "metadata": {},
     "output_type": "execute_result"
    }
   ],
   "source": [
    "files"
   ]
  },
  {
   "cell_type": "code",
   "execution_count": 5,
   "metadata": {},
   "outputs": [],
   "source": [
    "# 受害者IP\n",
    "DDos_victim_IP = ['192.168.10.50'] # 128834\n",
    "PortScan_victim_IP = ['192.168.10.50'] # 160716\n",
    "Botnet_victim_IP = ['192.168.10.15', '192.168.10.9', '192.168.10.14', '192.168.10.5', '192.168.10.8'] # 16029 \n",
    "WebAttack_victim_IP = ['192.168.10.50'] # 4230\n",
    "Infiltration_victim_IP = ['192.168.10.8', '192.168.10.25'] # 15943\n",
    "BruteForce_victim_IP = ['192.168.10.50'] # 4188\n",
    "DDos2_victim_IP = ['192.168.10.50','205.174.165.66','192.168.10.51'] # 23926\n",
    "ips = [DDos_victim_IP, PortScan_victim_IP, Botnet_victim_IP, WebAttack_victim_IP, Infiltration_victim_IP, BruteForce_victim_IP, DDos2_victim_IP]"
   ]
  },
  {
   "cell_type": "code",
   "execution_count": 6,
   "metadata": {},
   "outputs": [],
   "source": [
    "# i = 6\n",
    "# data = pd.read_csv(filedir+files[i])\n",
    "# data[data[' Destination IP'].isin(ips[i])]"
   ]
  },
  {
   "cell_type": "code",
   "execution_count": 7,
   "metadata": {},
   "outputs": [],
   "source": [
    "# 从文件夹'newdata/'中读取数据文件\n",
    "filedir = '/mnt/hgfs/linuxfile/2019/0112/'\n",
    "files = os.listdir(filedir)"
   ]
  },
  {
   "cell_type": "code",
   "execution_count": 8,
   "metadata": {},
   "outputs": [
    {
     "data": {
      "text/plain": [
       "['DrDoS_DNS.csv',\n",
       " 'DrDoS_LDAP.csv',\n",
       " 'DrDoS_MSSQL.csv',\n",
       " 'DrDoS_NetBIOS.csv',\n",
       " 'DrDoS_NTP.csv',\n",
       " 'DrDoS_SNMP.csv',\n",
       " 'DrDoS_SSDP.csv',\n",
       " 'DrDoS_UDP.csv',\n",
       " 'Syn.csv',\n",
       " 'TFTP.csv']"
      ]
     },
     "execution_count": 8,
     "metadata": {},
     "output_type": "execute_result"
    }
   ],
   "source": [
    "files"
   ]
  },
  {
   "cell_type": "code",
   "execution_count": 9,
   "metadata": {},
   "outputs": [],
   "source": [
    "# 受害者IP\n",
    "DNS_victim_IP = ['192.168.50.1']"
   ]
  },
  {
   "cell_type": "code",
   "execution_count": 10,
   "metadata": {
    "scrolled": true
   },
   "outputs": [
    {
     "name": "stdout",
     "output_type": "stream",
     "text": [
      "/mnt/hgfs/linuxfile/2019/0112/DrDoS_DNS.csv 5069066\n",
      "/mnt/hgfs/linuxfile/2019/0112/DrDoS_LDAP.csv 2179205\n",
      "/mnt/hgfs/linuxfile/2019/0112/DrDoS_MSSQL.csv 4521636\n",
      "/mnt/hgfs/linuxfile/2019/0112/DrDoS_NetBIOS.csv 4092295\n",
      "/mnt/hgfs/linuxfile/2019/0112/DrDoS_NTP.csv 1200627\n",
      "/mnt/hgfs/linuxfile/2019/0112/DrDoS_SNMP.csv 5158515\n",
      "/mnt/hgfs/linuxfile/2019/0112/DrDoS_SSDP.csv 2609649\n",
      "/mnt/hgfs/linuxfile/2019/0112/DrDoS_UDP.csv 3132763\n",
      "/mnt/hgfs/linuxfile/2019/0112/Syn.csv 1582112\n",
      "/mnt/hgfs/linuxfile/2019/0112/TFTP.csv 20078140\n"
     ]
    }
   ],
   "source": [
    "for i in range(10):\n",
    "    data = pd.read_csv(filedir+files[i], usecols=[' Destination IP'])\n",
    "    L = len(data[data[' Destination IP'].isin(DNS_victim_IP)])\n",
    "    print(filedir+files[i], L)"
   ]
  },
  {
   "cell_type": "markdown",
   "metadata": {},
   "source": [
    "### 各攻击与受害者ip相关的数据\n",
    "* /mnt/hgfs/linuxfile/2019/0112/DrDoS_DNS.csv 5069066\n",
    "* /mnt/hgfs/linuxfile/2019/0112/DrDoS_LDAP.csv 2179205\n",
    "* /mnt/hgfs/linuxfile/2019/0112/DrDoS_MSSQL.csv 4521636\n",
    "* /mnt/hgfs/linuxfile/2019/0112/DrDoS_NetBIOS.csv 4092295\n",
    "* /mnt/hgfs/linuxfile/2019/0112/DrDoS_NTP.csv 1200627\n",
    "* /mnt/hgfs/linuxfile/2019/0112/DrDoS_SNMP.csv 5158515\n",
    "* /mnt/hgfs/linuxfile/2019/0112/DrDoS_SSDP.csv 2609649\n",
    "* /mnt/hgfs/linuxfile/2019/0112/DrDoS_UDP.csv 3132763\n",
    "* /mnt/hgfs/linuxfile/2019/0112/Syn.csv 1582112\n",
    "* /mnt/hgfs/linuxfile/2019/0112/TFTP.csv 20078140"
   ]
  },
  {
   "cell_type": "code",
   "execution_count": 11,
   "metadata": {
    "collapsed": true
   },
   "outputs": [
    {
     "data": {
      "text/plain": [
       "['DrDoS_DNS.csv',\n",
       " 'DrDoS_LDAP.csv',\n",
       " 'DrDoS_MSSQL.csv',\n",
       " 'DrDoS_NetBIOS.csv',\n",
       " 'DrDoS_NTP.csv',\n",
       " 'DrDoS_SNMP.csv',\n",
       " 'DrDoS_SSDP.csv',\n",
       " 'DrDoS_UDP.csv',\n",
       " 'Syn.csv',\n",
       " 'TFTP.csv']"
      ]
     },
     "execution_count": 11,
     "metadata": {},
     "output_type": "execute_result"
    }
   ],
   "source": [
    "['DrDoS_DNS.csv',\n",
    " 'DrDoS_LDAP.csv',\n",
    " 'DrDoS_MSSQL.csv',\n",
    " 'DrDoS_NetBIOS.csv',\n",
    " 'DrDoS_NTP.csv',\n",
    " 'DrDoS_SNMP.csv',\n",
    " 'DrDoS_SSDP.csv',\n",
    " 'DrDoS_UDP.csv',\n",
    " 'Syn.csv',\n",
    " 'TFTP.csv']"
   ]
  },
  {
   "cell_type": "code",
   "execution_count": 12,
   "metadata": {},
   "outputs": [
    {
     "data": {
      "text/plain": [
       "20078140"
      ]
     },
     "execution_count": 12,
     "metadata": {},
     "output_type": "execute_result"
    }
   ],
   "source": [
    "len(data[data[' Destination IP'].isin(DNS_victim_IP)])"
   ]
  },
  {
   "cell_type": "code",
   "execution_count": null,
   "metadata": {},
   "outputs": [],
   "source": [
    "filedir = '/mnt/hgfs/linuxfile/2017/'\n",
    "files = os.listdir(filedir)"
   ]
  }
 ],
 "metadata": {
  "kernelspec": {
   "display_name": "Python [conda env:grdenv]",
   "language": "python",
   "name": "conda-env-grdenv-py"
  },
  "language_info": {
   "codemirror_mode": {
    "name": "ipython",
    "version": 3
   },
   "file_extension": ".py",
   "mimetype": "text/x-python",
   "name": "python",
   "nbconvert_exporter": "python",
   "pygments_lexer": "ipython3",
   "version": "3.7.9"
  }
 },
 "nbformat": 4,
 "nbformat_minor": 4
}
