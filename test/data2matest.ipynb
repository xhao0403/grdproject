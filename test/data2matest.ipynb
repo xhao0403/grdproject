{
 "cells": [
  {
   "cell_type": "markdown",
   "metadata": {},
   "source": [
    "## 数据处理流程\n",
    "1. 数据读入\n",
    "2. 数据清洗\n",
    "3. 数据无量纲化处理\n",
    "4. 特征选择\n",
    "5. 特征提取\n",
    "6. 聚类"
   ]
  },
  {
   "cell_type": "markdown",
   "metadata": {},
   "source": [
    "# 将数据文件处理成电脑可处理的小规模的数据"
   ]
  },
  {
   "cell_type": "markdown",
   "metadata": {},
   "source": [
    "## 数据读入"
   ]
  },
  {
   "cell_type": "code",
   "execution_count": 1,
   "metadata": {},
   "outputs": [],
   "source": [
    "# import libs\n",
    "import numpy as np\n",
    "import pandas as pd\n",
    "import os\n",
    "from sklearn.cluster import KMeans"
   ]
  },
  {
   "cell_type": "code",
   "execution_count": 2,
   "metadata": {},
   "outputs": [],
   "source": [
    "# 从文件夹'newdata/'中读取数据文件\n",
    "filedir = '/mnt/hgfs/vmfiles/newdata/'\n",
    "files = os.listdir(filedir)"
   ]
  },
  {
   "cell_type": "code",
   "execution_count": 3,
   "metadata": {},
   "outputs": [
    {
     "name": "stdout",
     "output_type": "stream",
     "text": [
      "get 10000 rows data from BENIGN_data.csv\n",
      "get 10000 rows data from DrDoS_DNS_data.csv\n",
      "get 10000 rows data from DrDoS_LDAP_data.csv\n",
      "get 10000 rows data from DrDoS_MSSQL_data.csv\n"
     ]
    },
    {
     "name": "stderr",
     "output_type": "stream",
     "text": [
      "/home/xuhao/miniconda3/envs/grdenv/lib/python3.7/site-packages/IPython/core/interactiveshell.py:3166: DtypeWarning: Columns (86) have mixed types.Specify dtype option on import or set low_memory=False.\n",
      "  interactivity=interactivity, compiler=compiler, result=result)\n"
     ]
    },
    {
     "name": "stdout",
     "output_type": "stream",
     "text": [
      "get 10000 rows data from DrDoS_NetBIOS_data.csv\n",
      "get 10000 rows data from DrDoS_NTP_data.csv\n",
      "get 10000 rows data from DrDoS_SNMP_data.csv\n",
      "get 10000 rows data from DrDoS_SSDP_data.csv\n",
      "get 10000 rows data from DrDoS_UDP_data.csv\n",
      "get 10000 rows data from Syn_data.csv\n",
      "get 10000 rows data from TFTP_data.csv\n"
     ]
    }
   ],
   "source": [
    "nrows = 10000 # 每个文件中读取前nrows行数据\n",
    "alldata = pd.DataFrame() #新建空的DataFrame\n",
    "for f in files: # 循环读入数据，加入到新建的DataFrame中\n",
    "    tdata = pd.read_csv(filedir + f, nrows=nrows)\n",
    "    print(\"get \" + str(tdata.shape[0]) + \" rows data from \" + f)\n",
    "    alldata = alldata.append(tdata, ignore_index=True)\n",
    "    #alldata = alldata.append(tdata)"
   ]
  },
  {
   "cell_type": "code",
   "execution_count": 4,
   "metadata": {},
   "outputs": [
    {
     "data": {
      "text/html": [
       "<div>\n",
       "<style scoped>\n",
       "    .dataframe tbody tr th:only-of-type {\n",
       "        vertical-align: middle;\n",
       "    }\n",
       "\n",
       "    .dataframe tbody tr th {\n",
       "        vertical-align: top;\n",
       "    }\n",
       "\n",
       "    .dataframe thead th {\n",
       "        text-align: right;\n",
       "    }\n",
       "</style>\n",
       "<table border=\"1\" class=\"dataframe\">\n",
       "  <thead>\n",
       "    <tr style=\"text-align: right;\">\n",
       "      <th></th>\n",
       "      <th>Flow ID</th>\n",
       "      <th>Source IP</th>\n",
       "      <th>Source Port</th>\n",
       "      <th>Destination IP</th>\n",
       "      <th>Destination Port</th>\n",
       "      <th>Protocol</th>\n",
       "      <th>Timestamp</th>\n",
       "      <th>Flow Duration</th>\n",
       "      <th>Total Fwd Packets</th>\n",
       "      <th>Total Backward Packets</th>\n",
       "      <th>...</th>\n",
       "      <th>Active Std</th>\n",
       "      <th>Active Max</th>\n",
       "      <th>Active Min</th>\n",
       "      <th>Idle Mean</th>\n",
       "      <th>Idle Std</th>\n",
       "      <th>Idle Max</th>\n",
       "      <th>Idle Min</th>\n",
       "      <th>SimillarHTTP</th>\n",
       "      <th>Inbound</th>\n",
       "      <th>Label</th>\n",
       "    </tr>\n",
       "  </thead>\n",
       "  <tbody>\n",
       "    <tr>\n",
       "      <th>0</th>\n",
       "      <td>192.168.50.8-125.56.201.115-59099-80-6</td>\n",
       "      <td>192.168.50.8</td>\n",
       "      <td>59099</td>\n",
       "      <td>125.56.201.115</td>\n",
       "      <td>80</td>\n",
       "      <td>6</td>\n",
       "      <td>2018-12-01 10:51:40.379825</td>\n",
       "      <td>110861755</td>\n",
       "      <td>26</td>\n",
       "      <td>26</td>\n",
       "      <td>...</td>\n",
       "      <td>64223.338986</td>\n",
       "      <td>392446.0</td>\n",
       "      <td>179351.0</td>\n",
       "      <td>9.863210e+06</td>\n",
       "      <td>413171.813769</td>\n",
       "      <td>10007500.0</td>\n",
       "      <td>8632089.0</td>\n",
       "      <td>detectportal.firefox.com/success.txt</td>\n",
       "      <td>0</td>\n",
       "      <td>BENIGN</td>\n",
       "    </tr>\n",
       "    <tr>\n",
       "      <th>1</th>\n",
       "      <td>192.168.50.8-54.218.239.186-59102-443-6</td>\n",
       "      <td>192.168.50.8</td>\n",
       "      <td>59102</td>\n",
       "      <td>54.218.239.186</td>\n",
       "      <td>443</td>\n",
       "      <td>6</td>\n",
       "      <td>2018-12-01 10:51:40.504696</td>\n",
       "      <td>40335006</td>\n",
       "      <td>9</td>\n",
       "      <td>10</td>\n",
       "      <td>...</td>\n",
       "      <td>43.554563</td>\n",
       "      <td>90287.0</td>\n",
       "      <td>90185.0</td>\n",
       "      <td>9.993447e+06</td>\n",
       "      <td>40495.753715</td>\n",
       "      <td>10018634.0</td>\n",
       "      <td>9933709.0</td>\n",
       "      <td>0</td>\n",
       "      <td>0</td>\n",
       "      <td>BENIGN</td>\n",
       "    </tr>\n",
       "    <tr>\n",
       "      <th>2</th>\n",
       "      <td>192.168.50.253-224.0.0.5-0-0-0</td>\n",
       "      <td>192.168.50.253</td>\n",
       "      <td>0</td>\n",
       "      <td>224.0.0.5</td>\n",
       "      <td>0</td>\n",
       "      <td>0</td>\n",
       "      <td>2018-12-01 10:51:41.309691</td>\n",
       "      <td>113244633</td>\n",
       "      <td>56</td>\n",
       "      <td>0</td>\n",
       "      <td>...</td>\n",
       "      <td>859690.585416</td>\n",
       "      <td>2978061.0</td>\n",
       "      <td>4.0</td>\n",
       "      <td>9.188876e+06</td>\n",
       "      <td>809901.667647</td>\n",
       "      <td>9882838.0</td>\n",
       "      <td>6781893.0</td>\n",
       "      <td>0</td>\n",
       "      <td>0</td>\n",
       "      <td>BENIGN</td>\n",
       "    </tr>\n",
       "    <tr>\n",
       "      <th>3</th>\n",
       "      <td>192.168.50.8-23.15.4.11-59155-80-6</td>\n",
       "      <td>192.168.50.8</td>\n",
       "      <td>59155</td>\n",
       "      <td>23.15.4.11</td>\n",
       "      <td>80</td>\n",
       "      <td>6</td>\n",
       "      <td>2018-12-01 10:51:43.125459</td>\n",
       "      <td>95628949</td>\n",
       "      <td>21</td>\n",
       "      <td>20</td>\n",
       "      <td>...</td>\n",
       "      <td>177.422362</td>\n",
       "      <td>15367.0</td>\n",
       "      <td>14798.0</td>\n",
       "      <td>1.001418e+07</td>\n",
       "      <td>5184.077926</td>\n",
       "      <td>10016037.0</td>\n",
       "      <td>10000366.0</td>\n",
       "      <td>0</td>\n",
       "      <td>0</td>\n",
       "      <td>BENIGN</td>\n",
       "    </tr>\n",
       "    <tr>\n",
       "      <th>4</th>\n",
       "      <td>172.217.0.110-192.168.50.8-80-59131-6</td>\n",
       "      <td>192.168.50.8</td>\n",
       "      <td>59131</td>\n",
       "      <td>172.217.0.110</td>\n",
       "      <td>80</td>\n",
       "      <td>6</td>\n",
       "      <td>2018-12-01 10:51:43.141041</td>\n",
       "      <td>95613243</td>\n",
       "      <td>21</td>\n",
       "      <td>20</td>\n",
       "      <td>...</td>\n",
       "      <td>17.902514</td>\n",
       "      <td>26534.0</td>\n",
       "      <td>26473.0</td>\n",
       "      <td>1.000431e+07</td>\n",
       "      <td>21.430119</td>\n",
       "      <td>10004365.0</td>\n",
       "      <td>10004289.0</td>\n",
       "      <td>0</td>\n",
       "      <td>0</td>\n",
       "      <td>BENIGN</td>\n",
       "    </tr>\n",
       "    <tr>\n",
       "      <th>...</th>\n",
       "      <td>...</td>\n",
       "      <td>...</td>\n",
       "      <td>...</td>\n",
       "      <td>...</td>\n",
       "      <td>...</td>\n",
       "      <td>...</td>\n",
       "      <td>...</td>\n",
       "      <td>...</td>\n",
       "      <td>...</td>\n",
       "      <td>...</td>\n",
       "      <td>...</td>\n",
       "      <td>...</td>\n",
       "      <td>...</td>\n",
       "      <td>...</td>\n",
       "      <td>...</td>\n",
       "      <td>...</td>\n",
       "      <td>...</td>\n",
       "      <td>...</td>\n",
       "      <td>...</td>\n",
       "      <td>...</td>\n",
       "      <td>...</td>\n",
       "    </tr>\n",
       "    <tr>\n",
       "      <th>107839</th>\n",
       "      <td>172.16.0.5-192.168.50.1-49497-64965-6</td>\n",
       "      <td>172.16.0.5</td>\n",
       "      <td>49497</td>\n",
       "      <td>192.168.50.1</td>\n",
       "      <td>64965</td>\n",
       "      <td>6</td>\n",
       "      <td>2018-12-01 13:34:28.374676</td>\n",
       "      <td>1</td>\n",
       "      <td>2</td>\n",
       "      <td>0</td>\n",
       "      <td>...</td>\n",
       "      <td>0.000000</td>\n",
       "      <td>0.0</td>\n",
       "      <td>0.0</td>\n",
       "      <td>0.000000e+00</td>\n",
       "      <td>0.000000</td>\n",
       "      <td>0.0</td>\n",
       "      <td>0.0</td>\n",
       "      <td>0</td>\n",
       "      <td>1</td>\n",
       "      <td>TFTP</td>\n",
       "    </tr>\n",
       "    <tr>\n",
       "      <th>107840</th>\n",
       "      <td>172.16.0.5-192.168.50.1-64068-64068-6</td>\n",
       "      <td>172.16.0.5</td>\n",
       "      <td>64068</td>\n",
       "      <td>192.168.50.1</td>\n",
       "      <td>64068</td>\n",
       "      <td>6</td>\n",
       "      <td>2018-12-01 13:34:28.374742</td>\n",
       "      <td>14075036</td>\n",
       "      <td>4</td>\n",
       "      <td>0</td>\n",
       "      <td>...</td>\n",
       "      <td>0.000000</td>\n",
       "      <td>1.0</td>\n",
       "      <td>1.0</td>\n",
       "      <td>1.407503e+07</td>\n",
       "      <td>0.000000</td>\n",
       "      <td>14075034.0</td>\n",
       "      <td>14075034.0</td>\n",
       "      <td>0</td>\n",
       "      <td>1</td>\n",
       "      <td>TFTP</td>\n",
       "    </tr>\n",
       "    <tr>\n",
       "      <th>107841</th>\n",
       "      <td>172.16.0.5-192.168.50.1-47148-47148-6</td>\n",
       "      <td>172.16.0.5</td>\n",
       "      <td>47148</td>\n",
       "      <td>192.168.50.1</td>\n",
       "      <td>47148</td>\n",
       "      <td>6</td>\n",
       "      <td>2018-12-01 13:34:28.374744</td>\n",
       "      <td>48</td>\n",
       "      <td>2</td>\n",
       "      <td>0</td>\n",
       "      <td>...</td>\n",
       "      <td>0.000000</td>\n",
       "      <td>0.0</td>\n",
       "      <td>0.0</td>\n",
       "      <td>0.000000e+00</td>\n",
       "      <td>0.000000</td>\n",
       "      <td>0.0</td>\n",
       "      <td>0.0</td>\n",
       "      <td>0</td>\n",
       "      <td>1</td>\n",
       "      <td>TFTP</td>\n",
       "    </tr>\n",
       "    <tr>\n",
       "      <th>107842</th>\n",
       "      <td>172.16.0.5-192.168.50.1-49498-55027-6</td>\n",
       "      <td>172.16.0.5</td>\n",
       "      <td>49498</td>\n",
       "      <td>192.168.50.1</td>\n",
       "      <td>55027</td>\n",
       "      <td>6</td>\n",
       "      <td>2018-12-01 13:34:28.374793</td>\n",
       "      <td>116</td>\n",
       "      <td>2</td>\n",
       "      <td>2</td>\n",
       "      <td>...</td>\n",
       "      <td>0.000000</td>\n",
       "      <td>0.0</td>\n",
       "      <td>0.0</td>\n",
       "      <td>0.000000e+00</td>\n",
       "      <td>0.000000</td>\n",
       "      <td>0.0</td>\n",
       "      <td>0.0</td>\n",
       "      <td>0</td>\n",
       "      <td>1</td>\n",
       "      <td>TFTP</td>\n",
       "    </tr>\n",
       "    <tr>\n",
       "      <th>107843</th>\n",
       "      <td>172.16.0.5-192.168.50.1-62459-62459-6</td>\n",
       "      <td>172.16.0.5</td>\n",
       "      <td>62459</td>\n",
       "      <td>192.168.50.1</td>\n",
       "      <td>62459</td>\n",
       "      <td>6</td>\n",
       "      <td>2018-12-01 13:34:28.374910</td>\n",
       "      <td>1</td>\n",
       "      <td>2</td>\n",
       "      <td>0</td>\n",
       "      <td>...</td>\n",
       "      <td>0.000000</td>\n",
       "      <td>0.0</td>\n",
       "      <td>0.0</td>\n",
       "      <td>0.000000e+00</td>\n",
       "      <td>0.000000</td>\n",
       "      <td>0.0</td>\n",
       "      <td>0.0</td>\n",
       "      <td>0</td>\n",
       "      <td>1</td>\n",
       "      <td>TFTP</td>\n",
       "    </tr>\n",
       "  </tbody>\n",
       "</table>\n",
       "<p>107844 rows × 87 columns</p>\n",
       "</div>"
      ],
      "text/plain": [
       "                                        Flow ID       Source IP   Source Port  \\\n",
       "0        192.168.50.8-125.56.201.115-59099-80-6    192.168.50.8         59099   \n",
       "1       192.168.50.8-54.218.239.186-59102-443-6    192.168.50.8         59102   \n",
       "2                192.168.50.253-224.0.0.5-0-0-0  192.168.50.253             0   \n",
       "3            192.168.50.8-23.15.4.11-59155-80-6    192.168.50.8         59155   \n",
       "4         172.217.0.110-192.168.50.8-80-59131-6    192.168.50.8         59131   \n",
       "...                                         ...             ...           ...   \n",
       "107839    172.16.0.5-192.168.50.1-49497-64965-6      172.16.0.5         49497   \n",
       "107840    172.16.0.5-192.168.50.1-64068-64068-6      172.16.0.5         64068   \n",
       "107841    172.16.0.5-192.168.50.1-47148-47148-6      172.16.0.5         47148   \n",
       "107842    172.16.0.5-192.168.50.1-49498-55027-6      172.16.0.5         49498   \n",
       "107843    172.16.0.5-192.168.50.1-62459-62459-6      172.16.0.5         62459   \n",
       "\n",
       "        Destination IP   Destination Port   Protocol  \\\n",
       "0       125.56.201.115                 80          6   \n",
       "1       54.218.239.186                443          6   \n",
       "2            224.0.0.5                  0          0   \n",
       "3           23.15.4.11                 80          6   \n",
       "4        172.217.0.110                 80          6   \n",
       "...                ...                ...        ...   \n",
       "107839    192.168.50.1              64965          6   \n",
       "107840    192.168.50.1              64068          6   \n",
       "107841    192.168.50.1              47148          6   \n",
       "107842    192.168.50.1              55027          6   \n",
       "107843    192.168.50.1              62459          6   \n",
       "\n",
       "                         Timestamp   Flow Duration   Total Fwd Packets  \\\n",
       "0       2018-12-01 10:51:40.379825       110861755                  26   \n",
       "1       2018-12-01 10:51:40.504696        40335006                   9   \n",
       "2       2018-12-01 10:51:41.309691       113244633                  56   \n",
       "3       2018-12-01 10:51:43.125459        95628949                  21   \n",
       "4       2018-12-01 10:51:43.141041        95613243                  21   \n",
       "...                            ...             ...                 ...   \n",
       "107839  2018-12-01 13:34:28.374676               1                   2   \n",
       "107840  2018-12-01 13:34:28.374742        14075036                   4   \n",
       "107841  2018-12-01 13:34:28.374744              48                   2   \n",
       "107842  2018-12-01 13:34:28.374793             116                   2   \n",
       "107843  2018-12-01 13:34:28.374910               1                   2   \n",
       "\n",
       "         Total Backward Packets  ...     Active Std   Active Max   Active Min  \\\n",
       "0                            26  ...   64223.338986     392446.0     179351.0   \n",
       "1                            10  ...      43.554563      90287.0      90185.0   \n",
       "2                             0  ...  859690.585416    2978061.0          4.0   \n",
       "3                            20  ...     177.422362      15367.0      14798.0   \n",
       "4                            20  ...      17.902514      26534.0      26473.0   \n",
       "...                         ...  ...            ...          ...          ...   \n",
       "107839                        0  ...       0.000000          0.0          0.0   \n",
       "107840                        0  ...       0.000000          1.0          1.0   \n",
       "107841                        0  ...       0.000000          0.0          0.0   \n",
       "107842                        2  ...       0.000000          0.0          0.0   \n",
       "107843                        0  ...       0.000000          0.0          0.0   \n",
       "\n",
       "           Idle Mean       Idle Std    Idle Max    Idle Min  \\\n",
       "0       9.863210e+06  413171.813769  10007500.0   8632089.0   \n",
       "1       9.993447e+06   40495.753715  10018634.0   9933709.0   \n",
       "2       9.188876e+06  809901.667647   9882838.0   6781893.0   \n",
       "3       1.001418e+07    5184.077926  10016037.0  10000366.0   \n",
       "4       1.000431e+07      21.430119  10004365.0  10004289.0   \n",
       "...              ...            ...         ...         ...   \n",
       "107839  0.000000e+00       0.000000         0.0         0.0   \n",
       "107840  1.407503e+07       0.000000  14075034.0  14075034.0   \n",
       "107841  0.000000e+00       0.000000         0.0         0.0   \n",
       "107842  0.000000e+00       0.000000         0.0         0.0   \n",
       "107843  0.000000e+00       0.000000         0.0         0.0   \n",
       "\n",
       "                                SimillarHTTP   Inbound   Label  \n",
       "0       detectportal.firefox.com/success.txt         0  BENIGN  \n",
       "1                                          0         0  BENIGN  \n",
       "2                                          0         0  BENIGN  \n",
       "3                                          0         0  BENIGN  \n",
       "4                                          0         0  BENIGN  \n",
       "...                                      ...       ...     ...  \n",
       "107839                                     0         1    TFTP  \n",
       "107840                                     0         1    TFTP  \n",
       "107841                                     0         1    TFTP  \n",
       "107842                                     0         1    TFTP  \n",
       "107843                                     0         1    TFTP  \n",
       "\n",
       "[107844 rows x 87 columns]"
      ]
     },
     "execution_count": 4,
     "metadata": {},
     "output_type": "execute_result"
    }
   ],
   "source": [
    "cols = alldata.columns\n",
    "alldata = alldata.drop(cols[0:2],axis = 1) # 删除两列必然没用的数据\n",
    "alldata = alldata.dropna(how='any') # 删除含有nan值的数据\n",
    "alldata.reset_index(inplace=True, drop=True) # 重置index\n",
    "alldata\n",
    "# 36079 rows × 87 columns"
   ]
  },
  {
   "cell_type": "code",
   "execution_count": 5,
   "metadata": {},
   "outputs": [
    {
     "data": {
      "text/plain": [
       "['BENIGN',\n",
       " 'DrDoS_DNS',\n",
       " 'Syn',\n",
       " 'DrDoS_LDAP',\n",
       " 'DrDoS_SNMP',\n",
       " 'DrDoS_NetBIOS',\n",
       " 'DrDoS_UDP',\n",
       " 'DrDoS_NTP',\n",
       " 'DrDoS_SSDP',\n",
       " 'TFTP',\n",
       " 'DrDoS_MSSQL']"
      ]
     },
     "execution_count": 5,
     "metadata": {},
     "output_type": "execute_result"
    }
   ],
   "source": [
    "L = set(alldata[' Label'])\n",
    "labels = []\n",
    "for l in L:\n",
    "    labels.append(l)\n",
    "labels\n",
    "    "
   ]
  },
  {
   "cell_type": "markdown",
   "metadata": {},
   "source": [
    "## 数据清洗"
   ]
  },
  {
   "cell_type": "code",
   "execution_count": 6,
   "metadata": {},
   "outputs": [],
   "source": [
    "alldata.dropna(how='any',inplace=True) # 再次删除含有空值的行\n",
    "\n",
    "# 删除非数值型数据，这些数据暂时不用于聚类处理，但不代表这些数据没用\n",
    "dropset = ['Flow ID', ' Source IP', ' Source Port',\n",
    "       ' Destination IP', ' Destination Port', ' Protocol', ' Timestamp',\n",
    "           ' Fwd Header Length.1', 'SimillarHTTP', ' Inbound']\n",
    "# 删除含有大量负数的列\n",
    "drop_nega = [' Fwd Header Length', 'Init_Win_bytes_forward',\n",
    "       ' Init_Win_bytes_backward', ' act_data_pkt_fwd',\n",
    "       ' min_seg_size_forward']\n",
    "alldata.drop(dropset, axis=1,inplace=True)\n",
    "alldata.drop(drop_nega, axis=1,inplace=True)\n",
    "cols = alldata.columns\n",
    "# len(dropset),cols.size\n",
    "\n",
    "# 将labels替代成数值型值\n",
    "for i in range(len(labels)):\n",
    "    alldata.replace(to_replace =labels[i], value = i, inplace = True)"
   ]
  },
  {
   "cell_type": "code",
   "execution_count": 7,
   "metadata": {},
   "outputs": [],
   "source": [
    "# 删除数据中inf的值\n",
    "idx_tuple = np.where(alldata.max(axis=1).values == np.inf)\n",
    "idx = list(idx_tuple[0])\n",
    "alldata.drop(axis=0, index = idx, inplace = True)\n",
    "alldata.reset_index(inplace=True, drop=True)\n",
    "# 删除数据中含负数的数据条数\n",
    "idx_tuple = np.where(alldata.min(axis=1).values < 0)\n",
    "idx = list(idx_tuple[0])\n",
    "alldata.drop(axis=0, index = idx, inplace = True)\n",
    "alldata.reset_index(inplace=True, drop=True)"
   ]
  },
  {
   "cell_type": "code",
   "execution_count": 8,
   "metadata": {},
   "outputs": [],
   "source": [
    "# 拆分数据X-Y\n",
    "Y = alldata[' Label']\n",
    "X = alldata.drop([' Label'], axis=1)"
   ]
  },
  {
   "cell_type": "code",
   "execution_count": 9,
   "metadata": {},
   "outputs": [],
   "source": [
    "# 将pandas数据转成numpy array\n",
    "X = X.values\n",
    "Y = Y.values"
   ]
  },
  {
   "cell_type": "markdown",
   "metadata": {},
   "source": [
    "## 数据无量纲化处理"
   ]
  },
  {
   "cell_type": "code",
   "execution_count": 10,
   "metadata": {},
   "outputs": [],
   "source": [
    "from sklearn import preprocessing"
   ]
  },
  {
   "cell_type": "code",
   "execution_count": 11,
   "metadata": {},
   "outputs": [],
   "source": [
    "# 采用两种不同的标准化方式\n",
    "#MaxAbs标准化\n",
    "#建立MinMaxScaler对象\n",
    "maxabs = preprocessing.MaxAbsScaler()\n",
    "# 标准化处理\n",
    "data_maxabs = maxabs.fit_transform(X)\n",
    "\n",
    "#zscore标准化\n",
    "zscore = preprocessing.StandardScaler()\n",
    "#zscore标准化\n",
    "X_zscore = zscore.fit_transform(X)"
   ]
  },
  {
   "cell_type": "markdown",
   "metadata": {},
   "source": [
    "## 特征选择"
   ]
  },
  {
   "cell_type": "code",
   "execution_count": 12,
   "metadata": {},
   "outputs": [],
   "source": [
    "from scipy.stats import pearsonr\n",
    "from sklearn.feature_selection import SelectKBest\n",
    "from numpy import array"
   ]
  },
  {
   "cell_type": "code",
   "execution_count": 2,
   "metadata": {},
   "outputs": [
    {
     "ename": "NameError",
     "evalue": "name 'data_maxabs' is not defined",
     "output_type": "error",
     "traceback": [
      "\u001b[0;31m---------------------------------------------------------------------------\u001b[0m",
      "\u001b[0;31mNameError\u001b[0m                                 Traceback (most recent call last)",
      "\u001b[0;32m<ipython-input-2-87e815baa9f7>\u001b[0m in \u001b[0;36m<module>\u001b[0;34m\u001b[0m\n\u001b[1;32m      2\u001b[0m \u001b[0;32mfrom\u001b[0m \u001b[0msklearn\u001b[0m\u001b[0;34m.\u001b[0m\u001b[0mfeature_selection\u001b[0m \u001b[0;32mimport\u001b[0m \u001b[0mRFE\u001b[0m\u001b[0;34m\u001b[0m\u001b[0;34m\u001b[0m\u001b[0m\n\u001b[1;32m      3\u001b[0m \u001b[0;32mfrom\u001b[0m \u001b[0msklearn\u001b[0m\u001b[0;34m.\u001b[0m\u001b[0mlinear_model\u001b[0m \u001b[0;32mimport\u001b[0m \u001b[0mLogisticRegression\u001b[0m\u001b[0;34m\u001b[0m\u001b[0;34m\u001b[0m\u001b[0m\n\u001b[0;32m----> 4\u001b[0;31m \u001b[0mX_new\u001b[0m \u001b[0;34m=\u001b[0m \u001b[0mRFE\u001b[0m\u001b[0;34m(\u001b[0m\u001b[0mestimator\u001b[0m\u001b[0;34m=\u001b[0m\u001b[0mLogisticRegression\u001b[0m\u001b[0;34m(\u001b[0m\u001b[0;34m)\u001b[0m\u001b[0;34m,\u001b[0m \u001b[0mn_features_to_select\u001b[0m\u001b[0;34m=\u001b[0m\u001b[0;36m10\u001b[0m\u001b[0;34m)\u001b[0m\u001b[0;34m.\u001b[0m\u001b[0mfit_transform\u001b[0m\u001b[0;34m(\u001b[0m\u001b[0mdata_maxabs\u001b[0m\u001b[0;34m,\u001b[0m \u001b[0mY\u001b[0m\u001b[0;34m)\u001b[0m\u001b[0;34m\u001b[0m\u001b[0;34m\u001b[0m\u001b[0m\n\u001b[0m",
      "\u001b[0;31mNameError\u001b[0m: name 'data_maxabs' is not defined"
     ]
    }
   ],
   "source": [
    "## 递归特征消除法\n",
    "from sklearn.feature_selection import RFE\n",
    "from sklearn.linear_model import LogisticRegression\n",
    "X_new = RFE(estimator=LogisticRegression(), n_features_to_select=10).fit_transform(data_maxabs, Y)"
   ]
  },
  {
   "cell_type": "code",
   "execution_count": 1,
   "metadata": {
    "scrolled": true
   },
   "outputs": [
    {
     "ename": "NameError",
     "evalue": "name 'X_new' is not defined",
     "output_type": "error",
     "traceback": [
      "\u001b[0;31m---------------------------------------------------------------------------\u001b[0m",
      "\u001b[0;31mNameError\u001b[0m                                 Traceback (most recent call last)",
      "\u001b[0;32m<ipython-input-1-dd4f0c86a551>\u001b[0m in \u001b[0;36m<module>\u001b[0;34m\u001b[0m\n\u001b[0;32m----> 1\u001b[0;31m \u001b[0mX_new\u001b[0m\u001b[0;34m.\u001b[0m\u001b[0mshape\u001b[0m\u001b[0;34m\u001b[0m\u001b[0;34m\u001b[0m\u001b[0m\n\u001b[0m",
      "\u001b[0;31mNameError\u001b[0m: name 'X_new' is not defined"
     ]
    }
   ],
   "source": [
    "X_new.shape"
   ]
  },
  {
   "cell_type": "code",
   "execution_count": 16,
   "metadata": {},
   "outputs": [
    {
     "data": {
      "text/plain": [
       "array([[0.00000000e+00, 7.85738800e-03, 3.62178850e-02, ...,\n",
       "        1.00000000e+00, 6.61601596e-03, 7.85738800e-03],\n",
       "       [0.00000000e+00, 2.94793778e-04, 1.50044980e-04, ...,\n",
       "        1.00000000e+00, 9.28228422e-04, 2.94793778e-04],\n",
       "       [0.00000000e+00, 0.00000000e+00, 0.00000000e+00, ...,\n",
       "        0.00000000e+00, 0.00000000e+00, 0.00000000e+00],\n",
       "       ...,\n",
       "       [0.00000000e+00, 0.00000000e+00, 0.00000000e+00, ...,\n",
       "        0.00000000e+00, 0.00000000e+00, 0.00000000e+00],\n",
       "       [0.00000000e+00, 0.00000000e+00, 0.00000000e+00, ...,\n",
       "        0.00000000e+00, 0.00000000e+00, 0.00000000e+00],\n",
       "       [0.00000000e+00, 0.00000000e+00, 0.00000000e+00, ...,\n",
       "        0.00000000e+00, 0.00000000e+00, 0.00000000e+00]])"
      ]
     },
     "execution_count": 16,
     "metadata": {},
     "output_type": "execute_result"
    }
   ],
   "source": [
    "X_new"
   ]
  },
  {
   "cell_type": "code",
   "execution_count": 17,
   "metadata": {
    "scrolled": true
   },
   "outputs": [
    {
     "data": {
      "text/plain": [
       "array([[9.23848282e-01, 3.02698675e-04, 5.64971751e-03, ...,\n",
       "        6.25990229e-03, 8.72147317e-02, 7.52281115e-02],\n",
       "       [3.36125168e-01, 1.04780311e-04, 2.17296827e-03, ...,\n",
       "        6.13544905e-04, 8.73117638e-02, 8.65716478e-02],\n",
       "       [9.43705605e-01, 6.51966377e-04, 0.00000000e+00, ...,\n",
       "        1.22706950e-02, 8.61283102e-02, 5.91037700e-02],\n",
       "       ...,\n",
       "       [4.00000140e-07, 2.32845135e-05, 0.00000000e+00, ...,\n",
       "        0.00000000e+00, 0.00000000e+00, 0.00000000e+00],\n",
       "       [9.66667005e-07, 2.32845135e-05, 4.34593655e-04, ...,\n",
       "        0.00000000e+00, 0.00000000e+00, 0.00000000e+00],\n",
       "       [8.33333625e-09, 2.32845135e-05, 0.00000000e+00, ...,\n",
       "        0.00000000e+00, 0.00000000e+00, 0.00000000e+00]])"
      ]
     },
     "execution_count": 17,
     "metadata": {},
     "output_type": "execute_result"
    }
   ],
   "source": [
    "data_maxabs"
   ]
  },
  {
   "cell_type": "code",
   "execution_count": 18,
   "metadata": {},
   "outputs": [],
   "source": [
    "# X_new = SelectKBest(lambda X, Y: array(list(map(lambda x:pearsonr(x, Y), X.o))).T, k=30).fit_transform(data_maxabs, Y)"
   ]
  },
  {
   "cell_type": "markdown",
   "metadata": {},
   "source": [
    "## 将矩阵转换成matlab处理的.mat格式"
   ]
  },
  {
   "cell_type": "code",
   "execution_count": 22,
   "metadata": {},
   "outputs": [],
   "source": [
    "import scipy.io as io\n",
    "xmatpath = '/mnt/hgfs/vmfiles/mat/X.mat'\n",
    "ymatpath = '/mnt/hgfs/vmfiles/mat/Y.mat'\n",
    "xmat = X_new\n",
    "ymat = Y\n",
    "io.savemat(xmatpath,{'X':xmat})\n",
    "io.savemat(ymatpath,{'Y':ymat})"
   ]
  },
  {
   "cell_type": "code",
   "execution_count": 23,
   "metadata": {},
   "outputs": [
    {
     "data": {
      "text/plain": [
       "array([0, 0, 0, ..., 9, 9, 9])"
      ]
     },
     "execution_count": 23,
     "metadata": {},
     "output_type": "execute_result"
    }
   ],
   "source": [
    "Y"
   ]
  },
  {
   "cell_type": "code",
   "execution_count": 24,
   "metadata": {},
   "outputs": [
    {
     "data": {
      "text/plain": [
       "{0, 1, 2, 3, 4, 5, 6, 7, 8, 9, 10}"
      ]
     },
     "execution_count": 24,
     "metadata": {},
     "output_type": "execute_result"
    }
   ],
   "source": [
    "set(Y)"
   ]
  },
  {
   "cell_type": "code",
   "execution_count": null,
   "metadata": {},
   "outputs": [],
   "source": []
  }
 ],
 "metadata": {
  "kernelspec": {
   "display_name": "Python [conda env:grdenv]",
   "language": "python",
   "name": "conda-env-grdenv-py"
  },
  "language_info": {
   "codemirror_mode": {
    "name": "ipython",
    "version": 3
   },
   "file_extension": ".py",
   "mimetype": "text/x-python",
   "name": "python",
   "nbconvert_exporter": "python",
   "pygments_lexer": "ipython3",
   "version": "3.7.10"
  }
 },
 "nbformat": 4,
 "nbformat_minor": 4
}
