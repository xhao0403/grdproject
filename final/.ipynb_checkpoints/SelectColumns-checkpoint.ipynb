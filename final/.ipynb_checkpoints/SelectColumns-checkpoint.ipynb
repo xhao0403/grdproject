{
 "cells": [
  {
   "cell_type": "code",
   "execution_count": 1,
   "id": "polyphonic-mexican",
   "metadata": {},
   "outputs": [],
   "source": [
    "# import libs\n",
    "import numpy as np\n",
    "import pandas as pd\n",
    "import os"
   ]
  },
  {
   "cell_type": "code",
   "execution_count": 2,
   "id": "absent-saver",
   "metadata": {},
   "outputs": [],
   "source": [
    "# def function\n",
    "\n",
    "# 获取csv文件的列名\n",
    "def getcols(filename):\n",
    "    data = pd.read_csv(filename, nrows = 2)\n",
    "    #print(data.columns)\n",
    "    return data.columns\n",
    "\n",
    "# 获取文件行数\n",
    "def getrows(filename):\n",
    "    cols = getcols(filename)\n",
    "    col = cols[0]\n",
    "    data = pd.read_csv(filename, usecols=[col])\n",
    "    return data.shape[0]\n",
    "\n",
    "# 数据预处理- step1: 删除无法用于计算的列与含空值、负值、inf值的行\n",
    "def preprocess(data, cols, labelnum, label):\n",
    "    # print(data.columns)\n",
    "    \n",
    "        # 删除非数值型数据，这些数据暂时不用于聚类处理，但不代表这些数据没用\n",
    "    dropset = ['Flow ID', ' Source IP', ' Source Port',\n",
    "       ' Destination IP', ' Destination Port', ' Protocol', ' Timestamp',\n",
    "           ' Fwd Header Length.1']\n",
    "    # 删除含有大量负数的列\n",
    "    drop_nega = [' Fwd Header Length', 'Init_Win_bytes_forward',\n",
    "           ' Init_Win_bytes_backward', ' act_data_pkt_fwd',\n",
    "       ' min_seg_size_forward']\n",
    "    # 删除数据中可能出现的非数值型数据列\n",
    "    drop_ifexist = ['External IP','SimillarHTTP', ' Inbound','Unnamed: 0', 'Unnamed: 0.1']\n",
    "    \n",
    "    # 如果有list中的columns则删除\n",
    "    data.drop(data.columns[data.columns.isin(dropset+drop_nega+drop_ifexist)], axis = 1, inplace=True)\n",
    "    \n",
    "    # 将标签替换为数字\n",
    "    data.replace(to_replace=label, value=labelnum, inplace=True)\n",
    "    \n",
    "    # 将所有数据类型转成float型\n",
    "    data = data.astype('float')\n",
    "    \n",
    "    data.dropna(how='any', inplace=True)\n",
    "#    print(len(data))\n",
    "    data.reset_index(inplace=True, drop=True)\n",
    "    # 将所有数据类型转成float型\n",
    "    data = data.astype('float')\n",
    "    \n",
    "    # 删除数据中inf的值 (需要连续执行两次，不知道原因，但连续执行后就可删除数据中的inf)\n",
    "    idx_tuple = np.where(data.max(axis=1).values == np.inf)\n",
    "    idx = list(idx_tuple[0])\n",
    "   # print(idx)\n",
    "    data.drop(axis=0, index = idx, inplace = True)\n",
    "    data.reset_index(inplace=True, drop=True)\n",
    "\n",
    "   # print(len(data))\n",
    "    idx_tuple = np.where(data.max(axis=1).values == np.inf)\n",
    "    idx = list(idx_tuple[0])\n",
    "    data.drop(axis=0, index = idx, inplace = True)\n",
    "    data.reset_index(inplace=True, drop=True)\n",
    "\n",
    "   # print(len(data))\n",
    "\n",
    "    # 删除数据中含负数的数据条数\n",
    "    idx_tuple = np.where(data.min(axis=1).values < 0)\n",
    "    idx = list(idx_tuple[0])\n",
    "    data.drop(axis=0, index = idx, inplace = True)\n",
    "    data.reset_index(inplace=True, drop=True)\n",
    "    \n",
    "    return data\n",
    "    "
   ]
  },
  {
   "cell_type": "code",
   "execution_count": 3,
   "id": "polar-pastor",
   "metadata": {},
   "outputs": [],
   "source": [
    "# 从文件夹'newdata/'中读取数据文件\n",
    "filedir = '/mnt/hgfs/linuxfile/newdata/'\n",
    "files = os.listdir(filedir)"
   ]
  },
  {
   "cell_type": "code",
   "execution_count": 4,
   "id": "dedicated-story",
   "metadata": {},
   "outputs": [
    {
     "name": "stdout",
     "output_type": "stream",
     "text": [
      "starting to deal with BENIGN_data.csv\n",
      "starting to deal with DrDoS_DNS_data.csv\n",
      "starting to deal with DrDoS_LDAP_data.csv\n",
      "starting to deal with DrDoS_MSSQL_data.csv\n",
      "starting to deal with DrDoS_NetBIOS_data.csv\n",
      "starting to deal with DrDoS_NTP_data.csv\n"
     ]
    },
    {
     "name": "stderr",
     "output_type": "stream",
     "text": [
      "/home/xuhao/miniconda3/envs/grdenv/lib/python3.7/site-packages/IPython/core/interactiveshell.py:2714: DtypeWarning: Columns (86) have mixed types.Specify dtype option on import or set low_memory=False.\n",
      "  interactivity=interactivity, compiler=compiler, result=result)\n"
     ]
    },
    {
     "name": "stdout",
     "output_type": "stream",
     "text": [
      "starting to deal with DrDoS_SNMP_data.csv\n",
      "starting to deal with DrDoS_SSDP_data.csv\n",
      "starting to deal with DrDoS_UDP_data.csv\n",
      "starting to deal with Syn_data.csv\n",
      "starting to deal with TFTP_data.csv\n"
     ]
    }
   ],
   "source": [
    "nrows = 10000 # 每个文件中读取nrows行数据\n",
    "rows4matrix = 10 # 每个矩阵所需要的数据的条数\n",
    "labelnum = -1\n",
    "meanofalldata = [0] * len(files)\n",
    "allX = pd.DataFrame()\n",
    "allY = pd.DataFrame()\n",
    "for f in files: # 循环读入数据\n",
    "    labelnum += 1\n",
    "    label = f[:-9]\n",
    "    print('starting to deal with ' + f)\n",
    "    allrows = getrows(filedir+f)\n",
    "    skiprow = allrows // (nrows + int(0.2 * nrows));\n",
    "    if skiprow < rows4matrix:\n",
    "        print('data is too small in ' + f)\n",
    "        continue\n",
    "    alldata = pd.DataFrame()\n",
    "    cols = getcols(filedir+f)\n",
    "    \n",
    "    tdata = pd.read_csv(filedir+f, names=cols, skiprows=lambda x: (x==0 or (x % skiprow) > 0), nrows = nrows + int(0.2 * nrows))\n",
    "    tdata = preprocess(tdata, cols, labelnum, label)\n",
    "\n",
    "    \n",
    "    X = tdata.drop([' Label'], axis=1)\n",
    "    Y = tdata[' Label']\n",
    "    X = X[0:10000]\n",
    "    Y = Y[0:10000]\n",
    "    meanofalldata[labelnum] = X.mean()\n",
    "    allX = allX.append(X, ignore_index=True)\n",
    "    allY = allY.append(Y, ignore_index=True)\n",
    "\n"
   ]
  },
  {
   "cell_type": "code",
   "execution_count": 5,
   "id": "solid-tradition",
   "metadata": {},
   "outputs": [],
   "source": [
    "# 计算总体mean，用于后续计算\n",
    "means = pd.DataFrame(meanofalldata).mean()\n",
    "# print(means)\n",
    "# 将平均值为0的数舍去，因为平均值为0说明所有值都是0\n",
    "cols = allX.columns\n",
    "loc = np.where(means == 0.0)[0]\n",
    "allX = allX.drop(cols[loc],axis=1)\n",
    "means = means.drop(cols[loc])\n",
    "# print(len(allX), len(means))\n",
    "# 均值归一化\n",
    "allX = allX / means\n",
    "# 记录此时的列名\n",
    "newcols = allX.columns"
   ]
  },
  {
   "cell_type": "code",
   "execution_count": 8,
   "id": "funky-chair",
   "metadata": {},
   "outputs": [],
   "source": [
    "X_ = allX.values\n",
    "Y_ = allY.values\n",
    "Y_ = Y_.reshape(1,110000)[0]"
   ]
  },
  {
   "cell_type": "code",
   "execution_count": 21,
   "id": "painted-malaysia",
   "metadata": {
    "collapsed": true
   },
   "outputs": [
    {
     "ename": "KeyboardInterrupt",
     "evalue": "",
     "output_type": "error",
     "traceback": [
      "\u001b[0;31m---------------------------------------------------------------------------\u001b[0m",
      "\u001b[0;31mKeyboardInterrupt\u001b[0m                         Traceback (most recent call last)",
      "\u001b[0;32m<ipython-input-21-8bcc195ce392>\u001b[0m in \u001b[0;36m<module>\u001b[0;34m()\u001b[0m\n\u001b[1;32m     36\u001b[0m \u001b[0;34m\u001b[0m\u001b[0m\n\u001b[1;32m     37\u001b[0m \u001b[0;31m# print(rfe.ranking_)\u001b[0m\u001b[0;34m\u001b[0m\u001b[0;34m\u001b[0m\u001b[0;34m\u001b[0m\u001b[0m\n\u001b[0;32m---> 38\u001b[0;31m \u001b[0mX_new\u001b[0m \u001b[0;34m=\u001b[0m \u001b[0mrfe\u001b[0m\u001b[0;34m.\u001b[0m\u001b[0mfit_transform\u001b[0m\u001b[0;34m(\u001b[0m\u001b[0mX_\u001b[0m\u001b[0;34m,\u001b[0m \u001b[0mY_\u001b[0m\u001b[0;34m)\u001b[0m\u001b[0;34m\u001b[0m\u001b[0;34m\u001b[0m\u001b[0m\n\u001b[0m",
      "\u001b[0;32m/home/xuhao/miniconda3/envs/grdenv/lib/python3.7/site-packages/sklearn/base.py\u001b[0m in \u001b[0;36mfit_transform\u001b[0;34m(self, X, y, **fit_params)\u001b[0m\n\u001b[1;32m    700\u001b[0m         \u001b[0;32melse\u001b[0m\u001b[0;34m:\u001b[0m\u001b[0;34m\u001b[0m\u001b[0;34m\u001b[0m\u001b[0m\n\u001b[1;32m    701\u001b[0m             \u001b[0;31m# fit method of arity 2 (supervised transformation)\u001b[0m\u001b[0;34m\u001b[0m\u001b[0;34m\u001b[0m\u001b[0;34m\u001b[0m\u001b[0m\n\u001b[0;32m--> 702\u001b[0;31m             \u001b[0;32mreturn\u001b[0m \u001b[0mself\u001b[0m\u001b[0;34m.\u001b[0m\u001b[0mfit\u001b[0m\u001b[0;34m(\u001b[0m\u001b[0mX\u001b[0m\u001b[0;34m,\u001b[0m \u001b[0my\u001b[0m\u001b[0;34m,\u001b[0m \u001b[0;34m**\u001b[0m\u001b[0mfit_params\u001b[0m\u001b[0;34m)\u001b[0m\u001b[0;34m.\u001b[0m\u001b[0mtransform\u001b[0m\u001b[0;34m(\u001b[0m\u001b[0mX\u001b[0m\u001b[0;34m)\u001b[0m\u001b[0;34m\u001b[0m\u001b[0;34m\u001b[0m\u001b[0m\n\u001b[0m\u001b[1;32m    703\u001b[0m \u001b[0;34m\u001b[0m\u001b[0m\n\u001b[1;32m    704\u001b[0m \u001b[0;34m\u001b[0m\u001b[0m\n",
      "\u001b[0;32m/home/xuhao/miniconda3/envs/grdenv/lib/python3.7/site-packages/sklearn/feature_selection/_rfe.py\u001b[0m in \u001b[0;36mfit\u001b[0;34m(self, X, y)\u001b[0m\n\u001b[1;32m    182\u001b[0m             \u001b[0mThe\u001b[0m \u001b[0mtarget\u001b[0m \u001b[0mvalues\u001b[0m\u001b[0;34m.\u001b[0m\u001b[0;34m\u001b[0m\u001b[0;34m\u001b[0m\u001b[0m\n\u001b[1;32m    183\u001b[0m         \"\"\"\n\u001b[0;32m--> 184\u001b[0;31m         \u001b[0;32mreturn\u001b[0m \u001b[0mself\u001b[0m\u001b[0;34m.\u001b[0m\u001b[0m_fit\u001b[0m\u001b[0;34m(\u001b[0m\u001b[0mX\u001b[0m\u001b[0;34m,\u001b[0m \u001b[0my\u001b[0m\u001b[0;34m)\u001b[0m\u001b[0;34m\u001b[0m\u001b[0;34m\u001b[0m\u001b[0m\n\u001b[0m\u001b[1;32m    185\u001b[0m \u001b[0;34m\u001b[0m\u001b[0m\n\u001b[1;32m    186\u001b[0m     \u001b[0;32mdef\u001b[0m \u001b[0m_fit\u001b[0m\u001b[0;34m(\u001b[0m\u001b[0mself\u001b[0m\u001b[0;34m,\u001b[0m \u001b[0mX\u001b[0m\u001b[0;34m,\u001b[0m \u001b[0my\u001b[0m\u001b[0;34m,\u001b[0m \u001b[0mstep_score\u001b[0m\u001b[0;34m=\u001b[0m\u001b[0;32mNone\u001b[0m\u001b[0;34m)\u001b[0m\u001b[0;34m:\u001b[0m\u001b[0;34m\u001b[0m\u001b[0;34m\u001b[0m\u001b[0m\n",
      "\u001b[0;32m/home/xuhao/miniconda3/envs/grdenv/lib/python3.7/site-packages/sklearn/feature_selection/_rfe.py\u001b[0m in \u001b[0;36m_fit\u001b[0;34m(self, X, y, step_score)\u001b[0m\n\u001b[1;32m    239\u001b[0m                 \u001b[0mprint\u001b[0m\u001b[0;34m(\u001b[0m\u001b[0;34m\"Fitting estimator with %d features.\"\u001b[0m \u001b[0;34m%\u001b[0m \u001b[0mnp\u001b[0m\u001b[0;34m.\u001b[0m\u001b[0msum\u001b[0m\u001b[0;34m(\u001b[0m\u001b[0msupport_\u001b[0m\u001b[0;34m)\u001b[0m\u001b[0;34m)\u001b[0m\u001b[0;34m\u001b[0m\u001b[0;34m\u001b[0m\u001b[0m\n\u001b[1;32m    240\u001b[0m \u001b[0;34m\u001b[0m\u001b[0m\n\u001b[0;32m--> 241\u001b[0;31m             \u001b[0mestimator\u001b[0m\u001b[0;34m.\u001b[0m\u001b[0mfit\u001b[0m\u001b[0;34m(\u001b[0m\u001b[0mX\u001b[0m\u001b[0;34m[\u001b[0m\u001b[0;34m:\u001b[0m\u001b[0;34m,\u001b[0m \u001b[0mfeatures\u001b[0m\u001b[0;34m]\u001b[0m\u001b[0;34m,\u001b[0m \u001b[0my\u001b[0m\u001b[0;34m)\u001b[0m\u001b[0;34m\u001b[0m\u001b[0;34m\u001b[0m\u001b[0m\n\u001b[0m\u001b[1;32m    242\u001b[0m \u001b[0;34m\u001b[0m\u001b[0m\n\u001b[1;32m    243\u001b[0m             \u001b[0;31m# Get importance and rank them\u001b[0m\u001b[0;34m\u001b[0m\u001b[0;34m\u001b[0m\u001b[0;34m\u001b[0m\u001b[0m\n",
      "\u001b[0;32m/home/xuhao/miniconda3/envs/grdenv/lib/python3.7/site-packages/sklearn/ensemble/_gb.py\u001b[0m in \u001b[0;36mfit\u001b[0;34m(self, X, y, sample_weight, monitor)\u001b[0m\n\u001b[1;32m    504\u001b[0m         n_stages = self._fit_stages(\n\u001b[1;32m    505\u001b[0m             \u001b[0mX\u001b[0m\u001b[0;34m,\u001b[0m \u001b[0my\u001b[0m\u001b[0;34m,\u001b[0m \u001b[0mraw_predictions\u001b[0m\u001b[0;34m,\u001b[0m \u001b[0msample_weight\u001b[0m\u001b[0;34m,\u001b[0m \u001b[0mself\u001b[0m\u001b[0;34m.\u001b[0m\u001b[0m_rng\u001b[0m\u001b[0;34m,\u001b[0m \u001b[0mX_val\u001b[0m\u001b[0;34m,\u001b[0m \u001b[0my_val\u001b[0m\u001b[0;34m,\u001b[0m\u001b[0;34m\u001b[0m\u001b[0;34m\u001b[0m\u001b[0m\n\u001b[0;32m--> 506\u001b[0;31m             sample_weight_val, begin_at_stage, monitor)\n\u001b[0m\u001b[1;32m    507\u001b[0m \u001b[0;34m\u001b[0m\u001b[0m\n\u001b[1;32m    508\u001b[0m         \u001b[0;31m# change shape of arrays after fit (early-stopping or additional ests)\u001b[0m\u001b[0;34m\u001b[0m\u001b[0;34m\u001b[0m\u001b[0;34m\u001b[0m\u001b[0m\n",
      "\u001b[0;32m/home/xuhao/miniconda3/envs/grdenv/lib/python3.7/site-packages/sklearn/ensemble/_gb.py\u001b[0m in \u001b[0;36m_fit_stages\u001b[0;34m(self, X, y, raw_predictions, sample_weight, random_state, X_val, y_val, sample_weight_val, begin_at_stage, monitor)\u001b[0m\n\u001b[1;32m    561\u001b[0m             raw_predictions = self._fit_stage(\n\u001b[1;32m    562\u001b[0m                 \u001b[0mi\u001b[0m\u001b[0;34m,\u001b[0m \u001b[0mX\u001b[0m\u001b[0;34m,\u001b[0m \u001b[0my\u001b[0m\u001b[0;34m,\u001b[0m \u001b[0mraw_predictions\u001b[0m\u001b[0;34m,\u001b[0m \u001b[0msample_weight\u001b[0m\u001b[0;34m,\u001b[0m \u001b[0msample_mask\u001b[0m\u001b[0;34m,\u001b[0m\u001b[0;34m\u001b[0m\u001b[0;34m\u001b[0m\u001b[0m\n\u001b[0;32m--> 563\u001b[0;31m                 random_state, X_csc, X_csr)\n\u001b[0m\u001b[1;32m    564\u001b[0m \u001b[0;34m\u001b[0m\u001b[0m\n\u001b[1;32m    565\u001b[0m             \u001b[0;31m# track deviance (= loss)\u001b[0m\u001b[0;34m\u001b[0m\u001b[0;34m\u001b[0m\u001b[0;34m\u001b[0m\u001b[0m\n",
      "\u001b[0;32m/home/xuhao/miniconda3/envs/grdenv/lib/python3.7/site-packages/sklearn/ensemble/_gb.py\u001b[0m in \u001b[0;36m_fit_stage\u001b[0;34m(self, i, X, y, raw_predictions, sample_weight, sample_mask, random_state, X_csc, X_csr)\u001b[0m\n\u001b[1;32m    213\u001b[0m             \u001b[0mX\u001b[0m \u001b[0;34m=\u001b[0m \u001b[0mX_csr\u001b[0m \u001b[0;32mif\u001b[0m \u001b[0mX_csr\u001b[0m \u001b[0;32mis\u001b[0m \u001b[0;32mnot\u001b[0m \u001b[0;32mNone\u001b[0m \u001b[0;32melse\u001b[0m \u001b[0mX\u001b[0m\u001b[0;34m\u001b[0m\u001b[0;34m\u001b[0m\u001b[0m\n\u001b[1;32m    214\u001b[0m             tree.fit(X, residual, sample_weight=sample_weight,\n\u001b[0;32m--> 215\u001b[0;31m                      check_input=False)\n\u001b[0m\u001b[1;32m    216\u001b[0m \u001b[0;34m\u001b[0m\u001b[0m\n\u001b[1;32m    217\u001b[0m             \u001b[0;31m# update tree leaves\u001b[0m\u001b[0;34m\u001b[0m\u001b[0;34m\u001b[0m\u001b[0;34m\u001b[0m\u001b[0m\n",
      "\u001b[0;32m/home/xuhao/miniconda3/envs/grdenv/lib/python3.7/site-packages/sklearn/tree/_classes.py\u001b[0m in \u001b[0;36mfit\u001b[0;34m(self, X, y, sample_weight, check_input, X_idx_sorted)\u001b[0m\n\u001b[1;32m   1249\u001b[0m             \u001b[0msample_weight\u001b[0m\u001b[0;34m=\u001b[0m\u001b[0msample_weight\u001b[0m\u001b[0;34m,\u001b[0m\u001b[0;34m\u001b[0m\u001b[0;34m\u001b[0m\u001b[0m\n\u001b[1;32m   1250\u001b[0m             \u001b[0mcheck_input\u001b[0m\u001b[0;34m=\u001b[0m\u001b[0mcheck_input\u001b[0m\u001b[0;34m,\u001b[0m\u001b[0;34m\u001b[0m\u001b[0;34m\u001b[0m\u001b[0m\n\u001b[0;32m-> 1251\u001b[0;31m             X_idx_sorted=X_idx_sorted)\n\u001b[0m\u001b[1;32m   1252\u001b[0m         \u001b[0;32mreturn\u001b[0m \u001b[0mself\u001b[0m\u001b[0;34m\u001b[0m\u001b[0;34m\u001b[0m\u001b[0m\n\u001b[1;32m   1253\u001b[0m \u001b[0;34m\u001b[0m\u001b[0m\n",
      "\u001b[0;32m/home/xuhao/miniconda3/envs/grdenv/lib/python3.7/site-packages/sklearn/tree/_classes.py\u001b[0m in \u001b[0;36mfit\u001b[0;34m(self, X, y, sample_weight, check_input, X_idx_sorted)\u001b[0m\n\u001b[1;32m    387\u001b[0m                                            min_impurity_split)\n\u001b[1;32m    388\u001b[0m \u001b[0;34m\u001b[0m\u001b[0m\n\u001b[0;32m--> 389\u001b[0;31m         \u001b[0mbuilder\u001b[0m\u001b[0;34m.\u001b[0m\u001b[0mbuild\u001b[0m\u001b[0;34m(\u001b[0m\u001b[0mself\u001b[0m\u001b[0;34m.\u001b[0m\u001b[0mtree_\u001b[0m\u001b[0;34m,\u001b[0m \u001b[0mX\u001b[0m\u001b[0;34m,\u001b[0m \u001b[0my\u001b[0m\u001b[0;34m,\u001b[0m \u001b[0msample_weight\u001b[0m\u001b[0;34m)\u001b[0m\u001b[0;34m\u001b[0m\u001b[0;34m\u001b[0m\u001b[0m\n\u001b[0m\u001b[1;32m    390\u001b[0m \u001b[0;34m\u001b[0m\u001b[0m\n\u001b[1;32m    391\u001b[0m         \u001b[0;32mif\u001b[0m \u001b[0mself\u001b[0m\u001b[0;34m.\u001b[0m\u001b[0mn_outputs_\u001b[0m \u001b[0;34m==\u001b[0m \u001b[0;36m1\u001b[0m \u001b[0;32mand\u001b[0m \u001b[0mis_classifier\u001b[0m\u001b[0;34m(\u001b[0m\u001b[0mself\u001b[0m\u001b[0;34m)\u001b[0m\u001b[0;34m:\u001b[0m\u001b[0;34m\u001b[0m\u001b[0;34m\u001b[0m\u001b[0m\n",
      "\u001b[0;31mKeyboardInterrupt\u001b[0m: "
     ]
    }
   ],
   "source": [
    "from scipy.stats import pearsonr\n",
    "from sklearn.feature_selection import SelectKBest\n",
    "from sklearn.feature_selection import chi2\n",
    "from numpy import array\n",
    "from sklearn.feature_selection import RFE\n",
    "from sklearn.linear_model import LogisticRegression\n",
    "from sklearn.svm import SVC\n",
    "from sklearn.ensemble import RandomForestClassifier\n",
    "from sklearn.feature_selection import SelectFromModel\n",
    "from sklearn.ensemble import GradientBoostingClassifier\n",
    "from sklearn.ensemble import ExtraTreesClassifier\n",
    "n_features = 30\n",
    "# ## REF\n",
    "# # LogisticRegression\n",
    "# rfe = RFE(estimator=LogisticRegression(), n_features_to_select=n_features)\n",
    "\n",
    "# # SVC\n",
    "# svc = SVC(kernel=\"linear\", C=1)\n",
    "# rfe = RFE(estimator=svc, n_features_to_select=n_features)\n",
    "\n",
    "## RandomForest\n",
    "\n",
    "## SelectKBest\n",
    "\n",
    "# 卡方检验\n",
    "SKB = SelectKBest(chi2, k=n_features)\n",
    "X_new = SKB.fit_transform(X_, Y_)\n",
    "# ## SelectFromModel\n",
    "# GBDT\n",
    "# GBDT_model = GradientBoostingClassifier()\n",
    "# rfe = RFE(estimator=GBDT_model, n_features_to_select=n_features)\n",
    "## Extra_tree\n",
    "Extra_model = ExtraTreesClassifier(random_state = 1)\n",
    "rfe = RFE(estimator=Extra_model, n_features_to_select=n_features)\n",
    "# rfe.fit(X_, Y_)\n",
    "\n",
    "# print(rfe.ranking_)\n",
    "X_new = rfe.fit_transform(X_, Y_)"
   ]
  },
  {
   "cell_type": "code",
   "execution_count": null,
   "id": "fifteen-virtue",
   "metadata": {},
   "outputs": [],
   "source": [
    "newcols[rfe.ranking_ == 1]"
   ]
  },
  {
   "cell_type": "markdown",
   "id": "urban-undergraduate",
   "metadata": {},
   "source": [
    "## 40 features\n",
    "ExtraTree:[' Flow Duration', ' Total Fwd Packets', ' Total Backward Packets',\n",
    "       'Total Length of Fwd Packets', ' Fwd Packet Length Max',\n",
    "       ' Fwd Packet Length Min', ' Fwd Packet Length Mean',\n",
    "       ' Fwd Packet Length Std', 'Bwd Packet Length Max',\n",
    "       ' Bwd Packet Length Min', ' Bwd Packet Length Mean', 'Flow Bytes/s',\n",
    "       ' Flow Packets/s', ' Flow IAT Mean', ' Flow IAT Std', ' Flow IAT Max',\n",
    "       ' Flow IAT Min', 'Fwd IAT Total', ' Fwd IAT Mean', ' Fwd IAT Std',\n",
    "       ' Fwd IAT Max', ' Fwd IAT Min', 'Fwd PSH Flags', 'Fwd Packets/s',\n",
    "       ' Min Packet Length', ' Max Packet Length', ' Packet Length Mean',\n",
    "       ' Packet Length Std', ' Packet Length Variance', ' SYN Flag Count',\n",
    "       ' PSH Flag Count', ' ACK Flag Count', ' URG Flag Count',\n",
    "       ' Down/Up Ratio', ' Average Packet Size', ' Avg Fwd Segment Size',\n",
    "       ' Avg Bwd Segment Size', 'Subflow Fwd Packets', ' Subflow Fwd Bytes',\n",
    "       ' Subflow Bwd Packets']\n",
    "       \n",
    "LogisticRegression = [' Flow Duration', ' Total Fwd Packets', ' Total Backward Packets',\n",
    "       'Total Length of Fwd Packets', ' Fwd Packet Length Max',\n",
    "       ' Fwd Packet Length Min', ' Fwd Packet Length Mean',\n",
    "       ' Fwd Packet Length Std', ' Bwd Packet Length Min',\n",
    "       ' Bwd Packet Length Mean', ' Bwd Packet Length Std', 'Flow Bytes/s',\n",
    "       ' Flow Packets/s', ' Flow IAT Mean', ' Flow IAT Std', ' Flow IAT Max',\n",
    "       ' Flow IAT Min', 'Fwd IAT Total', ' Fwd IAT Mean', ' Fwd IAT Std',\n",
    "       ' Fwd IAT Max', ' Fwd IAT Min', ' Bwd Header Length', 'Fwd Packets/s',\n",
    "       ' Min Packet Length', ' Max Packet Length', ' Packet Length Mean',\n",
    "       ' Packet Length Std', ' Packet Length Variance', ' PSH Flag Count',\n",
    "       ' ACK Flag Count', ' Average Packet Size', ' Avg Fwd Segment Size',\n",
    "       ' Avg Bwd Segment Size', 'Subflow Fwd Packets', ' Subflow Fwd Bytes',\n",
    "       ' Subflow Bwd Packets', ' Active Min', 'Idle Mean', ' Idle Max']"
   ]
  },
  {
   "cell_type": "markdown",
   "id": "italic-rubber",
   "metadata": {},
   "source": [
    "## 30 features\n",
    "LogisticRegression:[' Flow Duration', ' Total Fwd Packets', ' Total Backward Packets',\n",
    "       'Total Length of Fwd Packets', ' Fwd Packet Length Max',\n",
    "       ' Fwd Packet Length Min', ' Fwd Packet Length Mean',\n",
    "       ' Fwd Packet Length Std', ' Bwd Packet Length Min', 'Flow Bytes/s',\n",
    "       ' Flow Packets/s', ' Flow IAT Mean', ' Flow IAT Std', ' Flow IAT Max',\n",
    "       'Fwd IAT Total', ' Fwd IAT Std', ' Bwd Header Length', 'Fwd Packets/s',\n",
    "       ' Min Packet Length', ' Max Packet Length', ' Packet Length Mean',\n",
    "       ' Packet Length Std', ' Packet Length Variance', ' PSH Flag Count',\n",
    "       ' ACK Flag Count', ' Average Packet Size', ' Avg Fwd Segment Size',\n",
    "       'Subflow Fwd Packets', ' Subflow Fwd Bytes', ' Active Min']\n",
    "ExtraTree:[' Flow Duration', ' Total Fwd Packets', 'Total Length of Fwd Packets',\n",
    "       ' Fwd Packet Length Max', ' Fwd Packet Length Min',\n",
    "       ' Fwd Packet Length Mean', ' Fwd Packet Length Std', 'Flow Bytes/s',\n",
    "       ' Flow Packets/s', ' Flow IAT Mean', ' Flow IAT Std', ' Flow IAT Max',\n",
    "       ' Flow IAT Min', 'Fwd IAT Total', ' Fwd IAT Mean', ' Fwd IAT Std',\n",
    "       ' Fwd IAT Max', ' Fwd IAT Min', 'Fwd Packets/s', ' Min Packet Length',\n",
    "       ' Max Packet Length', ' Packet Length Mean', ' Packet Length Std',\n",
    "       ' PSH Flag Count', ' ACK Flag Count', ' URG Flag Count',\n",
    "       ' Average Packet Size', ' Avg Fwd Segment Size', 'Subflow Fwd Packets',\n",
    "       ' Subflow Fwd Bytes']"
   ]
  },
  {
   "cell_type": "code",
   "execution_count": 16,
   "id": "medium-contributor",
   "metadata": {},
   "outputs": [
    {
     "data": {
      "text/plain": [
       "array([ 416162.99300772,  378360.83796597,  947153.99318017,\n",
       "        413636.01267327, 1098175.7190037 ,   66723.74239651,\n",
       "         81037.41500225,   75437.75323759,  338115.00678854,\n",
       "       1096262.849293  , 1100000.        , 1097572.74104226,\n",
       "       1095544.0452424 ,  119489.92736138,   29332.62102392,\n",
       "        335491.35597598,  321646.6661335 ,  372510.97576941,\n",
       "       1097556.76403564,  413446.979909  ,  473062.49685856,\n",
       "        281098.33845653,  365585.98860232, 1099498.0798534 ,\n",
       "        964292.37473749,  915164.76008907,  638685.05847905,\n",
       "        824084.0553474 , 1099998.69114578, 1093710.22542318,\n",
       "        981389.6350982 ,   29454.14015774,  541203.45363805,\n",
       "         81051.09865014,   57615.21054898,   72735.23829394,\n",
       "        582006.58887886, 1015255.93183282, 1100000.        ,\n",
       "       1096848.96368962,  343750.        , 1100000.        ,\n",
       "        658335.47294606, 1023793.53637836,  605065.39833531,\n",
       "       1100000.        ,  772443.53637357,   82403.38150594,\n",
       "         75437.75323759, 1097572.74104226,  378360.83796597,\n",
       "        413636.01267327,  947153.99318017, 1098175.7190037 ,\n",
       "        969599.29963948,  850168.10147275,  910157.20521791,\n",
       "       1034331.99899018,  572131.30332257,  577675.99853246,\n",
       "        515534.3733307 ,  645483.93718346])"
      ]
     },
     "execution_count": 16,
     "metadata": {},
     "output_type": "execute_result"
    }
   ],
   "source": [
    "SKB.scores_"
   ]
  },
  {
   "cell_type": "code",
   "execution_count": null,
   "id": "fifty-designer",
   "metadata": {},
   "outputs": [],
   "source": []
  }
 ],
 "metadata": {
  "kernelspec": {
   "display_name": "Python [conda env:grdenv]",
   "language": "python",
   "name": "conda-env-grdenv-py"
  },
  "language_info": {
   "codemirror_mode": {
    "name": "ipython",
    "version": 3
   },
   "file_extension": ".py",
   "mimetype": "text/x-python",
   "name": "python",
   "nbconvert_exporter": "python",
   "pygments_lexer": "ipython3",
   "version": "3.7.9"
  }
 },
 "nbformat": 4,
 "nbformat_minor": 5
}
