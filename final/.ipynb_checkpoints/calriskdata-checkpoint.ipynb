{
 "cells": [
  {
   "cell_type": "code",
   "execution_count": 1,
   "metadata": {},
   "outputs": [],
   "source": [
    "# import libs\n",
    "import numpy as np\n",
    "import pandas as pd\n",
    "import os\n",
    "import scipy.io as io"
   ]
  },
  {
   "cell_type": "code",
   "execution_count": 21,
   "metadata": {},
   "outputs": [],
   "source": [
    "# def function\n",
    "\n",
    "# 获取csv文件的列名\n",
    "def getcols(filename):\n",
    "    data = pd.read_csv(filename, nrows = 2)\n",
    "    #print(data.columns)\n",
    "    return data.columns\n",
    "\n",
    "# 获取文件行数\n",
    "def getrows(filename):\n",
    "    cols = getcols(filename)\n",
    "    col = cols[0]\n",
    "    data = pd.read_csv(filename, usecols=[col])\n",
    "    return data.shape[0]\n",
    "\n",
    "# 数据预处理- step1: 删除无法用于计算的列与含空值、负值、inf值的行\n",
    "def preprocess2017(data):\n",
    "    \n",
    "    data.dropna(how='any', inplace=True)\n",
    "#    print(len(data))\n",
    "    data.reset_index(inplace=True, drop=True)\n",
    "    \n",
    "    labels = pd.DataFrame(data[' Label'])\n",
    "    # 删除非数值型数据，这些数据暂时不用于聚类处理，但不代表这些数据没用\n",
    "    dropset = ['Flow ID', ' Source IP', ' Source Port',\n",
    "       ' Destination IP', ' Destination Port', ' Protocol', ' Timestamp',\n",
    "           ' Fwd Header Length.1', ' Label']\n",
    "    # 删除含有大量负数的列\n",
    "    drop_nega = [' Fwd Header Length', 'Init_Win_bytes_forward',\n",
    "           ' Init_Win_bytes_backward', ' act_data_pkt_fwd',\n",
    "       ' min_seg_size_forward']\n",
    "    # 删除数据中可能出现的非数值型数据列\n",
    "    drop_ifexist = ['External IP','SimillarHTTP', ' Inbound','Unnamed: 0']\n",
    "    \n",
    "    # 如果有list中的columns则删除\n",
    "    data.drop(data.columns[data.columns.isin(dropset+drop_nega+drop_ifexist)], axis = 1, inplace=True)\n",
    "    \n",
    "\n",
    "    # 将所有数据类型转成float型\n",
    "    data = data.astype('float')\n",
    "    \n",
    "    # 删除数据中inf的值 (需要连续执行两次，不知道原因，但连续执行后就可删除数据中的inf)\n",
    "    idx_tuple = np.where(data.max(axis=1).values == np.inf)\n",
    "    idx = list(idx_tuple[0])\n",
    "   # print(idx)\n",
    "    data.drop(axis=0, index = idx, inplace = True)\n",
    "    data.reset_index(inplace=True, drop=True)\n",
    "    labels.drop(axis=0, index = idx, inplace = True)\n",
    "    labels.reset_index(inplace=True, drop=True)\n",
    "   # print(len(data))\n",
    "    idx_tuple = np.where(data.max(axis=1).values == np.inf)\n",
    "    idx = list(idx_tuple[0])\n",
    "    data.drop(axis=0, index = idx, inplace = True)\n",
    "    data.reset_index(inplace=True, drop=True)\n",
    "    labels.drop(axis=0, index = idx, inplace = True)\n",
    "    labels.reset_index(inplace=True, drop=True)\n",
    "   # print(len(data))\n",
    "\n",
    "    # 删除数据中含负数的数据条数\n",
    "    idx_tuple = np.where(data.min(axis=1).values < 0)\n",
    "    idx = list(idx_tuple[0])\n",
    "    data.drop(axis=0, index = idx, inplace = True)\n",
    "    data.reset_index(inplace=True, drop=True)\n",
    "    labels.drop(axis=0, index = idx, inplace = True)\n",
    "    labels.reset_index(inplace=True, drop=True)\n",
    "   # print(len(data))\n",
    "    return data,labels\n",
    "\n",
    "def preprocess2019(data, cols, labelnum, label):\n",
    "    data.dropna(how='any', inplace=True)\n",
    "    \n",
    "    # print(data.columns)\n",
    "    data.drop(cols[0:2],axis = 1, inplace = True)\n",
    "    \n",
    "    # 删除非数值型数据，这些数据暂时不用于聚类处理，但不代表这些数据没用\n",
    "    dropset = ['Flow ID', ' Source IP', ' Source Port',\n",
    "       ' Destination IP', ' Destination Port', ' Protocol', ' Timestamp',\n",
    "           ' Fwd Header Length.1', 'SimillarHTTP', ' Inbound']\n",
    "    \n",
    "    # 删除含有大量负数的列\n",
    "    drop_nega = [' Fwd Header Length', 'Init_Win_bytes_forward',\n",
    "           ' Init_Win_bytes_backward', ' act_data_pkt_fwd',\n",
    "       ' min_seg_size_forward']\n",
    "    data.drop(dropset, axis=1,inplace=True)\n",
    "    data.drop(drop_nega, axis=1,inplace=True)\n",
    "    \n",
    "    # 将标签替换为数字\n",
    "    data.replace(to_replace=label, value=labelnum, inplace=True)\n",
    "    \n",
    "    # 将所有数据类型转成float型\n",
    "    data = data.astype('float')\n",
    "    \n",
    "    # 删除数据中inf的值\n",
    "    idx_tuple = np.where(data.max(axis=1).values == np.inf)\n",
    "    idx = list(idx_tuple[0])\n",
    "#    print(len(idx))\n",
    "    data.drop(axis=0, index = idx, inplace = True)\n",
    "    data.reset_index(inplace=True, drop=True)\n",
    "    \n",
    "    idx_tuple = np.where(data.max(axis=1).values == np.inf)\n",
    "    idx = list(idx_tuple[0])\n",
    "#    print(len(idx))\n",
    "    data.drop(axis=0, index = idx, inplace = True)\n",
    "    data.reset_index(inplace=True, drop=True)\n",
    "    \n",
    "    # 删除数据中含负数的数据条数\n",
    "    idx_tuple = np.where(data.min(axis=1).values < 0)\n",
    "    idx = list(idx_tuple[0])\n",
    "    data.drop(axis=0, index = idx, inplace = True)\n",
    "    data.reset_index(inplace=True, drop=True)\n",
    "    \n",
    "    return data\n",
    "\n",
    "def create_spd_matrix(X,Y, nums4group):\n",
    "    nums, nfeatures = X.shape\n",
    "    step = nums4group // 1\n",
    "    n = nums - (nums-(nums4group)) % step\n",
    "    nmatrix = int((n - (nums4group - step)) / step)\n",
    "    X_matrix = np.zeros(shape = (nums4group, nfeatures, nmatrix))\n",
    "    Y_ = np.zeros(shape=(nmatrix, 1))\n",
    "    for i in range(0,int(n - (nums4group - step)), step):\n",
    "        X_matrix[:,:, i // step] = X[i:i+nums4group,:]\n",
    "        \n",
    "    X_spd_matrix = np.zeros(shape = (nmatrix, nfeatures, nfeatures))\n",
    "    for i in range(nmatrix):\n",
    "        cov_matrix = np.cov(X_matrix[:,:,i].T)\n",
    "        X_spd_matrix[i,:,:] = cov_matrix + 0.01 * (np.trace(cov_matrix) + 1e-8) * np.eye(nfeatures, nfeatures)\n",
    "    train_spd_X = X_spd_matrix\n",
    "    for i in range(0,int(n - (nums4group - step)), step):\n",
    "        Y_[i // step] = np.argmax(np.bincount(Y[i:i+nums4group]))\n",
    "    train_spd_Y = Y_\n",
    "    return train_spd_X, train_spd_Y  \n",
    "## 将协方差矩阵转成上三角矩阵\n",
    "def dealSPD(A):\n",
    "    n = A.shape[0]\n",
    "    B = np.zeros(shape=(1, n*(n+1)//2))\n",
    "    j = 0\n",
    "    for i in range(0,n):\n",
    "        B[:,j:j+n-i] = A[i,i:n]\n",
    "        j = j + n -i\n",
    "    return B"
   ]
  },
  {
   "cell_type": "markdown",
   "metadata": {},
   "source": [
    "## 计算基线"
   ]
  },
  {
   "cell_type": "code",
   "execution_count": 3,
   "metadata": {},
   "outputs": [],
   "source": [
    "# 从文件夹'/mnt/hgfs/linuxfile/2017/'中读取数据文件\n",
    "filedir = '/mnt/hgfs/linuxfile/2017/'\n",
    "files = os.listdir(filedir)\n",
    "# 读取星期一的数据作为安全基线\n",
    "benign = pd.read_csv(filedir+files[4])\n",
    "\n",
    "alldata, labels = preprocess2017(benign)\n",
    "mean = alldata.mean()\n",
    "cols = alldata.columns\n",
    "\n",
    "# 将平均值为0的数舍去，因为平均值为0说明所有值都是0\n",
    "loc = np.where(mean == 0.0)[0] # 定位\n",
    "mean = mean.drop(cols[loc])    # 删除\n",
    "benigndata = alldata.drop(cols[loc],axis=1) # 删除\n",
    "benigndata = benigndata / mean\n",
    "\n",
    "# 选择反应数据风险值的特征\n",
    "selcols = [' Fwd Packet Length Max', ' Fwd Packet Length Min',\n",
    "       ' Fwd Packet Length Mean', ' Flow IAT Mean', 'Fwd Packets/s',\n",
    "       ' Min Packet Length', ' Max Packet Length', ' Packet Length Mean',\n",
    "       ' Average Packet Size', ' Avg Fwd Segment Size']\n",
    "# select_cols = [' Fwd Packet Length Min', ' Min Packet Length', ' Packet Length Mean', ' Average Packet Size', ' Subflow Fwd Bytes']"
   ]
  },
  {
   "cell_type": "code",
   "execution_count": 4,
   "metadata": {},
   "outputs": [
    {
     "data": {
      "text/plain": [
       "['Friday-WorkingHours-Afternoon-DDos.pcap_ISCX.csv',\n",
       " 'Friday-WorkingHours-Afternoon-PortScan.pcap_ISCX.csv',\n",
       " 'Friday-WorkingHours-Morning.pcap_ISCX.csv',\n",
       " 'Monday-WorkingHours.pcap_ISCX.csv',\n",
       " 'Thursday-WorkingHours-Afternoon-Infilteration.pcap_ISCX.csv',\n",
       " 'Thursday-WorkingHours-Morning-WebAttacks.pcap_ISCX.csv',\n",
       " 'Tuesday-WorkingHours.pcap_ISCX.csv',\n",
       " 'Wednesday-workingHours.pcap_ISCX.csv']"
      ]
     },
     "execution_count": 4,
     "metadata": {},
     "output_type": "execute_result"
    }
   ],
   "source": [
    "files"
   ]
  },
  {
   "cell_type": "code",
   "execution_count": 5,
   "metadata": {},
   "outputs": [],
   "source": [
    "benigndata = benigndata[selcols]"
   ]
  },
  {
   "cell_type": "code",
   "execution_count": 6,
   "metadata": {},
   "outputs": [],
   "source": [
    "bmatpath = '/mnt/hgfs/linuxfile/benign.mat'\n",
    "benign_data = benigndata.values\n",
    "io.savemat(bmatpath,{'benign':benign_data})"
   ]
  },
  {
   "cell_type": "markdown",
   "metadata": {},
   "source": [
    "## 计算风险数据"
   ]
  },
  {
   "cell_type": "code",
   "execution_count": 7,
   "metadata": {},
   "outputs": [],
   "source": [
    "# 读取自己拼接的riskfile文件\n",
    "riskfile = '/mnt/hgfs/linuxfile/2019riskdata2.csv'"
   ]
  },
  {
   "cell_type": "code",
   "execution_count": 8,
   "metadata": {},
   "outputs": [],
   "source": [
    "riskdata = pd.read_csv(riskfile)"
   ]
  },
  {
   "cell_type": "code",
   "execution_count": 9,
   "metadata": {},
   "outputs": [],
   "source": [
    "alldata, labels = preprocess2017(riskdata)\n",
    "mean = alldata.mean()\n",
    "cols = alldata.columns\n",
    "\n",
    "\n",
    "# 将平均值为0的数舍去，因为平均值为0说明所有值都是0\n",
    "loc = np.where(mean == 0.0)[0] # 定位\n",
    "mean = mean.drop(cols[loc])    # 删除\n",
    "riskdata = alldata.drop(cols[loc],axis=1) # 删除\n",
    "riskdata = riskdata / mean"
   ]
  },
  {
   "cell_type": "code",
   "execution_count": 16,
   "metadata": {},
   "outputs": [],
   "source": [
    "riskdata = riskdata[selcols]"
   ]
  },
  {
   "cell_type": "code",
   "execution_count": 17,
   "metadata": {},
   "outputs": [
    {
     "data": {
      "text/plain": [
       "{1, 2, 3, 4, 5, 6, 7, 8, 9, 10, 11}"
      ]
     },
     "execution_count": 17,
     "metadata": {},
     "output_type": "execute_result"
    }
   ],
   "source": [
    "set(labels[' Label'])"
   ]
  },
  {
   "cell_type": "code",
   "execution_count": 12,
   "metadata": {},
   "outputs": [],
   "source": [
    "label_dict = {\n",
    "'DrDoS_SSDP': 1,\n",
    "'DrDoS_LDAP': 2,\n",
    "'DrDoS_SNMP': 3,\n",
    "'BENIGN': 4,\n",
    "'Syn': 5,\n",
    "'TFTP': 6,\n",
    "'DrDoS_NTP': 7,\n",
    "'DrDoS_UDP': 8,\n",
    "'DrDoS_NetBIOS': 9,\n",
    "'DrDoS_MSSQL': 10,\n",
    "'DrDoS_DNS': 11,\n",
    "}"
   ]
  },
  {
   "cell_type": "code",
   "execution_count": 13,
   "metadata": {},
   "outputs": [
    {
     "data": {
      "text/plain": [
       "True"
      ]
     },
     "execution_count": 13,
     "metadata": {},
     "output_type": "execute_result"
    }
   ],
   "source": [
    "'BENIGN' in label_dict"
   ]
  },
  {
   "cell_type": "code",
   "execution_count": 14,
   "metadata": {},
   "outputs": [],
   "source": [
    "for l in label_dict:\n",
    "    labels[labels == l] = label_dict[l]"
   ]
  },
  {
   "cell_type": "code",
   "execution_count": 18,
   "metadata": {},
   "outputs": [],
   "source": [
    "riskmatpath = '/mnt/hgfs/linuxfile/risk.mat'\n",
    "risk_data = riskdata.values\n",
    "io.savemat(riskmatpath,{'risk':risk_data})\n",
    "\n",
    "labelsmatpath = '/mnt/hgfs/linuxfile/labels.mat'\n",
    "labels_data = labels.values\n",
    "io.savemat(labelsmatpath,{'labels':labels_data})"
   ]
  },
  {
   "cell_type": "code",
   "execution_count": 19,
   "metadata": {},
   "outputs": [
    {
     "data": {
      "text/plain": [
       "432819"
      ]
     },
     "execution_count": 19,
     "metadata": {},
     "output_type": "execute_result"
    }
   ],
   "source": [
    "len(labels_data)"
   ]
  },
  {
   "cell_type": "code",
   "execution_count": 50,
   "metadata": {},
   "outputs": [],
   "source": [
    "labels_data = labels[' Label'].values.astype('int64')\n",
    "test_spd_X, test_spd_Y = create_spd_matrix(risk_data, labels_data, nums4group=200)"
   ]
  },
  {
   "cell_type": "code",
   "execution_count": 51,
   "metadata": {},
   "outputs": [
    {
     "ename": "NameError",
     "evalue": "name 'dealSPD' is not defined",
     "output_type": "error",
     "traceback": [
      "\u001b[0;31m---------------------------------------------------------------------------\u001b[0m",
      "\u001b[0;31mNameError\u001b[0m                                 Traceback (most recent call last)",
      "\u001b[0;32m<ipython-input-51-4fefb304dadc>\u001b[0m in \u001b[0;36m<module>\u001b[0;34m\u001b[0m\n\u001b[1;32m     12\u001b[0m \u001b[0;34m\u001b[0m\u001b[0m\n\u001b[1;32m     13\u001b[0m \u001b[0;32mfor\u001b[0m \u001b[0mi\u001b[0m \u001b[0;32min\u001b[0m \u001b[0mrange\u001b[0m\u001b[0;34m(\u001b[0m\u001b[0mtrainshape\u001b[0m\u001b[0;34m[\u001b[0m\u001b[0;36m0\u001b[0m\u001b[0;34m]\u001b[0m\u001b[0;34m)\u001b[0m\u001b[0;34m:\u001b[0m\u001b[0;34m\u001b[0m\u001b[0;34m\u001b[0m\u001b[0m\n\u001b[0;32m---> 14\u001b[0;31m     \u001b[0mtrain_spd_X_\u001b[0m\u001b[0;34m[\u001b[0m\u001b[0mi\u001b[0m\u001b[0;34m]\u001b[0m \u001b[0;34m=\u001b[0m \u001b[0mdealSPD\u001b[0m\u001b[0;34m(\u001b[0m\u001b[0mtrain_spd_X\u001b[0m\u001b[0;34m[\u001b[0m\u001b[0mi\u001b[0m\u001b[0;34m]\u001b[0m\u001b[0;34m)\u001b[0m\u001b[0;34m\u001b[0m\u001b[0;34m\u001b[0m\u001b[0m\n\u001b[0m\u001b[1;32m     15\u001b[0m \u001b[0;32mfor\u001b[0m \u001b[0mi\u001b[0m \u001b[0;32min\u001b[0m \u001b[0mrange\u001b[0m\u001b[0;34m(\u001b[0m\u001b[0mtestshape\u001b[0m\u001b[0;34m[\u001b[0m\u001b[0;36m0\u001b[0m\u001b[0;34m]\u001b[0m\u001b[0;34m)\u001b[0m\u001b[0;34m:\u001b[0m\u001b[0;34m\u001b[0m\u001b[0;34m\u001b[0m\u001b[0m\n\u001b[1;32m     16\u001b[0m     \u001b[0mtest_spd_X_\u001b[0m\u001b[0;34m[\u001b[0m\u001b[0mi\u001b[0m\u001b[0;34m]\u001b[0m \u001b[0;34m=\u001b[0m \u001b[0mdealSPD\u001b[0m\u001b[0;34m(\u001b[0m\u001b[0mtest_spd_X\u001b[0m\u001b[0;34m[\u001b[0m\u001b[0mi\u001b[0m\u001b[0;34m]\u001b[0m\u001b[0;34m)\u001b[0m\u001b[0;34m\u001b[0m\u001b[0;34m\u001b[0m\u001b[0m\n",
      "\u001b[0;31mNameError\u001b[0m: name 'dealSPD' is not defined"
     ]
    }
   ],
   "source": [
    "train_spd_X_path = '/mnt/hgfs/linuxfile/spd_train_npy_set/train_spd_X.npy'\n",
    "train_spd_Y_path = '/mnt/hgfs/linuxfile/spd_train_npy_set/train_spd_Y.npy'\n",
    "\n",
    "train_spd_X = np.load(train_spd_X_path)\n",
    "train_spd_Y = np.load(train_spd_Y_path)\n",
    "\n",
    "trainshape = train_spd_X.shape\n",
    "testshape = test_spd_X.shape\n",
    "\n",
    "train_spd_X_ = np.zeros(shape=(trainshape[0],trainshape[1] * (trainshape[2]+1) // 2))\n",
    "test_spd_X_ = np.zeros(shape=(testshape[0],testshape[1] * (testshape[2]+1) // 2))\n",
    "\n",
    "for i in range(trainshape[0]):\n",
    "    train_spd_X_[i] = dealSPD(train_spd_X[i])\n",
    "for i in range(testshape[0]):\n",
    "    test_spd_X_[i] = dealSPD(test_spd_X[i])\n",
    "    \n",
    "train_X = train_spd_X_\n",
    "train_Y = train_spd_Y\n",
    "test_X = test_spd_X_\n",
    "test_Y = test_spd_Y"
   ]
  },
  {
   "cell_type": "code",
   "execution_count": null,
   "metadata": {},
   "outputs": [],
   "source": [
    "Extra_model = ExtraTreesClassifier(random_state = 1).fit(train_X,train_Y)\n",
    "\n",
    "test_Y_hat = Extra_model.predict(test_X)\n",
    "\n",
    "print(accuracy_score(test_Y, test_Y_hat))\n",
    "print(precision_score(test_Y, test_Y_hat,average='micro'))\n",
    "print(recall_score(test_Y, test_Y_hat,average='micro'))\n",
    "print(f1_score(test_Y, test_Y_hat,average='micro'))\n",
    "print(classification_report(test_Y, test_Y_hat))"
   ]
  },
  {
   "cell_type": "code",
   "execution_count": null,
   "metadata": {},
   "outputs": [],
   "source": []
  }
 ],
 "metadata": {
  "kernelspec": {
   "display_name": "Python [conda env:grdenv]",
   "language": "python",
   "name": "conda-env-grdenv-py"
  },
  "language_info": {
   "codemirror_mode": {
    "name": "ipython",
    "version": 3
   },
   "file_extension": ".py",
   "mimetype": "text/x-python",
   "name": "python",
   "nbconvert_exporter": "python",
   "pygments_lexer": "ipython3",
   "version": "3.7.10"
  }
 },
 "nbformat": 4,
 "nbformat_minor": 5
}
