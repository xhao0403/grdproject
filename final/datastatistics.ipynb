{
 "cells": [
  {
   "cell_type": "code",
   "execution_count": 1,
   "metadata": {},
   "outputs": [],
   "source": [
    "import numpy as np"
   ]
  },
  {
   "cell_type": "code",
   "execution_count": 2,
   "metadata": {},
   "outputs": [],
   "source": [
    "train_X_path = '/mnt/hgfs/linuxfile/train_npy_set/train_X.npy'\n",
    "train_Y_path = '/mnt/hgfs/linuxfile/train_npy_set/train_Y.npy'\n",
    "test_X_path = '/mnt/hgfs/linuxfile/test_npy_set/test_X.npy'\n",
    "test_Y_path = '/mnt/hgfs/linuxfile/test_npy_set/test_Y.npy'"
   ]
  },
  {
   "cell_type": "code",
   "execution_count": 3,
   "metadata": {},
   "outputs": [],
   "source": [
    "train_X = np.load(train_X_path)\n",
    "train_Y = np.load(train_Y_path)\n",
    "test_X = np.load(test_X_path)\n",
    "test_Y = np.load(test_Y_path)"
   ]
  },
  {
   "cell_type": "markdown",
   "metadata": {},
   "source": [
    "    DrDoS_SSDP 1\n",
    "    DrDoS_LDAP 2\n",
    "    DrDoS_SNMP 3\n",
    "    BENIGN 4\n",
    "    Syn 5\n",
    "    TFTP 6\n",
    "    DrDoS_NTP 7\n",
    "    DrDoS_UDP 8\n",
    "    DrDoS_NetBIOS 9\n",
    "    DrDoS_MSSQL 10\n",
    "    DrDoS_DNS 11"
   ]
  },
  {
   "cell_type": "code",
   "execution_count": 7,
   "metadata": {
    "scrolled": false
   },
   "outputs": [
    {
     "name": "stdout",
     "output_type": "stream",
     "text": [
      "0 193516 48389\n",
      "1 174443 43546\n",
      "2 196744 49221\n",
      "3 194193 48560\n",
      "4 197252 49340\n",
      "5 194391 48595\n",
      "6 199553 49897\n",
      "7 203235 111271\n",
      "8 193567 48395\n",
      "9 196352 49063\n",
      "10 196432 49083\n"
     ]
    }
   ],
   "source": [
    "mask = np.unique(train_Y)\n",
    "for v in mask:\n",
    "    tmp=np.sum(train_Y==v)\n",
    "    tmp2=np.sum(test_Y==v)\n",
    "    print(v,tmp,tmp2)"
   ]
  },
  {
   "cell_type": "code",
   "execution_count": 8,
   "metadata": {},
   "outputs": [],
   "source": [
    "train_spd_X_path = '/mnt/hgfs/linuxfile/spd_train_npy_set/train_spd_X.npy'\n",
    "train_spd_Y_path = '/mnt/hgfs/linuxfile/spd_train_npy_set/train_spd_Y.npy'\n",
    "test_spd_X_path = '/mnt/hgfs/linuxfile/spd_test_npy_set/test_spd_X.npy'\n",
    "test_spd_Y_path = '/mnt/hgfs/linuxfile/spd_test_npy_set/test_spd_Y.npy'"
   ]
  },
  {
   "cell_type": "code",
   "execution_count": 9,
   "metadata": {},
   "outputs": [],
   "source": [
    "train_spd_X = np.load(train_spd_X_path)\n",
    "train_spd_Y = np.load(train_spd_Y_path)\n",
    "test_spd_X = np.load(test_spd_X_path)\n",
    "test_spd_Y = np.load(test_spd_Y_path)"
   ]
  },
  {
   "cell_type": "code",
   "execution_count": 12,
   "metadata": {},
   "outputs": [
    {
     "name": "stdout",
     "output_type": "stream",
     "text": [
      "0.0 968 242\n",
      "1.0 872 218\n",
      "2.0 984 246\n",
      "3.0 972 242\n",
      "4.0 987 247\n",
      "5.0 972 243\n",
      "6.0 998 249\n",
      "7.0 999 553\n",
      "8.0 968 242\n",
      "9.0 983 245\n",
      "10.0 995 249\n"
     ]
    }
   ],
   "source": [
    "mask = np.unique(train_spd_Y)\n",
    "for v in mask:\n",
    "    tmp=np.sum(train_spd_Y==v)\n",
    "    tmp2=np.sum(test_spd_Y==v)\n",
    "    print(v,tmp,tmp2)"
   ]
  },
  {
   "cell_type": "code",
   "execution_count": null,
   "metadata": {},
   "outputs": [],
   "source": []
  },
  {
   "cell_type": "code",
   "execution_count": null,
   "metadata": {},
   "outputs": [],
   "source": []
  },
  {
   "cell_type": "code",
   "execution_count": null,
   "metadata": {},
   "outputs": [],
   "source": []
  }
 ],
 "metadata": {
  "kernelspec": {
   "display_name": "Python [conda env:grdenv]",
   "language": "python",
   "name": "conda-env-grdenv-py"
  },
  "language_info": {
   "codemirror_mode": {
    "name": "ipython",
    "version": 3
   },
   "file_extension": ".py",
   "mimetype": "text/x-python",
   "name": "python",
   "nbconvert_exporter": "python",
   "pygments_lexer": "ipython3",
   "version": "3.7.10"
  }
 },
 "nbformat": 4,
 "nbformat_minor": 4
}
