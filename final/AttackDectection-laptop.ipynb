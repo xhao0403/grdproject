{
 "cells": [
  {
   "cell_type": "code",
   "execution_count": 1,
   "metadata": {},
   "outputs": [],
   "source": [
    "# import libs\n",
    "import numpy as np\n",
    "import pandas as pd\n",
    "import os\n",
    "import scipy.io as io\n",
    "from sklearn import preprocessing\n",
    "from scipy.stats import pearsonr\n",
    "from sklearn.feature_selection import SelectKBest\n",
    "from sklearn.feature_selection import chi2\n",
    "from numpy import array\n",
    "from sklearn.feature_selection import RFE\n",
    "from sklearn.linear_model import LogisticRegression\n",
    "from sklearn.svm import SVC\n",
    "from sklearn.ensemble import RandomForestClassifier\n",
    "from sklearn.feature_selection import SelectFromModel\n",
    "from sklearn.ensemble import GradientBoostingClassifier\n",
    "from sklearn.ensemble import ExtraTreesClassifier\n",
    "\n",
    "from sklearn.metrics import accuracy_score, precision_score, recall_score, f1_score, confusion_matrix, classification_report"
   ]
  },
  {
   "cell_type": "code",
   "execution_count": 2,
   "metadata": {},
   "outputs": [],
   "source": [
    "# def function\n",
    "\n",
    "# 获取csv文件的列名\n",
    "def getcols(filename):\n",
    "    data = pd.read_csv(filename, nrows = 2)\n",
    "    #print(data.columns)\n",
    "    return data.columns\n",
    "\n",
    "# 获取文件行数\n",
    "def getrows(filename):\n",
    "    cols = getcols(filename)\n",
    "    col = cols[0]\n",
    "    data = pd.read_csv(filename, usecols=[col])\n",
    "    return data.shape[0]\n",
    "\n",
    "# 数据预处理- step1: 删除无法用于计算的列与含空值、负值、inf值的行\n",
    "def preprocess2017(data):\n",
    "    data.dropna(how='any', inplace=True)\n",
    "#    print(len(data))\n",
    "    data.reset_index(inplace=True, drop=True)\n",
    "    labels = data[' Label']\n",
    "    # 删除非数值型数据，这些数据暂时不用于聚类处理，但不代表这些数据没用\n",
    "    dropset = ['Flow ID', ' Source IP', ' Source Port',\n",
    "       ' Destination IP', ' Destination Port', ' Protocol', ' Timestamp',\n",
    "           ' Fwd Header Length.1', ' Label']\n",
    "    # 删除含有大量负数的列\n",
    "    drop_nega = [' Fwd Header Length', 'Init_Win_bytes_forward',\n",
    "           ' Init_Win_bytes_backward', ' act_data_pkt_fwd',\n",
    "       ' min_seg_size_forward']\n",
    "    # 删除数据中可能出现的非数值型数据列\n",
    "    drop_ifexist = ['External IP','SimillarHTTP', ' Inbound','Unnamed: 0']\n",
    "    \n",
    "    # 如果有list中的columns则删除\n",
    "    data.drop(data.columns[data.columns.isin(dropset+drop_nega+drop_ifexist)], axis = 1, inplace=True)\n",
    "    \n",
    "\n",
    "    # 将所有数据类型转成float型\n",
    "    data = data.astype('float')\n",
    "    \n",
    "    # 删除数据中inf的值 (需要连续执行两次，不知道原因，但连续执行后就可删除数据中的inf)\n",
    "    idx_tuple = np.where(data.max(axis=1).values == np.inf)\n",
    "    idx = list(idx_tuple[0])\n",
    "   # print(idx)\n",
    "    data.drop(axis=0, index = idx, inplace = True)\n",
    "    data.reset_index(inplace=True, drop=True)\n",
    "    labels.drop(axis=0, index = idx, inplace = True)\n",
    "    labels.reset_index(inplace=True, drop=True)\n",
    "   # print(len(data))\n",
    "    idx_tuple = np.where(data.max(axis=1).values == np.inf)\n",
    "    idx = list(idx_tuple[0])\n",
    "    data.drop(axis=0, index = idx, inplace = True)\n",
    "    data.reset_index(inplace=True, drop=True)\n",
    "    labels.drop(axis=0, index = idx, inplace = True)\n",
    "    labels.reset_index(inplace=True, drop=True)\n",
    "   # print(len(data))\n",
    "\n",
    "    # 删除数据中含负数的数据条数\n",
    "    idx_tuple = np.where(data.min(axis=1).values < 0)\n",
    "    idx = list(idx_tuple[0])\n",
    "    data.drop(axis=0, index = idx, inplace = True)\n",
    "    data.reset_index(inplace=True, drop=True)\n",
    "    labels.drop(axis=0, index = idx, inplace = True)\n",
    "    labels.reset_index(inplace=True, drop=True)\n",
    "   # print(len(data))\n",
    "    return data,labels\n",
    "\n",
    "def preprocess2019(data, cols, labelnum, label):\n",
    "    data.dropna(how='any', inplace=True)\n",
    "    \n",
    "    # print(data.columns)\n",
    "    data.drop(cols[0:2],axis = 1, inplace = True)\n",
    "    \n",
    "    # 删除非数值型数据，这些数据暂时不用于聚类处理，但不代表这些数据没用\n",
    "    dropset = ['Flow ID', ' Source IP', ' Source Port',\n",
    "       ' Destination IP', ' Destination Port', ' Protocol', ' Timestamp',\n",
    "           ' Fwd Header Length.1', 'SimillarHTTP', ' Inbound']\n",
    "    \n",
    "    # 删除含有大量负数的列\n",
    "    drop_nega = [' Fwd Header Length', 'Init_Win_bytes_forward',\n",
    "           ' Init_Win_bytes_backward', ' act_data_pkt_fwd',\n",
    "       ' min_seg_size_forward']\n",
    "    data.drop(dropset, axis=1,inplace=True)\n",
    "    data.drop(drop_nega, axis=1,inplace=True)\n",
    "    \n",
    "    # 将标签替换为数字\n",
    "    data.replace(to_replace=label, value=labelnum, inplace=True)\n",
    "    \n",
    "    # 将所有数据类型转成float型\n",
    "    data = data.astype('float')\n",
    "    \n",
    "    # 删除数据中inf的值\n",
    "    idx_tuple = np.where(data.max(axis=1).values == np.inf)\n",
    "    idx = list(idx_tuple[0])\n",
    "#    print(len(idx))\n",
    "    data.drop(axis=0, index = idx, inplace = True)\n",
    "    data.reset_index(inplace=True, drop=True)\n",
    "    \n",
    "    idx_tuple = np.where(data.max(axis=1).values == np.inf)\n",
    "    idx = list(idx_tuple[0])\n",
    "#    print(len(idx))\n",
    "    data.drop(axis=0, index = idx, inplace = True)\n",
    "    data.reset_index(inplace=True, drop=True)\n",
    "    \n",
    "    # 删除数据中含负数的数据条数\n",
    "    idx_tuple = np.where(data.min(axis=1).values < 0)\n",
    "    idx = list(idx_tuple[0])\n",
    "    data.drop(axis=0, index = idx, inplace = True)\n",
    "    data.reset_index(inplace=True, drop=True)\n",
    "    \n",
    "    return data\n",
    "\n",
    "# 数据切割 \n",
    "def split_train_test(data,test_ratio):\n",
    "    #设置随机数种子，保证每次生成的结果都是一样的\n",
    "    np.random.seed(42)\n",
    "    #permutation随机生成0-len(data)随机序列\n",
    "    shuffled_indices = np.random.permutation(len(data))\n",
    "    #test_ratio为测试集所占的百分比\n",
    "    test_set_size = int(len(data) * test_ratio)\n",
    "    test_indices = shuffled_indices[:test_set_size]\n",
    "    train_indices = shuffled_indices[test_set_size:]\n",
    "    #iloc选择参数序列中所对应的行\n",
    "    return data.iloc[train_indices],data.iloc[test_indices]\n",
    "\n",
    "def meanScaler(data):\n",
    "    cols = data.columns\n",
    "    means = data.mean()\n",
    "    loc = np.where(means == 0.0)[0]\n",
    "    data = data.drop(cols[loc],axis=1)\n",
    "    means = means.drop(cols[loc])\n",
    "    # print(len(allX), len(means))\n",
    "    # 均值归一化\n",
    "    data = data / means\n",
    "    return data"
   ]
  },
  {
   "cell_type": "markdown",
   "metadata": {},
   "source": [
    "## 数据载入与预处理\n",
    "载入训练集与测试集，训练集数据规模为200000，测试集数据规模为50000"
   ]
  },
  {
   "cell_type": "code",
   "execution_count": 3,
   "metadata": {},
   "outputs": [],
   "source": [
    "train_set_dir = '/mnt/hgfs/linuxfile/train_set/'\n",
    "test_set_dir = '/mnt/hgfs/linuxfile/test_set/'"
   ]
  },
  {
   "cell_type": "code",
   "execution_count": 4,
   "metadata": {},
   "outputs": [],
   "source": [
    "trainfiles = os.listdir(train_set_dir)\n",
    "testfiles = os.listdir(test_set_dir)"
   ]
  },
  {
   "cell_type": "code",
   "execution_count": 5,
   "metadata": {},
   "outputs": [
    {
     "name": "stdout",
     "output_type": "stream",
     "text": [
      "from train_BENIGN_data.csv get 42527 rows data\n",
      "from train_DrDoS_DNS.csv get 200000 rows data\n",
      "from train_DrDoS_LDAP.csv get 200000 rows data\n",
      "from train_DrDoS_MSSQL.csv get 200000 rows data\n",
      "from train_DrDoS_NetBIOS.csv get 200000 rows data\n",
      "from train_DrDoS_NTP.csv get 200000 rows data\n",
      "from train_DrDoS_SNMP.csv get 200000 rows data\n",
      "from train_DrDoS_SSDP.csv get 200000 rows data\n",
      "from train_DrDoS_UDP.csv get 200000 rows data\n",
      "from train_Syn.csv get 200000 rows data\n",
      "from train_TFTP.csv get 200000 rows data\n",
      "from test_BENIGN_data.csv get 10631 rows data\n",
      "from test_DrDoS_DNS.csv get 50000 rows data\n",
      "from test_DrDoS_LDAP.csv get 50000 rows data\n",
      "from test_DrDoS_MSSQL.csv get 50000 rows data\n",
      "from test_DrDoS_NetBIOS.csv get 50000 rows data\n",
      "from test_DrDoS_NTP.csv get 50000 rows data\n",
      "from test_DrDoS_SNMP.csv get 50000 rows data\n",
      "from test_DrDoS_SSDP.csv get 50000 rows data\n",
      "from test_DrDoS_UDP.csv get 50000 rows data\n",
      "from test_Syn.csv get 50000 rows data\n",
      "from test_TFTP.csv get 50000 rows data\n"
     ]
    }
   ],
   "source": [
    "# 数据过大，使用较小的数据用于学习\n",
    "\n",
    "#训练集使用每个标签各200000行的demo用于训练\n",
    "train_set_demo = pd.DataFrame()\n",
    "numfiles = len(trainfiles)\n",
    "for i in range(numfiles):\n",
    "    tdata = pd.read_csv(train_set_dir+trainfiles[i], nrows=200000)\n",
    "    print('from ' + trainfiles[i]+' get '+str(len(tdata)) + ' rows data')\n",
    "    train_set_demo = train_set_demo.append(tdata)\n",
    "    train_set_demo.reset_index(inplace=True, drop=True)\n",
    "\n",
    "# 测试集使用每个标签各50000行的demo测试\n",
    "test_set_demo = pd.DataFrame()\n",
    "numfiles = len(testfiles)\n",
    "for i in range(numfiles):\n",
    "    tdata = pd.read_csv(test_set_dir+testfiles[i], nrows=50000)\n",
    "    print('from ' + testfiles[i]+' get '+str(len(tdata)) + ' rows data')\n",
    "    test_set_demo = test_set_demo.append(tdata)\n",
    "    test_set_demo.reset_index(inplace=True, drop=True)"
   ]
  },
  {
   "cell_type": "code",
   "execution_count": 6,
   "metadata": {},
   "outputs": [],
   "source": [
    "## 20features\n",
    "ExtraTreeFeatures = [' Total Fwd Packets', 'Total Length of Fwd Packets', ' Fwd Packet Length Max', ' Fwd Packet Length Min', ' Fwd Packet Length Mean', 'Flow Bytes/s', ' Flow Packets/s', ' Flow IAT Mean', ' Flow IAT Max', 'Fwd IAT Total', ' Fwd IAT Mean', ' Fwd IAT Max', 'Fwd Packets/s', ' Min Packet Length', ' Max Packet Length', ' Packet Length Mean', ' ACK Flag Count', ' Average Packet Size', ' Avg Fwd Segment Size', ' Subflow Fwd Bytes']\n",
    "\n",
    "LogisticRegressionFeatures =['Total Length of Fwd Packets', ' Fwd Packet Length Min', ' Fwd Packet Length Mean', ' Fwd Packet Length Std', ' Bwd Packet Length Min', 'Flow Bytes/s', ' Flow Packets/s', ' Flow IAT Mean', 'Fwd IAT Total', ' Fwd IAT Std', 'Fwd Packets/s', ' Min Packet Length', ' Packet Length Mean', ' Packet Length Std', ' Packet Length Variance', ' ACK Flag Count', ' Average Packet Size', ' Avg Fwd Segment Size', 'Subflow Fwd Packets', ' Subflow Fwd Bytes']\n",
    "# ## 30 features\n",
    "# ExtraTreeFeatures=[' Flow Duration', ' Total Fwd Packets', 'Total Length of Fwd Packets', ' Fwd Packet Length Max', ' Fwd Packet Length Min', ' Fwd Packet Length Mean', ' Fwd Packet Length Std', 'Flow Bytes/s', ' Flow Packets/s', ' Flow IAT Mean', ' Flow IAT Std', ' Flow IAT Max', ' Flow IAT Min', 'Fwd IAT Total', ' Fwd IAT Mean', ' Fwd IAT Std', ' Fwd IAT Max', ' Fwd IAT Min', 'Fwd Packets/s', ' Min Packet Length', ' Max Packet Length', ' Packet Length Mean', ' Packet Length Std', ' PSH Flag Count', ' ACK Flag Count', ' URG Flag Count', ' Average Packet Size', ' Avg Fwd Segment Size', 'Subflow Fwd Packets', ' Subflow Fwd Bytes']\n",
    "# LogisticRegressionFeatures=[' Flow Duration', ' Total Fwd Packets', ' Total Backward Packets', 'Total Length of Fwd Packets', ' Fwd Packet Length Max', ' Fwd Packet Length Min', ' Fwd Packet Length Mean', ' Fwd Packet Length Std', ' Bwd Packet Length Min', 'Flow Bytes/s', ' Flow Packets/s', ' Flow IAT Mean', ' Flow IAT Std', ' Flow IAT Max', 'Fwd IAT Total', ' Fwd IAT Std', ' Bwd Header Length', 'Fwd Packets/s', ' Min Packet Length', ' Max Packet Length', ' Packet Length Mean', ' Packet Length Std', ' Packet Length Variance', ' PSH Flag Count', ' ACK Flag Count', ' Average Packet Size', ' Avg Fwd Segment Size', 'Subflow Fwd Packets', ' Subflow Fwd Bytes', ' Active Min']\n",
    "allcols = list(set(ExtraTreeFeatures).union(set(LogisticRegressionFeatures)))\n",
    "allcols.append(' Label')\n",
    "numcols = len(allcols)"
   ]
  },
  {
   "cell_type": "code",
   "execution_count": null,
   "metadata": {},
   "outputs": [],
   "source": [
    "train_features, train_labels = preprocess2017(train_set_demo)\n",
    "test_features, test_labels = preprocess2017(test_set_demo)\n",
    "del train_set_demo, test_set_demo"
   ]
  },
  {
   "cell_type": "code",
   "execution_count": null,
   "metadata": {},
   "outputs": [],
   "source": [
    "## 数据处理\n",
    "# labels 转换成用数表示其分类结果\n",
    "labelset = set(train_labels)\n",
    "label_dict = {}\n",
    "i = 0\n",
    "for l in labelset:\n",
    "    label_dict[l] = i\n",
    "    train_labels.replace(to_replace=l, value=i, inplace=True)\n",
    "    test_labels.replace(to_replace=l, value=i, inplace=True)\n",
    "    i = i + 1"
   ]
  },
  {
   "cell_type": "markdown",
   "metadata": {},
   "source": [
    "* 'DrDoS_SNMP': 0,\n",
    "* 'BENIGN': 1,\n",
    "* 'DrDoS_DNS': 2,\n",
    "* 'DrDoS_SSDP': 3,\n",
    "* 'Syn': 4,\n",
    "* 'WebDDoS': 5,\n",
    "* 'DrDoS_UDP': 6,\n",
    "* 'DrDoS_NTP': 7,\n",
    "* 'DrDoS_MSSQL': 8,\n",
    "* 'DrDoS_LDAP': 9,\n",
    "* 'UDP-lag': 10,\n",
    "* 'DrDoS_NetBIOS': 11,\n",
    "* 'TFTP': 12"
   ]
  },
  {
   "cell_type": "code",
   "execution_count": null,
   "metadata": {},
   "outputs": [],
   "source": [
    "# X,Y数据提取\n",
    "train_X = meanScaler(train_features).values\n",
    "train_Y = train_labels.values\n",
    "\n",
    "test_X = meanScaler(test_features).values\n",
    "test_Y = test_labels.values\n",
    "del train_features, train_labels, test_features, test_labels"
   ]
  },
  {
   "cell_type": "code",
   "execution_count": null,
   "metadata": {},
   "outputs": [],
   "source": [
    "len(test_X), len(test_Y)"
   ]
  },
  {
   "cell_type": "code",
   "execution_count": null,
   "metadata": {},
   "outputs": [],
   "source": [
    "## 数据无量纲化处理\n",
    "# 标准化\n",
    "# transScaler = preprocessing.StandardScaler().fit(X)\n",
    "# X_ = transScaler.transform(X)\n",
    "# # min_max归一化\n",
    "# transScaler = preprocessing.MinMaxScaler().fit(X)\n",
    "# X_ = transScaler.transform(X)\n",
    "# X_ = X\n",
    "## mean归一化\n"
   ]
  },
  {
   "cell_type": "markdown",
   "metadata": {},
   "source": [
    "## 训练，使用多种模型尝试"
   ]
  },
  {
   "cell_type": "markdown",
   "metadata": {},
   "source": [
    "### 极限树分类"
   ]
  },
  {
   "cell_type": "code",
   "execution_count": null,
   "metadata": {},
   "outputs": [],
   "source": [
    "# 极限树分类\n",
    "Extra_model = ExtraTreesClassifier(random_state = 1).fit(train_X,train_Y)\n",
    "\n",
    "test_Y_hat = Extra_model.predict(test_X)\n",
    "\n"
   ]
  },
  {
   "cell_type": "code",
   "execution_count": null,
   "metadata": {},
   "outputs": [],
   "source": [
    "print(accuracy_score(test_Y, test_Y_hat))\n",
    "print(precision_score(test_Y, test_Y_hat,average='micro'))\n",
    "print(recall_score(test_Y, test_Y_hat,average='micro'))\n",
    "print(f1_score(test_Y, test_Y_hat,average='micro'))\n",
    "print(classification_report(test_Y, test_Y_hat))"
   ]
  },
  {
   "cell_type": "markdown",
   "metadata": {},
   "source": [
    "#### extraTree 30 features\n",
    "0.7399039497848786\n",
    "0.7399039497848786\n",
    "0.7399039497848786\n",
    "0.7399039497848786\n",
    "\n",
    "              precision    recall  f1-score   support\n",
    "\n",
    "           0       1.00      1.00      1.00     51199\n",
    "           1       0.48      0.35      0.40     49221\n",
    "           2       1.00      0.99      1.00     48560\n",
    "           3       0.59      0.98      0.74     43546\n",
    "           4       0.50      0.64      0.56     49063\n",
    "           5       0.49      0.65      0.55     49340\n",
    "           6       0.32      0.28      0.30        53\n",
    "           7       0.90      0.21      0.34     44564\n",
    "           8       0.61      0.87      0.72     49897\n",
    "           9       0.93      0.95      0.94     48595\n",
    "          10       0.95      0.99      0.97     48395\n",
    "          11       0.84      0.22      0.35     48389\n",
    "          12       0.99      1.00      1.00     49083\n",
    "\n",
    "    accuracy                           0.74    579905\n",
    "   macro avg       0.74      0.70      0.68    579905\n",
    "weighted avg       0.77      0.74      0.72    579905\n",
    "\n"
   ]
  },
  {
   "cell_type": "markdown",
   "metadata": {},
   "source": [
    "### 随机森林分类"
   ]
  },
  {
   "cell_type": "code",
   "execution_count": null,
   "metadata": {},
   "outputs": [],
   "source": [
    "RandomForest_model = RandomForestClassifier().fit(train_X,train_Y)\n",
    "\n",
    "test_Y_hat = RandomForest_model.predict(test_X)\n",
    "\n",
    "print(accuracy_score(test_Y, test_Y_hat))\n",
    "print(precision_score(test_Y, test_Y_hat,average='micro'))\n",
    "print(recall_score(test_Y, test_Y_hat,average='micro'))\n",
    "print(f1_score(test_Y, test_Y_hat,average='micro'))\n",
    "print(classification_report(test_Y, test_Y_hat))"
   ]
  },
  {
   "cell_type": "markdown",
   "metadata": {},
   "source": [
    "#### randomforest 30 features\n",
    "\n",
    "0.7465533147670739\n",
    "\n",
    "0.7465533147670739\n",
    "\n",
    "0.7465533147670739\n",
    "\n",
    "0.7465533147670738\n",
    "\n",
    "              precision    recall  f1-score   support\n",
    "\n",
    "           0       1.00      1.00      1.00     51199\n",
    "           1       0.48      0.27      0.34     49221\n",
    "           2       1.00      0.99      1.00     48560\n",
    "           3       0.59      0.98      0.74     43546\n",
    "           4       0.51      0.68      0.58     49063\n",
    "           5       0.48      0.73      0.58     49340\n",
    "           6       0.36      0.19      0.25        53\n",
    "           7       0.90      0.21      0.34     44564\n",
    "           8       0.67      0.85      0.75     49897\n",
    "           9       0.93      0.95      0.94     48595\n",
    "          10       0.95      0.99      0.97     48395\n",
    "          11       0.79      0.28      0.41     48389\n",
    "          12       0.99      1.00      1.00     49083\n",
    "\n",
    "    accuracy                           0.75    579905\n",
    "   macro avg       0.74      0.70      0.68    579905\n",
    "weighted avg       0.78      0.75      0.72    579905"
   ]
  },
  {
   "cell_type": "markdown",
   "metadata": {},
   "source": [
    "### SVM分类"
   ]
  },
  {
   "cell_type": "code",
   "execution_count": null,
   "metadata": {},
   "outputs": [],
   "source": [
    "# from sklearn.svm import SVC"
   ]
  },
  {
   "cell_type": "code",
   "execution_count": null,
   "metadata": {},
   "outputs": [],
   "source": [
    "# svm_model = SVC(kernel='linear', C = 1.0, random_state=1).fit(train_X, train_Y)\n",
    "\n",
    "# test_Y_hat = svm_model.predict(test_X)\n",
    "\n",
    "# print(accuracy_score(test_Y, test_Y_hat))\n",
    "# print(precision_score(test_Y, test_Y_hat,average='micro'))\n",
    "# print(recall_score(test_Y, test_Y_hat,average='micro'))\n",
    "# print(f1_score(test_Y, test_Y_hat,average='micro'))\n",
    "# # print(classification_report(test_Y, test_Y_hat))"
   ]
  },
  {
   "cell_type": "markdown",
   "metadata": {},
   "source": [
    "### KNN分类"
   ]
  },
  {
   "cell_type": "code",
   "execution_count": null,
   "metadata": {},
   "outputs": [],
   "source": [
    "# from sklearn.neighbors import KNeighborsClassifier\n",
    "# from sklearn.model_selection import cross_val_score"
   ]
  },
  {
   "cell_type": "code",
   "execution_count": null,
   "metadata": {},
   "outputs": [],
   "source": [
    "# ## 交叉验证选择合适的K值\n",
    "# k_range = range(1,20)\n",
    "# k_error = []\n",
    "# for k in k_range:\n",
    "#     print('第' + str(k) + '次检验')\n",
    "#     knn = KNeighborsClassifier(n_neighbors=k)\n",
    "#     scores = cross_val_score(knn, test_X, test_Y, cv = 6, scoring='accuracy')\n",
    "#     k_error.append(1-scores.mean())"
   ]
  },
  {
   "cell_type": "markdown",
   "metadata": {},
   "source": [
    "### GBDT 分类"
   ]
  },
  {
   "cell_type": "code",
   "execution_count": null,
   "metadata": {},
   "outputs": [],
   "source": [
    "from sklearn.ensemble import GradientBoostingClassifier\n",
    "\n",
    "GBDT_model = GradientBoostingClassifier(n_estimators=200).fit(train_X, train_Y)\n",
    "test_Y_hat = GBDT_model.predict(test_X)\n",
    "\n",
    "print(accuracy_score(test_Y, test_Y_hat))\n",
    "print(precision_score(test_Y, test_Y_hat,average='micro'))\n",
    "print(recall_score(test_Y, test_Y_hat,average='micro'))\n",
    "print(f1_score(test_Y, test_Y_hat,average='micro'))\n",
    "print(classification_report(test_Y, test_Y_hat))"
   ]
  },
  {
   "cell_type": "markdown",
   "metadata": {},
   "source": [
    "### GDBT 30 features\n",
    "0.7754756401586644\n",
    "\n",
    "0.7754756401586644\n",
    "\n",
    "0.7754756401586644\n",
    "\n",
    "0.7754756401586644\n",
    "\n",
    "            precision    recall  f1-score   support\n",
    "\n",
    "           0       0.52      0.76      0.62     49340\n",
    "           1       0.74      0.27      0.40     48389\n",
    "           2       0.92      0.95      0.93     48595\n",
    "           3       0.53      0.25      0.34     49221\n",
    "           4       0.99      1.00      1.00     43546\n",
    "           5       0.50      0.66      0.57     49063\n",
    "           6       0.95      0.99      0.97     48395\n",
    "           7       0.67      0.85      0.75     49897\n",
    "           8       1.00      0.99      1.00     48560\n",
    "           9       0.99      0.99      0.99     11296\n",
    "          10       0.99      1.00      1.00     49083\n",
    "\n",
    "    accuracy                           0.78    495385\n",
    "   macro avg       0.80      0.79      0.78    495385\n",
    "weighted avg       0.78      0.78      0.76    495385\n",
    "\n"
   ]
  },
  {
   "cell_type": "markdown",
   "metadata": {},
   "source": [
    "### AdaBoost 分类"
   ]
  },
  {
   "cell_type": "code",
   "execution_count": null,
   "metadata": {},
   "outputs": [],
   "source": [
    "from sklearn.ensemble import AdaBoostClassifier\n",
    "\n",
    "AdaBoost_model = AdaBoostClassifier().fit(train_X, train_Y)\n",
    "test_Y_hat = AdaBoost_model.predict(test_X)\n",
    "\n",
    "print(accuracy_score(test_Y, test_Y_hat))\n",
    "print(precision_score(test_Y, test_Y_hat,average='micro'))\n",
    "print(recall_score(test_Y, test_Y_hat,average='micro'))\n",
    "print(f1_score(test_Y, test_Y_hat,average='micro'))\n",
    "print(classification_report(test_Y, test_Y_hat))"
   ]
  },
  {
   "cell_type": "markdown",
   "metadata": {},
   "source": [
    "### AdaBoost 30 features\n",
    "0.5558747236997487\n",
    "\n",
    "0.5558747236997487\n",
    "\n",
    "0.5558747236997487\n",
    "\n",
    "0.5558747236997487\n",
    "\n",
    "              precision    recall  f1-score   support\n",
    "\n",
    "           0       0.32      0.08      0.12     49340\n",
    "           1       0.12      0.13      0.12     48389\n",
    "           2       0.37      0.87      0.52     48595\n",
    "           3       0.44      0.35      0.39     49221\n",
    "           4       0.98      1.00      0.99     43546\n",
    "           5       0.40      0.73      0.52     49063\n",
    "           6       0.93      0.99      0.96     48395\n",
    "           7       0.33      0.00      0.00     49897\n",
    "           8       0.99      0.54      0.70     48560\n",
    "           9       0.93      0.94      0.93     11296\n",
    "          10       0.80      0.86      0.83     49083\n",
    "\n",
    "    accuracy                           0.56    495385\n",
    "   macro avg       0.60      0.59      0.55    495385\n",
    "weighted avg       0.57      0.56      0.52    495385\n",
    "\n"
   ]
  },
  {
   "cell_type": "code",
   "execution_count": null,
   "metadata": {},
   "outputs": [],
   "source": [
    "from sklearn.linear_model import LogisticRegression"
   ]
  },
  {
   "cell_type": "code",
   "execution_count": null,
   "metadata": {},
   "outputs": [],
   "source": [
    "lr_model = LogisticRegression(penalty='l2').fit(train_X, train_Y)\n",
    "test_Y_hat = lr_model.predict(test_X)"
   ]
  },
  {
   "cell_type": "code",
   "execution_count": null,
   "metadata": {},
   "outputs": [],
   "source": [
    "print(accuracy_score(test_Y, test_Y_hat))\n",
    "print(precision_score(test_Y, test_Y_hat,average='micro'))\n",
    "print(recall_score(test_Y, test_Y_hat,average='micro'))\n",
    "print(f1_score(test_Y, test_Y_hat,average='micro'))\n",
    "# print(classification_report(test_Y, test_Y_hat))"
   ]
  }
 ],
 "metadata": {
  "kernelspec": {
   "display_name": "Python [conda env:grdenv]",
   "language": "python",
   "name": "conda-env-grdenv-py"
  },
  "language_info": {
   "codemirror_mode": {
    "name": "ipython",
    "version": 3
   },
   "file_extension": ".py",
   "mimetype": "text/x-python",
   "name": "python",
   "nbconvert_exporter": "python",
   "pygments_lexer": "ipython3",
   "version": "3.7.10"
  }
 },
 "nbformat": 4,
 "nbformat_minor": 4
}
