{
 "cells": [
  {
   "cell_type": "markdown",
   "metadata": {},
   "source": [
    "# 对文件中IP对进行编码，寻找网络系统脆弱点"
   ]
  },
  {
   "cell_type": "code",
   "execution_count": 11,
   "metadata": {},
   "outputs": [],
   "source": [
    "# import libs\n",
    "import numpy as np\n",
    "import pandas as pd\n",
    "import os"
   ]
  },
  {
   "cell_type": "code",
   "execution_count": 12,
   "metadata": {},
   "outputs": [],
   "source": [
    "# 从文件夹'newdata/'中读取数据文件\n",
    "filedir = '/mnt/hgfs/linuxfile/2017/'\n",
    "files = os.listdir(filedir)"
   ]
  },
  {
   "cell_type": "code",
   "execution_count": 13,
   "metadata": {},
   "outputs": [],
   "source": [
    "filepath = filedir + files[0]\n",
    "usecols = [' Source IP', ' Destination IP']"
   ]
  },
  {
   "cell_type": "code",
   "execution_count": 14,
   "metadata": {},
   "outputs": [],
   "source": [
    "IPpairs = pd.read_csv(filepath, usecols=usecols)"
   ]
  },
  {
   "cell_type": "code",
   "execution_count": 15,
   "metadata": {},
   "outputs": [],
   "source": [
    "SrcIP = set(IPpairs[' Source IP'])\n",
    "DesIP = set(IPpairs[' Destination IP'])"
   ]
  },
  {
   "cell_type": "code",
   "execution_count": 16,
   "metadata": {},
   "outputs": [],
   "source": [
    "IPs = SrcIP.union(DesIP)"
   ]
  },
  {
   "cell_type": "code",
   "execution_count": 17,
   "metadata": {},
   "outputs": [],
   "source": [
    "IP_dict={}\n",
    "i = 1\n",
    "for ip in IPs:\n",
    "    IP_dict[ip] = i\n",
    "    i += 1"
   ]
  },
  {
   "cell_type": "code",
   "execution_count": 18,
   "metadata": {},
   "outputs": [],
   "source": [
    "for ip in IPs:\n",
    "    IPpairs.replace(to_replace=ip, value=IP_dict[ip], inplace=True)"
   ]
  },
  {
   "cell_type": "code",
   "execution_count": 20,
   "metadata": {},
   "outputs": [],
   "source": [
    "IPlist = [0] * (len(IP_dict)+1)\n",
    "for ip in IP_dict:\n",
    "    IPlist[IP_dict[ip]] = ip"
   ]
  },
  {
   "cell_type": "code",
   "execution_count": 21,
   "metadata": {},
   "outputs": [],
   "source": [
    "import scipy.io as io\n",
    "IPpairs_path = '/mnt/hgfs/linuxfile/mat/IPpairs.mat'\n",
    "IPs_path = '/mnt/hgfs/linuxfile/mat/IPs.mat'\n",
    "IPpairs_mat = IPpairs.values\n",
    "IPs_mat = IPlist\n",
    "io.savemat(IPpairs_path,{'IPpairs':IPpairs_mat})\n",
    "io.savemat(IPs_path,{'IPs':IPs_mat})"
   ]
  },
  {
   "cell_type": "code",
   "execution_count": null,
   "metadata": {},
   "outputs": [],
   "source": []
  }
 ],
 "metadata": {
  "kernelspec": {
   "display_name": "Python [conda env:grdenv]",
   "language": "python",
   "name": "conda-env-grdenv-py"
  },
  "language_info": {
   "codemirror_mode": {
    "name": "ipython",
    "version": 3
   },
   "file_extension": ".py",
   "mimetype": "text/x-python",
   "name": "python",
   "nbconvert_exporter": "python",
   "pygments_lexer": "ipython3",
   "version": "3.7.10"
  }
 },
 "nbformat": 4,
 "nbformat_minor": 4
}
