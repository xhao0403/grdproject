{
 "cells": [
  {
   "cell_type": "markdown",
   "metadata": {},
   "source": [
    "### Attack Dectection For SPD"
   ]
  },
  {
   "cell_type": "code",
   "execution_count": 1,
   "metadata": {},
   "outputs": [],
   "source": [
    "# import libs\n",
    "import numpy as np\n",
    "import pandas as pd\n",
    "import os\n",
    "import scipy.io as io\n",
    "from sklearn import preprocessing\n",
    "from scipy.stats import pearsonr\n",
    "from sklearn.feature_selection import SelectKBest\n",
    "from sklearn.feature_selection import chi2\n",
    "from numpy import array\n",
    "from sklearn.feature_selection import RFE\n",
    "from sklearn.linear_model import LogisticRegression\n",
    "from sklearn.svm import SVC\n",
    "from sklearn.ensemble import RandomForestClassifier\n",
    "from sklearn.feature_selection import SelectFromModel\n",
    "from sklearn.ensemble import GradientBoostingClassifier\n",
    "from sklearn.ensemble import ExtraTreesClassifier\n",
    "import math\n",
    "from scipy.linalg import expm,logm\n",
    "from sklearn.metrics import accuracy_score, precision_score, recall_score, f1_score, confusion_matrix, classification_report"
   ]
  },
  {
   "cell_type": "code",
   "execution_count": 2,
   "metadata": {},
   "outputs": [],
   "source": [
    "## 计算黎曼距离\n",
    "def riemann_distance(X,Y):\n",
    "    X = np.reshape(X,(26,26))\n",
    "    Y = np.reshape(Y,(26,26))\n",
    "    gtype = 'L'\n",
    "#     print(X.shape)\n",
    "    if gtype == 'A':\n",
    "        tmpEig = geneig(X,Y)\n",
    "        tmp_dis = sum(mylog(tmpEig) ** 2)\n",
    "    elif gtype == 'S':\n",
    "        t = mylog(np.linalg.det(0.5 * (X + Y))) - 0.5 * (mylog(np.linalg.det(X))) + mylog(np.linalg.det(Y))\n",
    "        if t == np.inf or np.isnan(t):\n",
    "            eigX = np.linalg.eig(X)\n",
    "            eigX = np.maximum(eigX,eps)\n",
    "            eigY = np.linalg.eig(Y);\n",
    "            eigY = np.maximum(eigY,eps)\n",
    "\n",
    "            t = np.real(sum(mylog(np.linalg.eig(0.5*(X+Y))))) - 0.5 * (np.real(sum(mylog(eigX)))) + np.real(sum(mylog(eigY)))\n",
    "\n",
    "        tmp_dis = t;\n",
    "    elif gtype == 'J':\n",
    "        tmp_dis = 0.5 * (np.dot(np.linalg.inv(Y),X)).trace() + 0.5 * (np.dot(np.linalg.inv(X),Y)).trace() - X.shape[0]\n",
    "    elif gtype == 'L':\n",
    "        tmp_dis = np.linalg.norm((logm(X) - logm(Y)),ord='fro') ** 2\n",
    "    \n",
    "    if tmp_dis <= 1e-15:\n",
    "        dis = 0\n",
    "    else:\n",
    "        dis = np.sqrt(tmp_dis);\n",
    "    return dis\n",
    "\n",
    "## 计算广义特征值\n",
    "def geneig(X,Y):\n",
    "    w,v = np.linalg.eig(np.dot(np.linalg.inv(Y),X))\n",
    "    return w\n",
    "\n",
    "## 计算可能出现负数的对数函数\n",
    "def mylog(X):\n",
    "    CX = X + 0j\n",
    "    return np.log(CX)\n",
    "\n",
    "## 将协方差矩阵转成上三角矩阵\n",
    "def dealSPD(A):\n",
    "    n = A.shape[0]\n",
    "    B = np.zeros(shape=(1, n*(n+1)//2))\n",
    "    j = 0\n",
    "    for i in range(0,n):\n",
    "        B[:,j:j+n-i] = A[i,i:n]\n",
    "        j = j + n -i\n",
    "    return B"
   ]
  },
  {
   "cell_type": "code",
   "execution_count": 3,
   "metadata": {},
   "outputs": [],
   "source": [
    "train_spd_X_path = '/mnt/hgfs/linuxfile/spd_train_npy_set/train_spd_X.npy'\n",
    "train_spd_Y_path = '/mnt/hgfs/linuxfile/spd_train_npy_set/train_spd_Y.npy'\n",
    "test_spd_X_path = '/mnt/hgfs/linuxfile/spd_test_npy_set/test_spd_X.npy'\n",
    "test_spd_Y_path = '/mnt/hgfs/linuxfile/spd_test_npy_set/test_spd_Y.npy'"
   ]
  },
  {
   "cell_type": "code",
   "execution_count": null,
   "metadata": {},
   "outputs": [],
   "source": []
  },
  {
   "cell_type": "code",
   "execution_count": 4,
   "metadata": {},
   "outputs": [],
   "source": [
    "train_spd_X = np.load(train_spd_X_path)\n",
    "train_spd_Y = np.load(train_spd_Y_path)\n",
    "test_spd_X = np.load(test_spd_X_path)\n",
    "test_spd_Y = np.load(test_spd_Y_path)"
   ]
  },
  {
   "cell_type": "code",
   "execution_count": 5,
   "metadata": {},
   "outputs": [],
   "source": [
    "trainshape = train_spd_X.shape\n",
    "testshape = test_spd_X.shape"
   ]
  },
  {
   "cell_type": "code",
   "execution_count": 6,
   "metadata": {},
   "outputs": [
    {
     "data": {
      "text/plain": [
       "(10698, 26, 26)"
      ]
     },
     "execution_count": 6,
     "metadata": {},
     "output_type": "execute_result"
    }
   ],
   "source": [
    "trainshape"
   ]
  },
  {
   "cell_type": "code",
   "execution_count": 7,
   "metadata": {},
   "outputs": [],
   "source": [
    "train_spd_X_ = np.zeros(shape=(trainshape[0],trainshape[1] * (trainshape[2]+1) // 2))\n",
    "test_spd_X_ = np.zeros(shape=(testshape[0],testshape[1] * (testshape[2]+1) // 2))"
   ]
  },
  {
   "cell_type": "code",
   "execution_count": 8,
   "metadata": {},
   "outputs": [],
   "source": [
    "# for i in range(trainshape[0]):\n",
    "#     train_spd_X_[i] = train_spd_X[i].ravel()\n",
    "# for i in range(testshape[0]):\n",
    "#     test_spd_X_[i] = test_spd_X[i].ravel()"
   ]
  },
  {
   "cell_type": "code",
   "execution_count": 9,
   "metadata": {},
   "outputs": [],
   "source": [
    "for i in range(trainshape[0]):\n",
    "    train_spd_X_[i] = dealSPD(train_spd_X[i])\n",
    "for i in range(testshape[0]):\n",
    "    test_spd_X_[i] = dealSPD(test_spd_X[i])"
   ]
  },
  {
   "cell_type": "code",
   "execution_count": 10,
   "metadata": {},
   "outputs": [],
   "source": [
    "train_X = train_spd_X_\n",
    "train_Y = train_spd_Y\n",
    "test_X = test_spd_X_\n",
    "test_Y = test_spd_Y"
   ]
  },
  {
   "cell_type": "markdown",
   "metadata": {},
   "source": [
    "### 极限树"
   ]
  },
  {
   "cell_type": "code",
   "execution_count": 11,
   "metadata": {},
   "outputs": [
    {
     "name": "stderr",
     "output_type": "stream",
     "text": [
      "/home/xuhao/miniconda3/envs/grdenv/lib/python3.7/site-packages/ipykernel_launcher.py:1: DataConversionWarning: A column-vector y was passed when a 1d array was expected. Please change the shape of y to (n_samples,), for example using ravel().\n",
      "  \"\"\"Entry point for launching an IPython kernel.\n"
     ]
    },
    {
     "name": "stdout",
     "output_type": "stream",
     "text": [
      "0.9761424731182796\n",
      "0.9761424731182796\n",
      "0.9761424731182796\n",
      "0.9761424731182796\n",
      "              precision    recall  f1-score   support\n",
      "\n",
      "         0.0       0.95      1.00      0.98       242\n",
      "         1.0       1.00      1.00      1.00       218\n",
      "         2.0       0.87      0.91      0.89       246\n",
      "         3.0       1.00      1.00      1.00       242\n",
      "         4.0       0.91      0.87      0.89       247\n",
      "         5.0       0.99      0.96      0.97       243\n",
      "         6.0       0.99      0.99      0.99       249\n",
      "         7.0       1.00      1.00      1.00       553\n",
      "         8.0       1.00      0.99      0.99       242\n",
      "         9.0       1.00      1.00      1.00       245\n",
      "        10.0       1.00      1.00      1.00       249\n",
      "\n",
      "    accuracy                           0.98      2976\n",
      "   macro avg       0.97      0.97      0.97      2976\n",
      "weighted avg       0.98      0.98      0.98      2976\n",
      "\n"
     ]
    }
   ],
   "source": [
    "Extra_model = ExtraTreesClassifier(random_state = 1).fit(train_X,train_Y)\n",
    "\n",
    "test_Y_hat = Extra_model.predict(test_X)\n",
    "\n",
    "print(accuracy_score(test_Y, test_Y_hat))\n",
    "print(precision_score(test_Y, test_Y_hat,average='micro'))\n",
    "print(recall_score(test_Y, test_Y_hat,average='micro'))\n",
    "print(f1_score(test_Y, test_Y_hat,average='micro'))\n",
    "print(classification_report(test_Y, test_Y_hat))"
   ]
  },
  {
   "cell_type": "markdown",
   "metadata": {},
   "source": [
    "普通方阵\n",
    "0.9758064516129032\n",
    "0.9758064516129032\n",
    "0.9758064516129032\n",
    "0.9758064516129032\n",
    "              precision    recall  f1-score   support\n",
    "\n",
    "         0.0       0.95      1.00      0.97       242\n",
    "         1.0       1.00      1.00      1.00       218\n",
    "         2.0       0.87      0.92      0.89       246\n",
    "         3.0       1.00      1.00      1.00       242\n",
    "         4.0       0.92      0.86      0.89       247\n",
    "         5.0       0.99      0.95      0.97       243\n",
    "         6.0       0.99      0.99      0.99       249\n",
    "         7.0       1.00      1.00      1.00       553\n",
    "         8.0       1.00      0.99      1.00       242\n",
    "         9.0       1.00      1.00      1.00       245\n",
    "        10.0       1.00      1.00      1.00       249\n",
    "\n",
    "    accuracy                           0.98      2976\n",
    "   macro avg       0.97      0.97      0.97      2976\n",
    "weighted avg       0.98      0.98      0.98      2976\n"
   ]
  },
  {
   "cell_type": "markdown",
   "metadata": {},
   "source": [
    "### 随机森林"
   ]
  },
  {
   "cell_type": "code",
   "execution_count": 12,
   "metadata": {},
   "outputs": [
    {
     "name": "stderr",
     "output_type": "stream",
     "text": [
      "/home/xuhao/miniconda3/envs/grdenv/lib/python3.7/site-packages/ipykernel_launcher.py:1: DataConversionWarning: A column-vector y was passed when a 1d array was expected. Please change the shape of y to (n_samples,), for example using ravel().\n",
      "  \"\"\"Entry point for launching an IPython kernel.\n"
     ]
    },
    {
     "name": "stdout",
     "output_type": "stream",
     "text": [
      "0.9022177419354839\n",
      "0.9022177419354839\n",
      "0.9022177419354839\n",
      "0.9022177419354839\n",
      "              precision    recall  f1-score   support\n",
      "\n",
      "         0.0       0.99      1.00      0.99       242\n",
      "         1.0       1.00      0.99      1.00       218\n",
      "         2.0       0.78      0.80      0.79       246\n",
      "         3.0       1.00      1.00      1.00       242\n",
      "         4.0       0.77      0.09      0.17       247\n",
      "         5.0       0.99      0.95      0.97       243\n",
      "         6.0       0.95      1.00      0.97       249\n",
      "         7.0       1.00      1.00      1.00       553\n",
      "         8.0       1.00      0.99      0.99       242\n",
      "         9.0       0.54      1.00      0.70       245\n",
      "        10.0       1.00      1.00      1.00       249\n",
      "\n",
      "    accuracy                           0.90      2976\n",
      "   macro avg       0.91      0.89      0.87      2976\n",
      "weighted avg       0.92      0.90      0.88      2976\n",
      "\n"
     ]
    }
   ],
   "source": [
    "RandomForest_model = RandomForestClassifier().fit(train_X,train_Y)\n",
    "\n",
    "test_Y_hat = RandomForest_model.predict(test_X)\n",
    "\n",
    "print(accuracy_score(test_Y, test_Y_hat))\n",
    "print(precision_score(test_Y, test_Y_hat,average='micro'))\n",
    "print(recall_score(test_Y, test_Y_hat,average='micro'))\n",
    "print(f1_score(test_Y, test_Y_hat,average='micro'))\n",
    "print(classification_report(test_Y, test_Y_hat))"
   ]
  },
  {
   "cell_type": "markdown",
   "metadata": {},
   "source": [
    "普通方阵\n",
    "0.8780241935483871\n",
    "0.8780241935483871\n",
    "0.8780241935483871\n",
    "0.8780241935483871\n",
    "              precision    recall  f1-score   support\n",
    "\n",
    "         0.0       0.93      1.00      0.96       242\n",
    "         1.0       1.00      0.99      1.00       218\n",
    "         2.0       0.91      0.53      0.67       246\n",
    "         3.0       1.00      1.00      1.00       242\n",
    "         4.0       0.50      0.07      0.13       247\n",
    "         5.0       0.98      0.96      0.97       243\n",
    "         6.0       0.96      0.99      0.98       249\n",
    "         7.0       1.00      1.00      1.00       553\n",
    "         8.0       1.00      0.99      0.99       242\n",
    "         9.0       0.45      1.00      0.62       245\n",
    "        10.0       1.00      1.00      1.00       249\n",
    "\n",
    "    accuracy                           0.88      2976\n",
    "   macro avg       0.88      0.87      0.85      2976\n",
    "weighted avg       0.90      0.88      0.86      2976"
   ]
  },
  {
   "cell_type": "markdown",
   "metadata": {},
   "source": [
    "### KNN"
   ]
  },
  {
   "cell_type": "code",
   "execution_count": 13,
   "metadata": {},
   "outputs": [],
   "source": [
    "from sklearn.neighbors import KNeighborsClassifier\n",
    "from sklearn.model_selection import cross_val_score"
   ]
  },
  {
   "cell_type": "code",
   "execution_count": 14,
   "metadata": {},
   "outputs": [],
   "source": [
    "# ## 交叉验证选择合适的K值\n",
    "# k_range = range(1,32)\n",
    "# k_error = []\n",
    "# for k in k_range:\n",
    "#     print('第' + str(k) + '次检验')\n",
    "#     knn = KNeighborsClassifier(n_neighbors=k, metric=riemann_distance)\n",
    "#     scores = cross_val_score(knn, train_X, train_Y, cv = 6, scoring='accuracy')\n",
    "#     k_error.append(1-scores.mean())"
   ]
  },
  {
   "cell_type": "code",
   "execution_count": 15,
   "metadata": {},
   "outputs": [],
   "source": [
    "# k_error"
   ]
  },
  {
   "cell_type": "markdown",
   "metadata": {},
   "source": [
    "[0.03860534679379324,\n",
    " 0.040474855113105335,\n",
    " 0.03411852682744432,\n",
    " 0.03533370723499729,\n",
    " 0.03514675640306597,\n",
    " 0.03477285473920366,\n",
    " 0.035240231819031576,\n",
    " 0.03673583847448125,\n",
    " 0.03767059263413719,\n",
    " 0.03841839596186214,\n",
    " 0.038511871377827744,\n",
    " 0.03944662553748357,\n",
    " 0.03925967470555258,\n",
    " 0.039914002617311595,\n",
    " 0.03982052720134599,\n",
    " 0.039914002617311595,\n",
    " 0.03944662553748357,\n",
    " 0.03916619928958687,\n",
    " 0.03963357636941478,\n",
    " 0.03897924845765566,\n",
    " 0.03935315012151808,\n",
    " 0.03925967470555258,\n",
    " 0.03944662553748357,\n",
    " 0.03916619928958687,\n",
    " 0.03916619928958698,\n",
    " 0.03916619928958687,\n",
    " 0.039727051785380496,\n",
    " 0.03925967470555236,\n",
    " 0.03907272387362115,\n",
    " 0.03907272387362115,\n",
    " 0.03907272387362115,\n",
    " 0.038698822209758954,\n",
    " 0.03963357636941478,\n",
    " 0.03897924845765566,\n",
    " 0.0400074780332772,\n",
    " 0.039914002617311706,\n",
    " 0.0400074780332772,\n",
    " 0.040474855113105335,\n",
    " 0.04103570760889885,\n",
    " 0.04131613385679567,\n",
    " 0.04103570760889885,\n",
    " 0.04122265844083006,\n",
    " 0.040848756776967754,\n",
    " 0.04131613385679567,\n",
    " 0.04122265844083006,\n",
    " 0.04094223219293325,\n",
    " 0.04075528136100204,\n",
    " 0.040287904281174014,\n",
    " 0.04019442886520841,\n",
    " 0.04038137969713962,\n",
    " 0.04056833052907083,\n",
    " 0.04075528136100204,\n",
    " 0.04084875677696764,\n",
    " 0.040848756776967754,\n",
    " 0.040474855113105335,\n",
    " 0.040287904281174125,\n",
    " 0.040100953449242915,\n",
    " 0.04019442886520841,\n",
    " 0.03982052720134599,\n",
    " 0.0400074780332772,\n",
    " 0.03982052720134599,\n",
    " 0.04019442886520841,\n",
    " 0.039540100953449175]"
   ]
  },
  {
   "cell_type": "code",
   "execution_count": 16,
   "metadata": {},
   "outputs": [
    {
     "name": "stderr",
     "output_type": "stream",
     "text": [
      "/home/xuhao/miniconda3/envs/grdenv/lib/python3.7/site-packages/sklearn/neighbors/_classification.py:179: DataConversionWarning: A column-vector y was passed when a 1d array was expected. Please change the shape of y to (n_samples,), for example using ravel().\n",
      "  return self._fit(X, y)\n"
     ]
    }
   ],
   "source": [
    "knn_model = KNeighborsClassifier(n_neighbors=7).fit(train_X, train_Y)"
   ]
  },
  {
   "cell_type": "code",
   "execution_count": 17,
   "metadata": {},
   "outputs": [],
   "source": [
    "test_Y_hat = knn_model.predict(test_X)"
   ]
  },
  {
   "cell_type": "code",
   "execution_count": 18,
   "metadata": {},
   "outputs": [
    {
     "name": "stdout",
     "output_type": "stream",
     "text": [
      "0.8410618279569892\n",
      "0.8410618279569892\n",
      "0.8410618279569892\n",
      "0.8410618279569892\n",
      "              precision    recall  f1-score   support\n",
      "\n",
      "         0.0       0.97      0.99      0.98       242\n",
      "         1.0       0.70      0.98      0.82       218\n",
      "         2.0       0.90      0.81      0.85       246\n",
      "         3.0       0.33      0.05      0.09       242\n",
      "         4.0       0.82      0.90      0.86       247\n",
      "         5.0       0.51      0.98      0.67       243\n",
      "         6.0       0.98      0.99      0.99       249\n",
      "         7.0       1.00      0.76      0.87       553\n",
      "         8.0       0.97      0.90      0.94       242\n",
      "         9.0       1.00      0.97      0.98       245\n",
      "        10.0       0.89      1.00      0.94       249\n",
      "\n",
      "    accuracy                           0.84      2976\n",
      "   macro avg       0.82      0.85      0.82      2976\n",
      "weighted avg       0.84      0.84      0.82      2976\n",
      "\n"
     ]
    }
   ],
   "source": [
    "print(accuracy_score(test_Y, test_Y_hat))\n",
    "print(precision_score(test_Y, test_Y_hat,average='micro'))\n",
    "print(recall_score(test_Y, test_Y_hat,average='micro'))\n",
    "print(f1_score(test_Y, test_Y_hat,average='micro'))\n",
    "print(classification_report(test_Y, test_Y_hat))"
   ]
  },
  {
   "cell_type": "markdown",
   "metadata": {},
   "source": [
    "### 普通knn 普通方阵\n",
    "0.8464381720430108\n",
    "0.8464381720430108\n",
    "0.8464381720430108\n",
    "0.8464381720430108\n",
    "              precision    recall  f1-score   support\n",
    "\n",
    "         0.0       0.97      0.99      0.98       242\n",
    "         1.0       0.70      0.98      0.82       218\n",
    "         2.0       0.93      0.81      0.87       246\n",
    "         3.0       0.29      0.05      0.09       242\n",
    "         4.0       0.82      0.93      0.87       247\n",
    "         5.0       0.51      0.98      0.67       243\n",
    "         6.0       0.98      0.99      0.99       249\n",
    "         7.0       1.00      0.78      0.88       553\n",
    "         8.0       0.97      0.90      0.94       242\n",
    "         9.0       0.99      0.97      0.98       245\n",
    "        10.0       0.94      1.00      0.97       249\n",
    "\n",
    "    accuracy                           0.85      2976\n",
    "   macro avg       0.83      0.85      0.82      2976\n",
    "weighted avg       0.85      0.85      0.83      2976\n"
   ]
  },
  {
   "cell_type": "markdown",
   "metadata": {},
   "source": [
    "### 逻辑回归"
   ]
  },
  {
   "cell_type": "code",
   "execution_count": 19,
   "metadata": {},
   "outputs": [
    {
     "name": "stderr",
     "output_type": "stream",
     "text": [
      "/home/xuhao/miniconda3/envs/grdenv/lib/python3.7/site-packages/sklearn/utils/validation.py:63: DataConversionWarning: A column-vector y was passed when a 1d array was expected. Please change the shape of y to (n_samples, ), for example using ravel().\n",
      "  return f(*args, **kwargs)\n"
     ]
    },
    {
     "name": "stdout",
     "output_type": "stream",
     "text": [
      "0.34106182795698925\n",
      "0.34106182795698925\n",
      "0.34106182795698925\n",
      "0.34106182795698925\n",
      "              precision    recall  f1-score   support\n",
      "\n",
      "         0.0       0.00      0.00      0.00       242\n",
      "         1.0       0.43      1.00      0.61       218\n",
      "         2.0       0.00      0.00      0.00       246\n",
      "         3.0       0.00      0.00      0.00       242\n",
      "         4.0       0.00      0.00      0.00       247\n",
      "         5.0       0.00      0.00      0.00       243\n",
      "         6.0       0.00      0.00      0.00       249\n",
      "         7.0       0.29      0.99      0.45       553\n",
      "         8.0       0.00      0.00      0.00       242\n",
      "         9.0       0.60      0.01      0.02       245\n",
      "        10.0       0.40      1.00      0.58       249\n",
      "\n",
      "    accuracy                           0.34      2976\n",
      "   macro avg       0.16      0.27      0.15      2976\n",
      "weighted avg       0.17      0.34      0.18      2976\n",
      "\n"
     ]
    },
    {
     "name": "stderr",
     "output_type": "stream",
     "text": [
      "/home/xuhao/miniconda3/envs/grdenv/lib/python3.7/site-packages/sklearn/linear_model/_logistic.py:765: ConvergenceWarning: lbfgs failed to converge (status=1):\n",
      "STOP: TOTAL NO. of ITERATIONS REACHED LIMIT.\n",
      "\n",
      "Increase the number of iterations (max_iter) or scale the data as shown in:\n",
      "    https://scikit-learn.org/stable/modules/preprocessing.html\n",
      "Please also refer to the documentation for alternative solver options:\n",
      "    https://scikit-learn.org/stable/modules/linear_model.html#logistic-regression\n",
      "  extra_warning_msg=_LOGISTIC_SOLVER_CONVERGENCE_MSG)\n",
      "/home/xuhao/miniconda3/envs/grdenv/lib/python3.7/site-packages/sklearn/metrics/_classification.py:1245: UndefinedMetricWarning: Precision and F-score are ill-defined and being set to 0.0 in labels with no predicted samples. Use `zero_division` parameter to control this behavior.\n",
      "  _warn_prf(average, modifier, msg_start, len(result))\n",
      "/home/xuhao/miniconda3/envs/grdenv/lib/python3.7/site-packages/sklearn/metrics/_classification.py:1245: UndefinedMetricWarning: Precision and F-score are ill-defined and being set to 0.0 in labels with no predicted samples. Use `zero_division` parameter to control this behavior.\n",
      "  _warn_prf(average, modifier, msg_start, len(result))\n",
      "/home/xuhao/miniconda3/envs/grdenv/lib/python3.7/site-packages/sklearn/metrics/_classification.py:1245: UndefinedMetricWarning: Precision and F-score are ill-defined and being set to 0.0 in labels with no predicted samples. Use `zero_division` parameter to control this behavior.\n",
      "  _warn_prf(average, modifier, msg_start, len(result))\n"
     ]
    }
   ],
   "source": [
    "from sklearn.linear_model import LogisticRegression\n",
    "lr_model = LogisticRegression(penalty='l2').fit(train_X, train_Y)\n",
    "test_Y_hat = lr_model.predict(test_X)\n",
    "print(accuracy_score(test_Y, test_Y_hat))\n",
    "print(precision_score(test_Y, test_Y_hat,average='micro'))\n",
    "print(recall_score(test_Y, test_Y_hat,average='micro'))\n",
    "print(f1_score(test_Y, test_Y_hat,average='micro'))\n",
    "print(classification_report(test_Y, test_Y_hat))"
   ]
  },
  {
   "cell_type": "markdown",
   "metadata": {},
   "source": [
    "### GBDT"
   ]
  },
  {
   "cell_type": "code",
   "execution_count": 20,
   "metadata": {},
   "outputs": [
    {
     "name": "stderr",
     "output_type": "stream",
     "text": [
      "/home/xuhao/miniconda3/envs/grdenv/lib/python3.7/site-packages/sklearn/utils/validation.py:63: DataConversionWarning: A column-vector y was passed when a 1d array was expected. Please change the shape of y to (n_samples, ), for example using ravel().\n",
      "  return f(*args, **kwargs)\n"
     ]
    },
    {
     "name": "stdout",
     "output_type": "stream",
     "text": [
      "0.8672715053763441\n",
      "0.8672715053763441\n",
      "0.8672715053763441\n",
      "0.867271505376344\n",
      "              precision    recall  f1-score   support\n",
      "\n",
      "         0.0       0.99      1.00      0.99       242\n",
      "         1.0       1.00      1.00      1.00       218\n",
      "         2.0       0.96      0.60      0.74       246\n",
      "         3.0       1.00      0.76      0.87       242\n",
      "         4.0       0.71      0.10      0.17       247\n",
      "         5.0       1.00      0.99      0.99       243\n",
      "         6.0       0.99      0.99      0.99       249\n",
      "         7.0       1.00      0.99      0.99       553\n",
      "         8.0       0.98      1.00      0.99       242\n",
      "         9.0       0.40      1.00      0.57       245\n",
      "        10.0       1.00      1.00      1.00       249\n",
      "\n",
      "    accuracy                           0.87      2976\n",
      "   macro avg       0.91      0.86      0.85      2976\n",
      "weighted avg       0.92      0.87      0.86      2976\n",
      "\n"
     ]
    }
   ],
   "source": [
    "from sklearn.ensemble import GradientBoostingClassifier\n",
    "\n",
    "GBDT_model = GradientBoostingClassifier(n_estimators=200).fit(train_X, train_Y)\n",
    "test_Y_hat = GBDT_model.predict(test_X)\n",
    "\n",
    "print(accuracy_score(test_Y, test_Y_hat))\n",
    "print(precision_score(test_Y, test_Y_hat,average='micro'))\n",
    "print(recall_score(test_Y, test_Y_hat,average='micro'))\n",
    "print(f1_score(test_Y, test_Y_hat,average='micro'))\n",
    "print(classification_report(test_Y, test_Y_hat))"
   ]
  },
  {
   "cell_type": "markdown",
   "metadata": {},
   "source": [
    "### SVM"
   ]
  },
  {
   "cell_type": "code",
   "execution_count": 21,
   "metadata": {},
   "outputs": [
    {
     "name": "stderr",
     "output_type": "stream",
     "text": [
      "/home/xuhao/miniconda3/envs/grdenv/lib/python3.7/site-packages/sklearn/utils/validation.py:63: DataConversionWarning: A column-vector y was passed when a 1d array was expected. Please change the shape of y to (n_samples, ), for example using ravel().\n",
      "  return f(*args, **kwargs)\n"
     ]
    },
    {
     "name": "stdout",
     "output_type": "stream",
     "text": [
      "0.938508064516129\n",
      "0.938508064516129\n",
      "0.938508064516129\n",
      "0.938508064516129\n",
      "              precision    recall  f1-score   support\n",
      "\n",
      "         0.0       0.93      1.00      0.97       242\n",
      "         1.0       0.83      0.96      0.89       218\n",
      "         2.0       0.78      0.96      0.86       246\n",
      "         3.0       0.93      1.00      0.96       242\n",
      "         4.0       0.84      0.74      0.78       247\n",
      "         5.0       1.00      1.00      1.00       243\n",
      "         6.0       1.00      1.00      1.00       249\n",
      "         7.0       1.00      0.84      0.91       553\n",
      "         8.0       1.00      1.00      1.00       242\n",
      "         9.0       1.00      0.97      0.98       245\n",
      "        10.0       0.99      1.00      1.00       249\n",
      "\n",
      "    accuracy                           0.94      2976\n",
      "   macro avg       0.94      0.95      0.94      2976\n",
      "weighted avg       0.94      0.94      0.94      2976\n",
      "\n"
     ]
    }
   ],
   "source": [
    "from sklearn.svm import SVC\n",
    "svm_model = SVC(kernel='linear', C = 1.0, random_state=1).fit(train_X, train_Y)\n",
    "\n",
    "test_Y_hat = svm_model.predict(test_X)\n",
    "\n",
    "print(accuracy_score(test_Y, test_Y_hat))\n",
    "print(precision_score(test_Y, test_Y_hat,average='micro'))\n",
    "print(recall_score(test_Y, test_Y_hat,average='micro'))\n",
    "print(f1_score(test_Y, test_Y_hat,average='micro'))\n",
    "print(classification_report(test_Y, test_Y_hat))"
   ]
  },
  {
   "cell_type": "markdown",
   "metadata": {},
   "source": [
    "### AdaBoost"
   ]
  },
  {
   "cell_type": "code",
   "execution_count": 22,
   "metadata": {},
   "outputs": [
    {
     "name": "stderr",
     "output_type": "stream",
     "text": [
      "/home/xuhao/miniconda3/envs/grdenv/lib/python3.7/site-packages/sklearn/utils/validation.py:63: DataConversionWarning: A column-vector y was passed when a 1d array was expected. Please change the shape of y to (n_samples, ), for example using ravel().\n",
      "  return f(*args, **kwargs)\n"
     ]
    },
    {
     "name": "stdout",
     "output_type": "stream",
     "text": [
      "0.4230510752688172\n",
      "0.4230510752688172\n",
      "0.4230510752688172\n",
      "0.42305107526881724\n",
      "              precision    recall  f1-score   support\n",
      "\n",
      "         0.0       0.00      0.00      0.00       242\n",
      "         1.0       1.00      1.00      1.00       218\n",
      "         2.0       0.00      0.00      0.00       246\n",
      "         3.0       0.00      0.00      0.00       242\n",
      "         4.0       0.00      0.00      0.00       247\n",
      "         5.0       0.00      0.00      0.00       243\n",
      "         6.0       0.13      1.00      0.23       249\n",
      "         7.0       1.00      0.98      0.99       553\n",
      "         8.0       0.00      0.00      0.00       242\n",
      "         9.0       0.00      0.00      0.00       245\n",
      "        10.0       1.00      1.00      1.00       249\n",
      "\n",
      "    accuracy                           0.42      2976\n",
      "   macro avg       0.28      0.36      0.29      2976\n",
      "weighted avg       0.35      0.42      0.36      2976\n",
      "\n"
     ]
    },
    {
     "name": "stderr",
     "output_type": "stream",
     "text": [
      "/home/xuhao/miniconda3/envs/grdenv/lib/python3.7/site-packages/sklearn/metrics/_classification.py:1245: UndefinedMetricWarning: Precision and F-score are ill-defined and being set to 0.0 in labels with no predicted samples. Use `zero_division` parameter to control this behavior.\n",
      "  _warn_prf(average, modifier, msg_start, len(result))\n",
      "/home/xuhao/miniconda3/envs/grdenv/lib/python3.7/site-packages/sklearn/metrics/_classification.py:1245: UndefinedMetricWarning: Precision and F-score are ill-defined and being set to 0.0 in labels with no predicted samples. Use `zero_division` parameter to control this behavior.\n",
      "  _warn_prf(average, modifier, msg_start, len(result))\n",
      "/home/xuhao/miniconda3/envs/grdenv/lib/python3.7/site-packages/sklearn/metrics/_classification.py:1245: UndefinedMetricWarning: Precision and F-score are ill-defined and being set to 0.0 in labels with no predicted samples. Use `zero_division` parameter to control this behavior.\n",
      "  _warn_prf(average, modifier, msg_start, len(result))\n"
     ]
    }
   ],
   "source": [
    "from sklearn.ensemble import AdaBoostClassifier\n",
    "\n",
    "AdaBoost_model = AdaBoostClassifier().fit(train_X, train_Y)\n",
    "test_Y_hat = AdaBoost_model.predict(test_X)\n",
    "\n",
    "print(accuracy_score(test_Y, test_Y_hat))\n",
    "print(precision_score(test_Y, test_Y_hat,average='micro'))\n",
    "print(recall_score(test_Y, test_Y_hat,average='micro'))\n",
    "print(f1_score(test_Y, test_Y_hat,average='micro'))\n",
    "print(classification_report(test_Y, test_Y_hat))"
   ]
  },
  {
   "cell_type": "markdown",
   "metadata": {},
   "source": [
    "### 决策树"
   ]
  },
  {
   "cell_type": "code",
   "execution_count": 23,
   "metadata": {},
   "outputs": [
    {
     "name": "stdout",
     "output_type": "stream",
     "text": [
      "0.8182123655913979\n",
      "0.8182123655913979\n",
      "0.8182123655913979\n",
      "0.8182123655913978\n",
      "              precision    recall  f1-score   support\n",
      "\n",
      "         0.0       0.98      1.00      0.99       242\n",
      "         1.0       1.00      0.99      1.00       218\n",
      "         2.0       0.00      0.00      0.00       246\n",
      "         3.0       1.00      1.00      1.00       242\n",
      "         4.0       0.00      0.00      0.00       247\n",
      "         5.0       0.97      0.96      0.96       243\n",
      "         6.0       0.84      0.95      0.89       249\n",
      "         7.0       1.00      0.97      0.98       553\n",
      "         8.0       0.87      0.99      0.93       242\n",
      "         9.0       0.35      0.99      0.52       245\n",
      "        10.0       1.00      1.00      1.00       249\n",
      "\n",
      "    accuracy                           0.82      2976\n",
      "   macro avg       0.73      0.80      0.75      2976\n",
      "weighted avg       0.75      0.82      0.77      2976\n",
      "\n"
     ]
    }
   ],
   "source": [
    "from sklearn.tree import DecisionTreeClassifier\n",
    "\n",
    "DecisionTree_model = DecisionTreeClassifier(random_state=3).fit(train_X, train_Y)\n",
    "test_Y_hat = DecisionTree_model.predict(test_X)\n",
    "\n",
    "print(accuracy_score(test_Y, test_Y_hat))\n",
    "print(precision_score(test_Y, test_Y_hat,average='micro'))\n",
    "print(recall_score(test_Y, test_Y_hat,average='micro'))\n",
    "print(f1_score(test_Y, test_Y_hat,average='micro'))\n",
    "print(classification_report(test_Y, test_Y_hat))"
   ]
  },
  {
   "cell_type": "markdown",
   "metadata": {},
   "source": [
    "### 黎曼度量 KNN"
   ]
  },
  {
   "cell_type": "code",
   "execution_count": 24,
   "metadata": {
    "scrolled": true
   },
   "outputs": [
    {
     "name": "stderr",
     "output_type": "stream",
     "text": [
      "/home/xuhao/miniconda3/envs/grdenv/lib/python3.7/site-packages/sklearn/neighbors/_classification.py:179: DataConversionWarning: A column-vector y was passed when a 1d array was expected. Please change the shape of y to (n_samples,), for example using ravel().\n",
      "  return self._fit(X, y)\n"
     ]
    }
   ],
   "source": [
    "knn_model = KNeighborsClassifier(n_neighbors=7, metric=riemann_distance).fit(train_X, train_Y)"
   ]
  },
  {
   "cell_type": "code",
   "execution_count": 25,
   "metadata": {},
   "outputs": [
    {
     "ename": "ValueError",
     "evalue": "cannot reshape array of size 351 into shape (26,26)",
     "output_type": "error",
     "traceback": [
      "\u001b[0;31m---------------------------------------------------------------------------\u001b[0m",
      "\u001b[0;31mValueError\u001b[0m                                Traceback (most recent call last)",
      "\u001b[0;32m<ipython-input-25-14c54fe9aaab>\u001b[0m in \u001b[0;36m<module>\u001b[0;34m\u001b[0m\n\u001b[0;32m----> 1\u001b[0;31m \u001b[0mtest_spd_Y_hat\u001b[0m \u001b[0;34m=\u001b[0m \u001b[0mknn_model\u001b[0m\u001b[0;34m.\u001b[0m\u001b[0mpredict\u001b[0m\u001b[0;34m(\u001b[0m\u001b[0mtest_X\u001b[0m\u001b[0;34m)\u001b[0m\u001b[0;34m\u001b[0m\u001b[0;34m\u001b[0m\u001b[0m\n\u001b[0m",
      "\u001b[0;32m~/miniconda3/envs/grdenv/lib/python3.7/site-packages/sklearn/neighbors/_classification.py\u001b[0m in \u001b[0;36mpredict\u001b[0;34m(self, X)\u001b[0m\n\u001b[1;32m    195\u001b[0m         \u001b[0mX\u001b[0m \u001b[0;34m=\u001b[0m \u001b[0mcheck_array\u001b[0m\u001b[0;34m(\u001b[0m\u001b[0mX\u001b[0m\u001b[0;34m,\u001b[0m \u001b[0maccept_sparse\u001b[0m\u001b[0;34m=\u001b[0m\u001b[0;34m'csr'\u001b[0m\u001b[0;34m)\u001b[0m\u001b[0;34m\u001b[0m\u001b[0;34m\u001b[0m\u001b[0m\n\u001b[1;32m    196\u001b[0m \u001b[0;34m\u001b[0m\u001b[0m\n\u001b[0;32m--> 197\u001b[0;31m         \u001b[0mneigh_dist\u001b[0m\u001b[0;34m,\u001b[0m \u001b[0mneigh_ind\u001b[0m \u001b[0;34m=\u001b[0m \u001b[0mself\u001b[0m\u001b[0;34m.\u001b[0m\u001b[0mkneighbors\u001b[0m\u001b[0;34m(\u001b[0m\u001b[0mX\u001b[0m\u001b[0;34m)\u001b[0m\u001b[0;34m\u001b[0m\u001b[0;34m\u001b[0m\u001b[0m\n\u001b[0m\u001b[1;32m    198\u001b[0m         \u001b[0mclasses_\u001b[0m \u001b[0;34m=\u001b[0m \u001b[0mself\u001b[0m\u001b[0;34m.\u001b[0m\u001b[0mclasses_\u001b[0m\u001b[0;34m\u001b[0m\u001b[0;34m\u001b[0m\u001b[0m\n\u001b[1;32m    199\u001b[0m         \u001b[0m_y\u001b[0m \u001b[0;34m=\u001b[0m \u001b[0mself\u001b[0m\u001b[0;34m.\u001b[0m\u001b[0m_y\u001b[0m\u001b[0;34m\u001b[0m\u001b[0;34m\u001b[0m\u001b[0m\n",
      "\u001b[0;32m~/miniconda3/envs/grdenv/lib/python3.7/site-packages/sklearn/neighbors/_base.py\u001b[0m in \u001b[0;36mkneighbors\u001b[0;34m(self, X, n_neighbors, return_distance)\u001b[0m\n\u001b[1;32m    706\u001b[0m                 \u001b[0mX\u001b[0m\u001b[0;34m,\u001b[0m \u001b[0mself\u001b[0m\u001b[0;34m.\u001b[0m\u001b[0m_fit_X\u001b[0m\u001b[0;34m,\u001b[0m \u001b[0mreduce_func\u001b[0m\u001b[0;34m=\u001b[0m\u001b[0mreduce_func\u001b[0m\u001b[0;34m,\u001b[0m\u001b[0;34m\u001b[0m\u001b[0;34m\u001b[0m\u001b[0m\n\u001b[1;32m    707\u001b[0m                 \u001b[0mmetric\u001b[0m\u001b[0;34m=\u001b[0m\u001b[0mself\u001b[0m\u001b[0;34m.\u001b[0m\u001b[0meffective_metric_\u001b[0m\u001b[0;34m,\u001b[0m \u001b[0mn_jobs\u001b[0m\u001b[0;34m=\u001b[0m\u001b[0mn_jobs\u001b[0m\u001b[0;34m,\u001b[0m\u001b[0;34m\u001b[0m\u001b[0;34m\u001b[0m\u001b[0m\n\u001b[0;32m--> 708\u001b[0;31m                 **kwds))\n\u001b[0m\u001b[1;32m    709\u001b[0m \u001b[0;34m\u001b[0m\u001b[0m\n\u001b[1;32m    710\u001b[0m         \u001b[0;32melif\u001b[0m \u001b[0mself\u001b[0m\u001b[0;34m.\u001b[0m\u001b[0m_fit_method\u001b[0m \u001b[0;32min\u001b[0m \u001b[0;34m[\u001b[0m\u001b[0;34m'ball_tree'\u001b[0m\u001b[0;34m,\u001b[0m \u001b[0;34m'kd_tree'\u001b[0m\u001b[0;34m]\u001b[0m\u001b[0;34m:\u001b[0m\u001b[0;34m\u001b[0m\u001b[0;34m\u001b[0m\u001b[0m\n",
      "\u001b[0;32m~/miniconda3/envs/grdenv/lib/python3.7/site-packages/sklearn/metrics/pairwise.py\u001b[0m in \u001b[0;36mpairwise_distances_chunked\u001b[0;34m(X, Y, reduce_func, metric, n_jobs, working_memory, **kwds)\u001b[0m\n\u001b[1;32m   1622\u001b[0m             \u001b[0mX_chunk\u001b[0m \u001b[0;34m=\u001b[0m \u001b[0mX\u001b[0m\u001b[0;34m[\u001b[0m\u001b[0msl\u001b[0m\u001b[0;34m]\u001b[0m\u001b[0;34m\u001b[0m\u001b[0;34m\u001b[0m\u001b[0m\n\u001b[1;32m   1623\u001b[0m         D_chunk = pairwise_distances(X_chunk, Y, metric=metric,\n\u001b[0;32m-> 1624\u001b[0;31m                                      n_jobs=n_jobs, **kwds)\n\u001b[0m\u001b[1;32m   1625\u001b[0m         if ((X is Y or Y is None)\n\u001b[1;32m   1626\u001b[0m                 \u001b[0;32mand\u001b[0m \u001b[0mPAIRWISE_DISTANCE_FUNCTIONS\u001b[0m\u001b[0;34m.\u001b[0m\u001b[0mget\u001b[0m\u001b[0;34m(\u001b[0m\u001b[0mmetric\u001b[0m\u001b[0;34m,\u001b[0m \u001b[0;32mNone\u001b[0m\u001b[0;34m)\u001b[0m\u001b[0;34m\u001b[0m\u001b[0;34m\u001b[0m\u001b[0m\n",
      "\u001b[0;32m~/miniconda3/envs/grdenv/lib/python3.7/site-packages/sklearn/utils/validation.py\u001b[0m in \u001b[0;36minner_f\u001b[0;34m(*args, **kwargs)\u001b[0m\n\u001b[1;32m     61\u001b[0m             \u001b[0mextra_args\u001b[0m \u001b[0;34m=\u001b[0m \u001b[0mlen\u001b[0m\u001b[0;34m(\u001b[0m\u001b[0margs\u001b[0m\u001b[0;34m)\u001b[0m \u001b[0;34m-\u001b[0m \u001b[0mlen\u001b[0m\u001b[0;34m(\u001b[0m\u001b[0mall_args\u001b[0m\u001b[0;34m)\u001b[0m\u001b[0;34m\u001b[0m\u001b[0;34m\u001b[0m\u001b[0m\n\u001b[1;32m     62\u001b[0m             \u001b[0;32mif\u001b[0m \u001b[0mextra_args\u001b[0m \u001b[0;34m<=\u001b[0m \u001b[0;36m0\u001b[0m\u001b[0;34m:\u001b[0m\u001b[0;34m\u001b[0m\u001b[0;34m\u001b[0m\u001b[0m\n\u001b[0;32m---> 63\u001b[0;31m                 \u001b[0;32mreturn\u001b[0m \u001b[0mf\u001b[0m\u001b[0;34m(\u001b[0m\u001b[0;34m*\u001b[0m\u001b[0margs\u001b[0m\u001b[0;34m,\u001b[0m \u001b[0;34m**\u001b[0m\u001b[0mkwargs\u001b[0m\u001b[0;34m)\u001b[0m\u001b[0;34m\u001b[0m\u001b[0;34m\u001b[0m\u001b[0m\n\u001b[0m\u001b[1;32m     64\u001b[0m \u001b[0;34m\u001b[0m\u001b[0m\n\u001b[1;32m     65\u001b[0m             \u001b[0;31m# extra_args > 0\u001b[0m\u001b[0;34m\u001b[0m\u001b[0;34m\u001b[0m\u001b[0;34m\u001b[0m\u001b[0m\n",
      "\u001b[0;32m~/miniconda3/envs/grdenv/lib/python3.7/site-packages/sklearn/metrics/pairwise.py\u001b[0m in \u001b[0;36mpairwise_distances\u001b[0;34m(X, Y, metric, n_jobs, force_all_finite, **kwds)\u001b[0m\n\u001b[1;32m   1788\u001b[0m         \u001b[0mfunc\u001b[0m \u001b[0;34m=\u001b[0m \u001b[0mpartial\u001b[0m\u001b[0;34m(\u001b[0m\u001b[0mdistance\u001b[0m\u001b[0;34m.\u001b[0m\u001b[0mcdist\u001b[0m\u001b[0;34m,\u001b[0m \u001b[0mmetric\u001b[0m\u001b[0;34m=\u001b[0m\u001b[0mmetric\u001b[0m\u001b[0;34m,\u001b[0m \u001b[0;34m**\u001b[0m\u001b[0mkwds\u001b[0m\u001b[0;34m)\u001b[0m\u001b[0;34m\u001b[0m\u001b[0;34m\u001b[0m\u001b[0m\n\u001b[1;32m   1789\u001b[0m \u001b[0;34m\u001b[0m\u001b[0m\n\u001b[0;32m-> 1790\u001b[0;31m     \u001b[0;32mreturn\u001b[0m \u001b[0m_parallel_pairwise\u001b[0m\u001b[0;34m(\u001b[0m\u001b[0mX\u001b[0m\u001b[0;34m,\u001b[0m \u001b[0mY\u001b[0m\u001b[0;34m,\u001b[0m \u001b[0mfunc\u001b[0m\u001b[0;34m,\u001b[0m \u001b[0mn_jobs\u001b[0m\u001b[0;34m,\u001b[0m \u001b[0;34m**\u001b[0m\u001b[0mkwds\u001b[0m\u001b[0;34m)\u001b[0m\u001b[0;34m\u001b[0m\u001b[0;34m\u001b[0m\u001b[0m\n\u001b[0m\u001b[1;32m   1791\u001b[0m \u001b[0;34m\u001b[0m\u001b[0m\n\u001b[1;32m   1792\u001b[0m \u001b[0;34m\u001b[0m\u001b[0m\n",
      "\u001b[0;32m~/miniconda3/envs/grdenv/lib/python3.7/site-packages/sklearn/metrics/pairwise.py\u001b[0m in \u001b[0;36m_parallel_pairwise\u001b[0;34m(X, Y, func, n_jobs, **kwds)\u001b[0m\n\u001b[1;32m   1357\u001b[0m \u001b[0;34m\u001b[0m\u001b[0m\n\u001b[1;32m   1358\u001b[0m     \u001b[0;32mif\u001b[0m \u001b[0meffective_n_jobs\u001b[0m\u001b[0;34m(\u001b[0m\u001b[0mn_jobs\u001b[0m\u001b[0;34m)\u001b[0m \u001b[0;34m==\u001b[0m \u001b[0;36m1\u001b[0m\u001b[0;34m:\u001b[0m\u001b[0;34m\u001b[0m\u001b[0;34m\u001b[0m\u001b[0m\n\u001b[0;32m-> 1359\u001b[0;31m         \u001b[0;32mreturn\u001b[0m \u001b[0mfunc\u001b[0m\u001b[0;34m(\u001b[0m\u001b[0mX\u001b[0m\u001b[0;34m,\u001b[0m \u001b[0mY\u001b[0m\u001b[0;34m,\u001b[0m \u001b[0;34m**\u001b[0m\u001b[0mkwds\u001b[0m\u001b[0;34m)\u001b[0m\u001b[0;34m\u001b[0m\u001b[0;34m\u001b[0m\u001b[0m\n\u001b[0m\u001b[1;32m   1360\u001b[0m \u001b[0;34m\u001b[0m\u001b[0m\n\u001b[1;32m   1361\u001b[0m     \u001b[0;31m# enforce a threading backend to prevent data communication overhead\u001b[0m\u001b[0;34m\u001b[0m\u001b[0;34m\u001b[0m\u001b[0;34m\u001b[0m\u001b[0m\n",
      "\u001b[0;32m~/miniconda3/envs/grdenv/lib/python3.7/site-packages/sklearn/metrics/pairwise.py\u001b[0m in \u001b[0;36m_pairwise_callable\u001b[0;34m(X, Y, metric, force_all_finite, **kwds)\u001b[0m\n\u001b[1;32m   1401\u001b[0m         \u001b[0miterator\u001b[0m \u001b[0;34m=\u001b[0m \u001b[0mitertools\u001b[0m\u001b[0;34m.\u001b[0m\u001b[0mproduct\u001b[0m\u001b[0;34m(\u001b[0m\u001b[0mrange\u001b[0m\u001b[0;34m(\u001b[0m\u001b[0mX\u001b[0m\u001b[0;34m.\u001b[0m\u001b[0mshape\u001b[0m\u001b[0;34m[\u001b[0m\u001b[0;36m0\u001b[0m\u001b[0;34m]\u001b[0m\u001b[0;34m)\u001b[0m\u001b[0;34m,\u001b[0m \u001b[0mrange\u001b[0m\u001b[0;34m(\u001b[0m\u001b[0mY\u001b[0m\u001b[0;34m.\u001b[0m\u001b[0mshape\u001b[0m\u001b[0;34m[\u001b[0m\u001b[0;36m0\u001b[0m\u001b[0;34m]\u001b[0m\u001b[0;34m)\u001b[0m\u001b[0;34m)\u001b[0m\u001b[0;34m\u001b[0m\u001b[0;34m\u001b[0m\u001b[0m\n\u001b[1;32m   1402\u001b[0m         \u001b[0;32mfor\u001b[0m \u001b[0mi\u001b[0m\u001b[0;34m,\u001b[0m \u001b[0mj\u001b[0m \u001b[0;32min\u001b[0m \u001b[0miterator\u001b[0m\u001b[0;34m:\u001b[0m\u001b[0;34m\u001b[0m\u001b[0;34m\u001b[0m\u001b[0m\n\u001b[0;32m-> 1403\u001b[0;31m             \u001b[0mout\u001b[0m\u001b[0;34m[\u001b[0m\u001b[0mi\u001b[0m\u001b[0;34m,\u001b[0m \u001b[0mj\u001b[0m\u001b[0;34m]\u001b[0m \u001b[0;34m=\u001b[0m \u001b[0mmetric\u001b[0m\u001b[0;34m(\u001b[0m\u001b[0mX\u001b[0m\u001b[0;34m[\u001b[0m\u001b[0mi\u001b[0m\u001b[0;34m]\u001b[0m\u001b[0;34m,\u001b[0m \u001b[0mY\u001b[0m\u001b[0;34m[\u001b[0m\u001b[0mj\u001b[0m\u001b[0;34m]\u001b[0m\u001b[0;34m,\u001b[0m \u001b[0;34m**\u001b[0m\u001b[0mkwds\u001b[0m\u001b[0;34m)\u001b[0m\u001b[0;34m\u001b[0m\u001b[0;34m\u001b[0m\u001b[0m\n\u001b[0m\u001b[1;32m   1404\u001b[0m \u001b[0;34m\u001b[0m\u001b[0m\n\u001b[1;32m   1405\u001b[0m     \u001b[0;32mreturn\u001b[0m \u001b[0mout\u001b[0m\u001b[0;34m\u001b[0m\u001b[0;34m\u001b[0m\u001b[0m\n",
      "\u001b[0;32m<ipython-input-2-6a87a0ed917a>\u001b[0m in \u001b[0;36mriemann_distance\u001b[0;34m(X, Y)\u001b[0m\n\u001b[1;32m      1\u001b[0m \u001b[0;31m## 计算黎曼距离\u001b[0m\u001b[0;34m\u001b[0m\u001b[0;34m\u001b[0m\u001b[0;34m\u001b[0m\u001b[0m\n\u001b[1;32m      2\u001b[0m \u001b[0;32mdef\u001b[0m \u001b[0mriemann_distance\u001b[0m\u001b[0;34m(\u001b[0m\u001b[0mX\u001b[0m\u001b[0;34m,\u001b[0m\u001b[0mY\u001b[0m\u001b[0;34m)\u001b[0m\u001b[0;34m:\u001b[0m\u001b[0;34m\u001b[0m\u001b[0;34m\u001b[0m\u001b[0m\n\u001b[0;32m----> 3\u001b[0;31m     \u001b[0mX\u001b[0m \u001b[0;34m=\u001b[0m \u001b[0mnp\u001b[0m\u001b[0;34m.\u001b[0m\u001b[0mreshape\u001b[0m\u001b[0;34m(\u001b[0m\u001b[0mX\u001b[0m\u001b[0;34m,\u001b[0m\u001b[0;34m(\u001b[0m\u001b[0;36m26\u001b[0m\u001b[0;34m,\u001b[0m\u001b[0;36m26\u001b[0m\u001b[0;34m)\u001b[0m\u001b[0;34m)\u001b[0m\u001b[0;34m\u001b[0m\u001b[0;34m\u001b[0m\u001b[0m\n\u001b[0m\u001b[1;32m      4\u001b[0m     \u001b[0mY\u001b[0m \u001b[0;34m=\u001b[0m \u001b[0mnp\u001b[0m\u001b[0;34m.\u001b[0m\u001b[0mreshape\u001b[0m\u001b[0;34m(\u001b[0m\u001b[0mY\u001b[0m\u001b[0;34m,\u001b[0m\u001b[0;34m(\u001b[0m\u001b[0;36m26\u001b[0m\u001b[0;34m,\u001b[0m\u001b[0;36m26\u001b[0m\u001b[0;34m)\u001b[0m\u001b[0;34m)\u001b[0m\u001b[0;34m\u001b[0m\u001b[0;34m\u001b[0m\u001b[0m\n\u001b[1;32m      5\u001b[0m     \u001b[0mgtype\u001b[0m \u001b[0;34m=\u001b[0m \u001b[0;34m'L'\u001b[0m\u001b[0;34m\u001b[0m\u001b[0;34m\u001b[0m\u001b[0m\n",
      "\u001b[0;32m<__array_function__ internals>\u001b[0m in \u001b[0;36mreshape\u001b[0;34m(*args, **kwargs)\u001b[0m\n",
      "\u001b[0;32m~/miniconda3/envs/grdenv/lib/python3.7/site-packages/numpy/core/fromnumeric.py\u001b[0m in \u001b[0;36mreshape\u001b[0;34m(a, newshape, order)\u001b[0m\n\u001b[1;32m    297\u001b[0m            [5, 6]])\n\u001b[1;32m    298\u001b[0m     \"\"\"\n\u001b[0;32m--> 299\u001b[0;31m     \u001b[0;32mreturn\u001b[0m \u001b[0m_wrapfunc\u001b[0m\u001b[0;34m(\u001b[0m\u001b[0ma\u001b[0m\u001b[0;34m,\u001b[0m \u001b[0;34m'reshape'\u001b[0m\u001b[0;34m,\u001b[0m \u001b[0mnewshape\u001b[0m\u001b[0;34m,\u001b[0m \u001b[0morder\u001b[0m\u001b[0;34m=\u001b[0m\u001b[0morder\u001b[0m\u001b[0;34m)\u001b[0m\u001b[0;34m\u001b[0m\u001b[0;34m\u001b[0m\u001b[0m\n\u001b[0m\u001b[1;32m    300\u001b[0m \u001b[0;34m\u001b[0m\u001b[0m\n\u001b[1;32m    301\u001b[0m \u001b[0;34m\u001b[0m\u001b[0m\n",
      "\u001b[0;32m~/miniconda3/envs/grdenv/lib/python3.7/site-packages/numpy/core/fromnumeric.py\u001b[0m in \u001b[0;36m_wrapfunc\u001b[0;34m(obj, method, *args, **kwds)\u001b[0m\n\u001b[1;32m     56\u001b[0m \u001b[0;34m\u001b[0m\u001b[0m\n\u001b[1;32m     57\u001b[0m     \u001b[0;32mtry\u001b[0m\u001b[0;34m:\u001b[0m\u001b[0;34m\u001b[0m\u001b[0;34m\u001b[0m\u001b[0m\n\u001b[0;32m---> 58\u001b[0;31m         \u001b[0;32mreturn\u001b[0m \u001b[0mbound\u001b[0m\u001b[0;34m(\u001b[0m\u001b[0;34m*\u001b[0m\u001b[0margs\u001b[0m\u001b[0;34m,\u001b[0m \u001b[0;34m**\u001b[0m\u001b[0mkwds\u001b[0m\u001b[0;34m)\u001b[0m\u001b[0;34m\u001b[0m\u001b[0;34m\u001b[0m\u001b[0m\n\u001b[0m\u001b[1;32m     59\u001b[0m     \u001b[0;32mexcept\u001b[0m \u001b[0mTypeError\u001b[0m\u001b[0;34m:\u001b[0m\u001b[0;34m\u001b[0m\u001b[0;34m\u001b[0m\u001b[0m\n\u001b[1;32m     60\u001b[0m         \u001b[0;31m# A TypeError occurs if the object does have such a method in its\u001b[0m\u001b[0;34m\u001b[0m\u001b[0;34m\u001b[0m\u001b[0;34m\u001b[0m\u001b[0m\n",
      "\u001b[0;31mValueError\u001b[0m: cannot reshape array of size 351 into shape (26,26)"
     ]
    }
   ],
   "source": [
    "test_spd_Y_hat = knn_model.predict(test_X)"
   ]
  },
  {
   "cell_type": "code",
   "execution_count": null,
   "metadata": {},
   "outputs": [],
   "source": [
    "print(accuracy_score(test_Y, test_spd_Y_hat))\n",
    "print(precision_score(test_Y, test_spd_Y_hat,average='micro'))\n",
    "print(recall_score(test_Y, test_spd_Y_hat,average='micro'))\n",
    "print(f1_score(test_Y, test_spd_Y_hat,average='micro'))\n",
    "print(classification_report(test_Y, test_spd_Y_hat))"
   ]
  },
  {
   "cell_type": "markdown",
   "metadata": {},
   "source": [
    "A riedis\n",
    "\n",
    "0.9616935483870968\n",
    "\n",
    "0.9616935483870968\n",
    "\n",
    "0.9616935483870968\n",
    "\n",
    "0.9616935483870968\n",
    "\n",
    "          precision    recall  f1-score   support\n",
    "\n",
    "     0.0       0.92      0.99      0.95       242\n",
    "     1.0       0.87      1.00      0.93       218\n",
    "     2.0       0.89      0.91      0.90       246\n",
    "     3.0       1.00      1.00      1.00       242\n",
    "     4.0       0.90      0.88      0.89       247\n",
    "     5.0       0.98      0.99      0.99       243\n",
    "     6.0       0.99      0.97      0.98       249\n",
    "     7.0       1.00      0.94      0.97       553\n",
    "     8.0       1.00      0.98      0.99       242\n",
    "     9.0       1.00      0.96      0.98       245\n",
    "    10.0       1.00      1.00      1.00       249\n",
    "\n",
    "accuracy                           0.96      2976\n",
    "\n",
    "\n",
    "macro avg 0.96 0.97 0.96 2976 weighted avg 0.96 0.96 0.96 2976\n"
   ]
  },
  {
   "cell_type": "markdown",
   "metadata": {},
   "source": [
    "## J\n",
    "0.9637096774193549\n",
    "0.9637096774193549\n",
    "0.9637096774193549\n",
    "0.9637096774193549\n",
    "              precision    recall  f1-score   support\n",
    "\n",
    "         0.0       0.93      0.99      0.96       242\n",
    "         1.0       0.91      1.00      0.95       218\n",
    "         2.0       0.87      0.91      0.89       246\n",
    "         3.0       1.00      1.00      1.00       242\n",
    "         4.0       0.90      0.86      0.88       247\n",
    "         5.0       0.98      0.99      0.98       243\n",
    "         6.0       0.99      0.97      0.98       249\n",
    "         7.0       1.00      0.96      0.98       553\n",
    "         8.0       1.00      0.97      0.98       242\n",
    "         9.0       1.00      0.96      0.98       245\n",
    "        10.0       1.00      1.00      1.00       249\n",
    "\n",
    "    accuracy                           0.96      2976\n",
    "   macro avg       0.96      0.96      0.96      2976\n",
    "weighted avg       0.96      0.96      0.96      2976"
   ]
  },
  {
   "cell_type": "code",
   "execution_count": null,
   "metadata": {},
   "outputs": [],
   "source": []
  }
 ],
 "metadata": {
  "kernelspec": {
   "display_name": "Python [conda env:grdenv]",
   "language": "python",
   "name": "conda-env-grdenv-py"
  },
  "language_info": {
   "codemirror_mode": {
    "name": "ipython",
    "version": 3
   },
   "file_extension": ".py",
   "mimetype": "text/x-python",
   "name": "python",
   "nbconvert_exporter": "python",
   "pygments_lexer": "ipython3",
   "version": "3.7.10"
  }
 },
 "nbformat": 4,
 "nbformat_minor": 5
}
